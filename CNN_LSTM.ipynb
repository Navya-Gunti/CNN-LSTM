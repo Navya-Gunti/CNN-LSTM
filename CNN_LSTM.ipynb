{
  "nbformat": 4,
  "nbformat_minor": 0,
  "metadata": {
    "colab": {
      "name": "CNN_LSTM.ipynb",
      "provenance": [],
      "collapsed_sections": []
    },
    "kernelspec": {
      "name": "python3",
      "display_name": "Python 3"
    },
    "language_info": {
      "name": "python"
    }
  },
  "cells": [
    {
      "cell_type": "code",
      "execution_count": 1,
      "metadata": {
        "colab": {
          "base_uri": "https://localhost:8080/"
        },
        "id": "U9Tv3Mrx9I-y",
        "outputId": "633c2206-ffc4-4d9f-e49f-dd9b5902b999"
      },
      "outputs": [
        {
          "output_type": "stream",
          "name": "stdout",
          "text": [
            "Mounted at /content/gdrive\n"
          ]
        }
      ],
      "source": [
        "from google.colab import drive\n",
        "drive.mount('/content/gdrive')"
      ]
    },
    {
      "cell_type": "code",
      "source": [
        "import pandas as pd\n",
        "import matplotlib.pyplot as plt\n",
        "import numpy as np\n",
        "import seaborn as sns\n",
        "import nltk\n",
        "from nltk.corpus import names\n",
        "import random\n",
        "from nltk.classify import apply_features\n",
        "nltk.download('names')"
      ],
      "metadata": {
        "colab": {
          "base_uri": "https://localhost:8080/"
        },
        "id": "TC7-GJ6k9Qcz",
        "outputId": "945bcd6a-b75b-4bd3-aae9-6fdb5ab33c99"
      },
      "execution_count": 2,
      "outputs": [
        {
          "output_type": "stream",
          "name": "stdout",
          "text": [
            "[nltk_data] Downloading package names to /root/nltk_data...\n",
            "[nltk_data]   Unzipping corpora/names.zip.\n"
          ]
        },
        {
          "output_type": "execute_result",
          "data": {
            "text/plain": [
              "True"
            ]
          },
          "metadata": {},
          "execution_count": 2
        }
      ]
    },
    {
      "cell_type": "code",
      "source": [
        "Gender_names = ([(name, 1.0) for name in names.words('male.txt')] + \\\n",
        "[(name, 0.0 ) for name in names.words('female.txt')])\n",
        "random.seed(21)\n",
        "random.shuffle(Gender_names)\n",
        "print(Gender_names)"
      ],
      "metadata": {
        "colab": {
          "base_uri": "https://localhost:8080/"
        },
        "id": "jm1Rg7fJ9d1C",
        "outputId": "6b9b3bc1-0493-4969-f059-2f343e051bd8"
      },
      "execution_count": 3,
      "outputs": [
        {
          "output_type": "stream",
          "name": "stdout",
          "text": [
            "[('Dorette', 0.0), ('Michaelina', 0.0), ('Derrol', 1.0), ('Rozella', 0.0), ('Van', 1.0), ('Amaleta', 0.0), ('Ephram', 1.0), ('Allis', 0.0), ('Arden', 0.0), ('Jana', 0.0), ('Arlee', 0.0), ('Flo', 0.0), ('Adair', 1.0), ('Emilio', 1.0), ('Woody', 1.0), ('Lemar', 1.0), ('Philly', 0.0), ('Bertie', 0.0), ('Raquel', 0.0), ('Danie', 1.0), ('Jilleen', 0.0), ('Ashli', 0.0), ('Fan', 0.0), ('Tharen', 1.0), ('Richard', 1.0), ('Jess', 1.0), ('Joya', 0.0), ('Yonina', 0.0), ('Endora', 0.0), ('Bing', 1.0), ('Madelin', 0.0), ('Amata', 0.0), ('Sumner', 1.0), ('Tito', 1.0), ('Beverlie', 0.0), ('Roger', 1.0), ('Pippy', 0.0), ('Les', 1.0), ('Hersch', 1.0), ('Adelle', 0.0), ('JoAnne', 0.0), ('Duffie', 1.0), ('Emilia', 0.0), ('Trula', 0.0), ('Lizabeth', 0.0), ('Clare', 1.0), ('Lanita', 0.0), ('Yoko', 0.0), ('Johnathan', 1.0), ('Welch', 1.0), ('Thia', 0.0), ('Sarine', 0.0), ('Felicle', 0.0), ('Joyan', 0.0), ('Nicolle', 0.0), ('Mirilla', 0.0), ('Colleen', 0.0), ('Ashleigh', 0.0), ('Ev', 1.0), ('Anitra', 0.0), ('Phil', 1.0), ('Jehanna', 0.0), ('Catriona', 0.0), ('Maribeth', 0.0), ('Lou', 1.0), ('Bianca', 0.0), ('Corliss', 0.0), ('Maurise', 0.0), ('Mikhail', 1.0), ('Ritchie', 1.0), ('Corena', 0.0), ('Suzan', 0.0), ('Thayne', 1.0), ('Henrie', 1.0), ('Theresita', 0.0), ('Debbi', 0.0), ('Robinett', 0.0), ('Jannel', 0.0), ('Ondrea', 0.0), ('Hewitt', 1.0), ('Dorian', 1.0), ('Genia', 0.0), ('Kelley', 0.0), ('Tildi', 0.0), ('Kathlene', 0.0), ('Drea', 0.0), ('Genni', 0.0), ('Kaitlynn', 0.0), ('Merrel', 1.0), ('Waldemar', 1.0), ('Alyda', 0.0), ('Dasya', 0.0), ('Leticia', 0.0), ('Quintina', 0.0), ('Bianka', 0.0), ('Robbie', 1.0), ('Tiffanie', 0.0), ('Shela', 0.0), ('Kamila', 0.0), ('Fortuna', 0.0), ('Lauren', 1.0), ('Sascha', 1.0), ('Addie', 1.0), ('Evy', 0.0), ('Pia', 0.0), ('Crystie', 0.0), ('Mahmoud', 1.0), ('Carola', 0.0), ('Vernor', 1.0), ('Cybil', 0.0), ('Slade', 1.0), ('Marwin', 1.0), ('Ozzy', 1.0), ('Kynthia', 0.0), ('Zeb', 1.0), ('Letti', 0.0), ('Anja', 0.0), ('Tirrell', 1.0), ('Torrie', 0.0), ('Sara-Ann', 0.0), ('Jef', 1.0), ('Viole', 0.0), ('Kimmy', 0.0), ('Parker', 1.0), ('Rubia', 0.0), ('Mirna', 0.0), ('Evaleen', 0.0), ('Lia', 0.0), ('Ethyl', 0.0), ('Audrey', 0.0), ('Daryl', 1.0), ('Pepito', 1.0), ('Emogene', 0.0), ('Mathias', 1.0), ('Adaline', 0.0), ('Ajay', 1.0), ('Gayla', 0.0), ('Stepha', 0.0), ('Yank', 1.0), ('Nikki', 1.0), ('Ardine', 0.0), ('Kristy', 0.0), ('Lurline', 0.0), ('Ram', 1.0), ('Salim', 1.0), ('Sterne', 1.0), ('Nellie', 0.0), ('Loralyn', 0.0), ('Aubrie', 0.0), ('Fenelia', 0.0), ('Ronna', 0.0), ('Edgar', 1.0), ('Renaud', 1.0), ('Keeley', 0.0), ('Tiertza', 0.0), ('Babs', 0.0), ('Robbin', 0.0), ('Roderich', 1.0), ('Gretta', 0.0), ('Joan', 0.0), ('Townie', 1.0), ('Annalise', 0.0), ('Shanta', 0.0), ('Jyoti', 0.0), ('Emile', 1.0), ('Terry', 1.0), ('Charla', 0.0), ('Colly', 0.0), ('Sherri', 0.0), ('Julio', 1.0), ('Devon', 0.0), ('Barr', 1.0), ('Roddy', 1.0), ('Ina', 0.0), ('Quincy', 1.0), ('Felita', 0.0), ('Uta', 0.0), ('Darth', 1.0), ('Marielle', 0.0), ('Reilly', 1.0), ('Lance', 1.0), ('Antonietta', 0.0), ('Jaquith', 0.0), ('Rhodia', 0.0), ('Oral', 1.0), ('Aurelie', 0.0), ('Gabbie', 0.0), ('Fayth', 0.0), ('Jerrie', 1.0), ('Meredithe', 0.0), ('Lesly', 0.0), ('Chrissy', 0.0), ('Matelda', 0.0), ('Thadeus', 1.0), ('Chane', 1.0), ('Kelsey', 1.0), ('Abbi', 0.0), ('Glynis', 0.0), ('Zondra', 0.0), ('Blinni', 0.0), ('Lenny', 1.0), ('Carroll', 0.0), ('Adelice', 0.0), ('Danella', 0.0), ('Emanuel', 1.0), ('Sax', 1.0), ('Sheela', 0.0), ('Demetrius', 1.0), ('Stew', 1.0), ('Emelda', 0.0), ('Linette', 0.0), ('Westbrooke', 1.0), ('Adolph', 1.0), ('Gamaliel', 1.0), ('Michal', 1.0), ('Davida', 0.0), ('Jean', 0.0), ('Robby', 0.0), ('Georgina', 0.0), ('Ailene', 0.0), ('Hertha', 0.0), ('Sybille', 0.0), ('Xerxes', 1.0), ('Steward', 1.0), ('Beatrice', 0.0), ('Jeff', 1.0), ('Margaux', 0.0), ('Caryl', 0.0), ('Durward', 1.0), ('Riccardo', 1.0), ('Mabel', 0.0), ('Tamara', 0.0), ('Verne', 1.0), ('Angus', 1.0), ('Merell', 1.0), ('Karry', 0.0), ('Kyle', 1.0), ('Stacey', 0.0), ('Owen', 1.0), ('Fancy', 0.0), ('Ardyce', 0.0), ('Julian', 1.0), ('Shoshana', 0.0), ('Bo', 1.0), ('Shamus', 1.0), ('Jillian', 0.0), ('Perceval', 1.0), ('Chriss', 0.0), ('Neila', 0.0), ('Dory', 0.0), ('Tierney', 0.0), ('Merrill', 1.0), ('Betta', 0.0), ('Cherey', 0.0), ('Tonnie', 1.0), ('Baxter', 1.0), ('Jacinta', 0.0), ('Rivkah', 0.0), ('Ruthi', 0.0), ('Worthington', 1.0), ('Kissiah', 0.0), ('Ava', 0.0), ('Nicki', 0.0), ('Melitta', 0.0), ('Nathanil', 1.0), ('Griffith', 1.0), ('Sydel', 0.0), ('Ciel', 0.0), ('Tamera', 0.0), ('Gabriell', 0.0), ('Tiphanie', 0.0), ('Iris', 0.0), ('Stuart', 1.0), ('Billy', 1.0), ('Meriel', 0.0), ('Jillene', 0.0), ('Irita', 0.0), ('Rainer', 1.0), ('Mela', 0.0), ('Reggie', 1.0), ('Paloma', 0.0), ('Fleming', 1.0), ('Adriane', 0.0), ('Hyacinthia', 0.0), ('Clint', 1.0), ('Pamelina', 0.0), ('Gabrila', 0.0), ('Tracy', 1.0), ('Lita', 0.0), ('Candace', 0.0), ('Rabi', 1.0), ('Regen', 1.0), ('Gerrit', 1.0), ('Connie', 1.0), ('Vance', 1.0), ('Barrie', 1.0), ('Mortie', 1.0), ('Shaylah', 0.0), ('Hannibal', 0.0), ('Marti', 0.0), ('Ariadne', 0.0), ('Trescha', 0.0), ('Norean', 0.0), ('Merle', 1.0), ('Orson', 1.0), ('Melodie', 0.0), ('Ilsa', 0.0), ('Manny', 1.0), ('Britt', 0.0), ('Ignace', 1.0), ('Vite', 1.0), ('Sonnie', 0.0), ('Selinda', 0.0), ('Odessa', 0.0), ('Elsy', 0.0), ('Torey', 0.0), ('Trace', 1.0), ('Melly', 0.0), ('Wilmer', 1.0), ('Guillemette', 0.0), ('Hedda', 0.0), ('Lynelle', 0.0), ('Erich', 1.0), ('Suzanne', 0.0), ('Errol', 1.0), ('Deonne', 0.0), ('Celine', 0.0), ('Gino', 1.0), ('Deena', 0.0), ('Francoise', 0.0), ('Wynne', 0.0), ('Lorianna', 0.0), ('Lyn', 1.0), ('Deloria', 0.0), ('Rodrigo', 1.0), ('Omar', 1.0), ('Terrel', 1.0), ('Maddalena', 0.0), ('Mellie', 0.0), ('Dulcie', 0.0), ('Melisse', 0.0), ('Darline', 0.0), ('Winford', 1.0), ('Thatch', 1.0), ('Kevyn', 0.0), ('Nils', 1.0), ('Kathye', 0.0), ('Hymie', 1.0), ('Giorgi', 1.0), ('Ardeen', 0.0), ('Abby', 1.0), ('Hope', 0.0), ('Sherman', 1.0), ('Alyssa', 0.0), ('Anselm', 1.0), ('Jennette', 0.0), ('Alaa', 1.0), ('Kostas', 1.0), ('Laila', 0.0), ('Mab', 0.0), ('Winna', 0.0), ('Barthel', 1.0), ('Cari', 0.0), ('Conrad', 1.0), ('Ros', 0.0), ('Davoud', 1.0), ('Fletcher', 1.0), ('Hadrian', 1.0), ('Garwood', 1.0), ('Douglis', 1.0), ('Camile', 0.0), ('Loella', 0.0), ('Shelbi', 0.0), ('Bell', 0.0), ('Karole', 0.0), ('Diann', 0.0), ('Hestia', 0.0), ('Ulrika', 0.0), ('Clovis', 0.0), ('Eartha', 0.0), ('Ernestine', 0.0), ('Irvin', 1.0), ('Meta', 0.0), ('Bernete', 0.0), ('Ham', 1.0), ('Daryl', 0.0), ('Collete', 0.0), ('Ulrick', 1.0), ('Randi', 1.0), ('Catrina', 0.0), ('Johnna', 0.0), ('Lavinie', 0.0), ('Manon', 0.0), ('Otis', 1.0), ('Calida', 0.0), ('Halimeda', 0.0), ('Shel', 0.0), ('Sybila', 0.0), ('Theda', 0.0), ('Meghan', 0.0), ('Webster', 1.0), ('Kerrin', 0.0), ('Wilona', 0.0), ('Luce', 0.0), ('Tine', 0.0), ('Rhianon', 0.0), ('Gregg', 1.0), ('Taylor', 1.0), ('Bella', 0.0), ('Mercedes', 0.0), ('Thatcher', 1.0), ('Clark', 1.0), ('Winifred', 0.0), ('Ursola', 0.0), ('Elana', 0.0), ('Chaddy', 1.0), ('Sigrid', 0.0), ('Gwyn', 0.0), ('Garret', 1.0), ('Kayle', 0.0), ('Madona', 0.0), ('Constantine', 1.0), ('Kelsi', 0.0), ('Bernadette', 0.0), ('Sheff', 1.0), ('Clarence', 1.0), ('Myrta', 0.0), ('Jackelyn', 0.0), ('Shellie', 0.0), ('Loree', 0.0), ('Shirleen', 0.0), ('Genevra', 0.0), ('Damian', 1.0), ('Stephine', 0.0), ('Byron', 1.0), ('Kaleb', 1.0), ('Candie', 0.0), ('Bette', 0.0), ('Thom', 1.0), ('Cherin', 0.0), ('Clay', 1.0), ('Lowell', 1.0), ('Theophyllus', 1.0), ('Cain', 1.0), ('Deeann', 0.0), ('Nesta', 0.0), ('Elisabet', 0.0), ('Esau', 1.0), ('Nevil', 1.0), ('Herta', 0.0), ('Wilden', 1.0), ('Kalman', 1.0), ('Opalina', 0.0), ('Rusty', 1.0), ('Goldie', 0.0), ('Martha', 0.0), ('Jacquelyn', 0.0), ('Maria', 0.0), ('Mariquilla', 0.0), ('Geoffry', 1.0), ('Winny', 1.0), ('Ximenez', 1.0), ('Trevar', 1.0), ('Jolene', 0.0), ('Netti', 0.0), ('Mendel', 1.0), ('Wilhelmine', 0.0), ('Thomasine', 0.0), ('Zackariah', 1.0), ('Judith', 1.0), ('Malka', 0.0), ('Johnny', 1.0), ('Mozelle', 0.0), ('Bayard', 1.0), ('Cathrin', 0.0), ('Von', 1.0), ('Thane', 1.0), ('Quintus', 1.0), ('Marena', 0.0), ('Chastity', 0.0), ('Milton', 1.0), ('Tildie', 0.0), ('Maudie', 0.0), ('Sheldon', 1.0), ('Grover', 1.0), ('Hendrik', 1.0), ('Marnie', 0.0), ('Ronni', 0.0), ('Colbert', 1.0), ('Diane', 0.0), ('Vinni', 0.0), ('Augustin', 1.0), ('Fran', 0.0), ('Cary', 1.0), ('Mariska', 0.0), ('Ole', 1.0), ('Yance', 1.0), ('Cecily', 0.0), ('Hillard', 1.0), ('Noe', 1.0), ('Meggy', 0.0), ('Winnie', 1.0), ('Tami', 0.0), ('Aubert', 1.0), ('Guillermo', 1.0), ('Rahul', 1.0), ('Valery', 0.0), ('Lanette', 0.0), ('Parwane', 0.0), ('Hirsch', 1.0), ('Ranna', 0.0), ('Donni', 0.0), ('Stefano', 1.0), ('Adina', 0.0), ('Elyn', 0.0), ('Gabie', 0.0), ('Nonie', 0.0), ('Fancie', 0.0), ('Bartholemy', 1.0), ('Xylina', 0.0), ('Heddie', 0.0), ('Vanna', 0.0), ('Arleen', 0.0), ('Essa', 0.0), ('Shana', 0.0), ('Creighton', 1.0), ('Cam', 0.0), ('Donna', 0.0), ('Suzie', 0.0), ('Willard', 1.0), ('Nora', 0.0), ('Cory', 0.0), ('Valentine', 1.0), ('Benny', 0.0), ('Annabella', 0.0), ('Charmine', 0.0), ('Adi', 0.0), ('Britt', 1.0), ('Patrick', 1.0), ('Crissie', 0.0), ('Felicity', 0.0), ('Corky', 1.0), ('Erminia', 0.0), ('Juergen', 1.0), ('Maurine', 0.0), ('Odilia', 0.0), ('Issie', 0.0), ('Darya', 0.0), ('Willy', 1.0), ('Carree', 0.0), ('Emery', 1.0), ('Marty', 0.0), ('Doretta', 0.0), ('Alma', 0.0), ('Vikky', 0.0), ('Gladi', 0.0), ('Valeria', 0.0), ('Lavina', 0.0), ('Clarita', 0.0), ('Devin', 0.0), ('Emmy', 0.0), ('Churchill', 1.0), ('Elinor', 0.0), ('Davis', 1.0), ('Sherlocke', 1.0), ('Dafna', 0.0), ('Zahara', 0.0), ('Mona', 0.0), ('Eulalie', 0.0), ('Lucienne', 0.0), ('Hank', 1.0), ('Violette', 0.0), ('Kameko', 0.0), ('Gilligan', 0.0), ('Blondy', 0.0), ('Murial', 0.0), ('Mufi', 0.0), ('Michaella', 0.0), ('Jenna', 0.0), ('Stavros', 1.0), ('Leelah', 0.0), ('Suzi', 0.0), ('Madelyn', 0.0), ('Romonda', 0.0), ('Marylee', 0.0), ('Albertine', 0.0), ('Radcliffe', 1.0), ('Carlotta', 0.0), ('Gussy', 0.0), ('Alexi', 0.0), ('Courtney', 0.0), ('Aurelia', 0.0), ('Delinda', 0.0), ('Hal', 1.0), ('Stanwood', 1.0), ('Roxi', 0.0), ('Petronille', 0.0), ('Lee', 0.0), ('Beverie', 0.0), ('Yardley', 1.0), ('Myna', 0.0), ('Georgeta', 0.0), ('Vassily', 1.0), ('Margy', 0.0), ('Tallia', 0.0), ('Anet', 0.0), ('Hinda', 0.0), ('Kelly', 1.0), ('Hilary', 0.0), ('Rachel', 0.0), ('Jobie', 0.0), ('Mendie', 1.0), ('Dacy', 0.0), ('Alexander', 1.0), ('Wilbert', 1.0), ('Vail', 1.0), ('Harrold', 1.0), ('Ceil', 0.0), ('Sergent', 1.0), ('Claudelle', 0.0), ('Donn', 1.0), ('Benedicta', 0.0), ('Valentia', 0.0), ('Jeremy', 1.0), ('Chen', 1.0), ('Amalia', 0.0), ('Dian', 0.0), ('Gwenni', 0.0), ('Annabal', 0.0), ('Randy', 0.0), ('Bill', 1.0), ('Brooks', 1.0), ('Jacquie', 0.0), ('Bebe', 0.0), ('Genvieve', 0.0), ('Ashton', 1.0), ('Serge', 1.0), ('Tamma', 0.0), ('Tera', 0.0), ('Letty', 0.0), ('Anatoly', 1.0), ('Guido', 1.0), ('Erma', 0.0), ('Shelton', 1.0), ('Berthe', 0.0), ('Dalila', 0.0), ('Nanon', 0.0), ('Weider', 1.0), ('Emeline', 0.0), ('Joshua', 1.0), ('Delcine', 0.0), ('Tucky', 1.0), ('Chariot', 1.0), ('Karen', 0.0), ('Sabine', 0.0), ('Edi', 0.0), ('Guillema', 0.0), ('Morse', 1.0), ('Anya', 0.0), ('Marit', 0.0), ('Darb', 0.0), ('Blair', 1.0), ('Noreen', 0.0), ('Leila', 0.0), ('Edee', 0.0), ('Petey', 1.0), ('Jordanna', 0.0), ('Nichols', 1.0), ('Malvina', 0.0), ('Maxwell', 1.0), ('Loren', 1.0), ('Demetris', 1.0), ('Kyrstin', 0.0), ('Marlane', 0.0), ('Monroe', 1.0), ('Odelinda', 0.0), ('Analise', 0.0), ('Filmore', 1.0), ('Nick', 1.0), ('Claretta', 0.0), ('Gabriel', 0.0), ('Cornelius', 1.0), ('Julia', 0.0), ('Tracie', 0.0), ('Renado', 1.0), ('Christin', 0.0), ('Tracie', 1.0), ('Row', 0.0), ('Euphemia', 0.0), ('Adella', 0.0), ('Jeraldine', 0.0), ('Ranique', 0.0), ('Desiri', 0.0), ('Amber', 0.0), ('Verina', 0.0), ('Pier', 0.0), ('Minda', 0.0), ('Kym', 0.0), ('Thekla', 0.0), ('Cinda', 0.0), ('Rosalyn', 0.0), ('Rheta', 0.0), ('Francois', 1.0), ('Alissa', 0.0), ('Robinia', 0.0), ('Regan', 1.0), ('Valerie', 0.0), ('Mariejeanne', 0.0), ('Reta', 0.0), ('Bernhard', 1.0), ('Marie-Jeanne', 0.0), ('Kitti', 0.0), ('Rianon', 0.0), ('Gweneth', 0.0), ('Amandi', 0.0), ('Nelie', 0.0), ('Spike', 1.0), ('Darrick', 1.0), ('Layton', 1.0), ('Lynnett', 0.0), ('Susanne', 0.0), ('Karlyn', 0.0), ('Pansy', 0.0), ('Tabby', 0.0), ('Abra', 0.0), ('Hasty', 1.0), ('Agnese', 0.0), ('Bliss', 0.0), ('Arleyne', 0.0), ('Melloney', 0.0), ('Vitoria', 0.0), ('Cleva', 0.0), ('Larina', 0.0), ('Howard', 1.0), ('Carlita', 0.0), ('Valina', 0.0), ('Tome', 1.0), ('August', 1.0), ('Raf', 0.0), ('Natasha', 0.0), ('Cletus', 1.0), ('Bailey', 1.0), ('Caprice', 0.0), ('Istvan', 1.0), ('Libby', 0.0), ('Desdemona', 0.0), ('Corrie', 1.0), ('Teddie', 1.0), ('Orrin', 1.0), ('Ewan', 1.0), ('Shanon', 0.0), ('Binky', 1.0), ('Lorraine', 0.0), ('Ibby', 0.0), ('Minna', 0.0), ('Lisha', 0.0), ('Natalia', 0.0), ('Husein', 1.0), ('Jude', 1.0), ('Vicki', 0.0), ('Marthena', 0.0), ('Sara', 0.0), ('Blancha', 0.0), ('Almeta', 0.0), ('Dryke', 1.0), ('Ailee', 0.0), ('Nikoletta', 0.0), ('Fanechka', 0.0), ('Anne-Mar', 0.0), ('Sibby', 0.0), ('Roberta', 0.0), ('Elvis', 1.0), ('Louisa', 0.0), ('Dorolisa', 0.0), ('Niccolo', 1.0), ('Spiros', 1.0), ('Fitzgerald', 1.0), ('Chelsy', 0.0), ('Sullivan', 1.0), ('Tresa', 0.0), ('Raymundo', 1.0), ('Witty', 1.0), ('Magdalena', 0.0), ('Brea', 0.0), ('Erhard', 1.0), ('Willi', 1.0), ('Trish', 0.0), ('Clinten', 1.0), ('Lilas', 0.0), ('Genovera', 0.0), ('Lorri', 0.0), ('Malina', 0.0), ('Sawyer', 1.0), ('Cathee', 0.0), ('Humphrey', 1.0), ('Ree', 0.0), ('Percival', 1.0), ('Lizzie', 0.0), ('Charles', 1.0), ('Ainsley', 0.0), ('Quill', 1.0), ('Ashley', 1.0), ('Deina', 0.0), ('Lissy', 0.0), ('Libbey', 0.0), ('Orville', 1.0), ('Bunnie', 0.0), ('Salvidor', 1.0), ('Brita', 0.0), ('Emmy', 1.0), ('Ventura', 0.0), ('Dana', 1.0), ('Barrett', 1.0), ('Tabor', 1.0), ('Shannen', 0.0), ('Gwenny', 0.0), ('Bridgett', 0.0), ('Oswald', 1.0), ('Lovell', 1.0), ('Cherri', 0.0), ('Christabelle', 0.0), ('Ruella', 0.0), ('Aharon', 1.0), ('La', 0.0), ('Wain', 1.0), ('Danielle', 0.0), ('Jorge', 1.0), ('Katinka', 0.0), ('Hendrick', 1.0), ('Gwendolyn', 0.0), ('Gabriela', 0.0), ('Dotti', 0.0), ('Roselyn', 0.0), ('Tobe', 0.0), ('Lilla', 0.0), ('Florence', 0.0), ('Susette', 0.0), ('Paul', 1.0), ('Betteann', 0.0), ('Freemon', 1.0), ('Kayla', 0.0), ('Arne', 1.0), ('Georgiana', 0.0), ('Anatollo', 1.0), ('Lois', 0.0), ('Moore', 1.0), ('Bobine', 0.0), ('Robina', 0.0), ('Agretha', 0.0), ('Bryna', 0.0), ('Maxie', 1.0), ('Karissa', 0.0), ('Tarra', 0.0), ('Rayner', 1.0), ('Moina', 0.0), ('Krissy', 0.0), ('Abigail', 0.0), ('Ephrayim', 1.0), ('Trude', 0.0), ('Myke', 1.0), ('Francesca', 0.0), ('Cyndi', 0.0), ('Veradis', 0.0), ('Hussein', 1.0), ('Georgie', 0.0), ('Katharina', 0.0), ('Forrester', 1.0), ('Taber', 1.0), ('Adey', 0.0), ('Dorthy', 0.0), ('Lanna', 0.0), ('Glenda', 0.0), ('Fawna', 0.0), ('Rogers', 1.0), ('Gui', 0.0), ('Madelle', 0.0), ('Consolata', 0.0), ('Hedi', 0.0), ('Leanora', 0.0), ('Lauraine', 0.0), ('Farand', 0.0), ('Rosario', 0.0), ('Raleigh', 1.0), ('Nissie', 0.0), ('Thurston', 1.0), ('Nickolas', 1.0), ('Vassili', 1.0), ('Gael', 0.0), ('Scottie', 1.0), ('Dorella', 0.0), ('Petra', 0.0), ('Gennifer', 0.0), ('Ken', 1.0), ('Krystyna', 0.0), ('Reynold', 1.0), ('Tressa', 0.0), ('Dorena', 0.0), ('Laurene', 0.0), ('Bubba', 1.0), ('Gary', 1.0), ('Nettie', 0.0), ('Donnamarie', 0.0), ('Pansie', 0.0), ('Corella', 0.0), ('Alyss', 0.0), ('Udale', 1.0), ('Dianna', 0.0), ('Elysee', 0.0), ('Maiga', 0.0), ('Chevy', 1.0), ('Brant', 1.0), ('Agustin', 1.0), ('Freddie', 1.0), ('Lola', 0.0), ('Fleurette', 0.0), ('Rubin', 1.0), ('Vanda', 0.0), ('Keil', 1.0), ('Fidela', 0.0), ('Conny', 0.0), ('Marsiella', 0.0), ('Vinny', 0.0), ('Harvard', 1.0), ('Penelope', 0.0), ('Eustace', 1.0), ('Maisie', 0.0), ('Carmella', 0.0), ('Maggy', 0.0), ('Alethea', 0.0), ('Wallas', 1.0), ('Yolane', 0.0), ('Juli', 0.0), ('Jimmie', 1.0), ('Ferinand', 1.0), ('Jae', 1.0), ('Franklyn', 1.0), ('Jo', 1.0), ('Cassandre', 0.0), ('Dickie', 1.0), ('Xavier', 1.0), ('Augustine', 1.0), ('Darsie', 0.0), ('Hilarie', 0.0), ('Jelene', 0.0), ('Nona', 0.0), ('Lindsy', 0.0), ('Fionnula', 0.0), ('Bari', 0.0), ('Winn', 1.0), ('Chancey', 1.0), ('Robb', 1.0), ('Danila', 0.0), ('Jeremiah', 1.0), ('Tarrah', 0.0), ('Estella', 0.0), ('Mandy', 0.0), ('Eran', 0.0), ('Waylin', 1.0), ('Chev', 1.0), ('Tallie', 0.0), ('Magnus', 1.0), ('Elinore', 0.0), ('Isa', 0.0), ('Alia', 0.0), ('Tandy', 0.0), ('Tessie', 0.0), ('Franciska', 0.0), ('Karoline', 0.0), ('Jolynn', 0.0), ('Birgitta', 0.0), ('Lucky', 0.0), ('Susie', 0.0), ('Jeanette', 0.0), ('Lilias', 0.0), ('Zed', 1.0), ('Elizabet', 0.0), ('Oberon', 1.0), ('Agatha', 0.0), ('Daveen', 0.0), ('Zacharias', 1.0), ('Otto', 1.0), ('Gustavo', 1.0), ('Genevieve', 0.0), ('Gordie', 1.0), ('Terrye', 0.0), ('Karleen', 0.0), ('Stephie', 0.0), ('Mattie', 1.0), ('Harwell', 1.0), ('Addis', 0.0), ('Joellen', 0.0), ('Madge', 0.0), ('Maren', 0.0), ('Marlon', 1.0), ('Jane', 0.0), ('Tamas', 1.0), ('Quigman', 1.0), ('Janka', 0.0), ('Thedric', 1.0), ('Tonia', 0.0), ('Pammie', 0.0), ('Heidie', 0.0), ('Maryjo', 0.0), ('Bernice', 0.0), ('Audra', 0.0), ('Allah', 1.0), ('Daffy', 0.0), ('Levi', 1.0), ('Catherina', 0.0), ('Harriot', 0.0), ('Jennica', 0.0), ('Layney', 0.0), ('Ambrosi', 1.0), ('Mireille', 0.0), ('Zaneta', 0.0), ('Charis', 0.0), ('Gredel', 0.0), ('Dale', 0.0), ('Sophie', 0.0), ('Chelsie', 0.0), ('Elbertine', 0.0), ('Kailey', 0.0), ('Ruby', 0.0), ('Wilie', 0.0), ('Ursa', 0.0), ('Lothar', 1.0), ('Britaney', 0.0), ('Matilde', 0.0), ('Boris', 1.0), ('Carie', 0.0), ('Sabrina', 0.0), ('Sidnee', 1.0), ('Arturo', 1.0), ('Harald', 1.0), ('Patricia', 0.0), ('Willyt', 0.0), ('Carolin', 0.0), ('Wilburn', 1.0), ('Kata', 0.0), ('Vittoria', 0.0), ('Sibbie', 0.0), ('Filipe', 1.0), ('Hayley', 0.0), ('Franky', 1.0), ('Richie', 1.0), ('Stormi', 0.0), ('Sherlock', 1.0), ('Wally', 1.0), ('Temple', 1.0), ('Yevette', 0.0), ('Shirley', 0.0), ('Dulcea', 0.0), ('Ethelin', 0.0), ('Lorna', 0.0), ('Obie', 1.0), ('Hermann', 1.0), ('Quinlan', 1.0), ('Lurette', 0.0), ('Sonnie', 1.0), ('Bekki', 0.0), ('Merridie', 0.0), ('Gwendolin', 0.0), ('Reginauld', 1.0), ('Dianemarie', 0.0), ('Silvester', 1.0), ('Kelli', 0.0), ('Harriott', 0.0), ('Paco', 1.0), ('Johannah', 0.0), ('Eada', 0.0), ('Wayne', 1.0), ('Petronella', 0.0), ('Pace', 1.0), ('Wylie', 1.0), ('Abdulkarim', 1.0), ('Benni', 0.0), ('Kass', 0.0), ('Jany', 0.0), ('Demetra', 0.0), ('Tim', 1.0), ('Salem', 1.0), ('Taddeo', 1.0), ('Gerta', 0.0), ('Gregor', 1.0), ('Jackson', 1.0), ('Giorgio', 1.0), ('Charlean', 0.0), ('Enrica', 0.0), ('Louella', 0.0), ('Alexandrina', 0.0), ('Dotty', 0.0), ('Simone', 1.0), ('Doris', 0.0), ('Gerri', 1.0), ('Cherida', 0.0), ('Fayette', 0.0), ('Marie-Ann', 0.0), ('Mariann', 0.0), ('Robin', 1.0), ('Reese', 1.0), ('Dominique', 1.0), ('Leia', 0.0), ('Curtis', 1.0), ('Jerome', 1.0), ('Valaria', 0.0), ('Coriss', 0.0), ('Aldo', 1.0), ('Pam', 0.0), ('Sayre', 0.0), ('Dagmar', 0.0), ('Millisent', 0.0), ('Adelaide', 0.0), ('Martainn', 1.0), ('Amara', 0.0), ('Caleb', 1.0), ('Karyn', 0.0), ('Darice', 0.0), ('Murdoch', 1.0), ('Laurie', 1.0), ('Grove', 1.0), ('Kermie', 1.0), ('Gerrie', 0.0), ('Vernice', 0.0), ('Jenine', 0.0), ('Cookie', 0.0), ('Jacintha', 0.0), ('Amos', 1.0), ('Franky', 0.0), ('Cris', 1.0), ('Anny', 0.0), ('Clarine', 0.0), ('Irene', 0.0), ('Coleman', 1.0), ('Delphine', 0.0), ('Blaine', 1.0), ('Wendell', 1.0), ('Brigit', 0.0), ('Rahel', 0.0), ('Sari', 0.0), ('Ronny', 0.0), ('Shannah', 0.0), ('Deloris', 0.0), ('Erminie', 0.0), ('Avril', 0.0), ('Pippa', 0.0), ('Fredric', 1.0), ('Way', 1.0), ('Hanson', 1.0), ('Susy', 0.0), ('Bathsheba', 0.0), ('Phedra', 0.0), ('Gaspar', 1.0), ('Huntlee', 1.0), ('Hetti', 0.0), ('Somerset', 1.0), ('Averyl', 0.0), ('Fernando', 1.0), ('Elayne', 0.0), ('Daisi', 0.0), ('Darwin', 1.0), ('Ervin', 1.0), ('Pascal', 1.0), ('Ophelia', 0.0), ('Meridel', 0.0), ('Paolina', 0.0), ('Amanda', 0.0), ('Daniella', 0.0), ('Wyatan', 1.0), ('June', 0.0), ('Raine', 0.0), ('Stanley', 1.0), ('Charisse', 0.0), ('Elliott', 1.0), ('Zola', 0.0), ('Billie', 0.0), ('Katherina', 0.0), ('Erin', 0.0), ('Brigid', 0.0), ('Aurel', 0.0), ('Luisa', 0.0), ('Ginnie', 0.0), ('Dinnie', 0.0), ('Bernardine', 0.0), ('Valeda', 0.0), ('Olwen', 0.0), ('Gerry', 0.0), ('Chicky', 0.0), ('Queada', 0.0), ('Joleen', 0.0), ('Concordia', 0.0), ('Morgan', 1.0), ('Ira', 1.0), ('Jamima', 0.0), ('Ignacius', 1.0), ('Kenyon', 1.0), ('Georgeanna', 0.0), ('Madison', 1.0), ('Faina', 0.0), ('Jemie', 0.0), ('Partha', 1.0), ('Mick', 1.0), ('Gera', 0.0), ('Wesley', 1.0), ('Benito', 1.0), ('Margery', 0.0), ('Roseanne', 0.0), ('Urbain', 1.0), ('Lorena', 0.0), ('Eloise', 0.0), ('Aleen', 0.0), ('Ali', 1.0), ('Dionne', 0.0), ('Ginelle', 0.0), ('Kore', 0.0), ('Sharla', 0.0), ('Leonora', 0.0), ('Steffi', 0.0), ('Spiro', 1.0), ('Emmye', 0.0), ('Zared', 1.0), ('Solange', 0.0), ('Jeanna', 0.0), ('Farica', 0.0), ('Ashlie', 0.0), ('Gayleen', 0.0), ('Mariel', 0.0), ('Danette', 0.0), ('Warren', 1.0), ('Lacee', 0.0), ('Rube', 1.0), ('Donetta', 0.0), ('Johanna', 0.0), ('Randy', 1.0), ('Angil', 0.0), ('Mayor', 1.0), ('Olympe', 0.0), ('Jobi', 0.0), ('Cory', 1.0), ('Glynnis', 0.0), ('Diane-Marie', 0.0), ('Sue', 0.0), ('Martguerita', 0.0), ('Lisbeth', 0.0), ('Milt', 1.0), ('Mallissa', 0.0), ('Mohan', 1.0), ('Bev', 0.0), ('Loretta', 0.0), ('Aidan', 0.0), ('Tasia', 0.0), ('Colin', 1.0), ('Frederick', 1.0), ('Velvet', 0.0), ('Lorrin', 0.0), ('Conway', 1.0), ('Berkie', 1.0), ('Anthea', 0.0), ('Hashim', 1.0), ('Hollyanne', 0.0), ('Adria', 0.0), ('Barnie', 1.0), ('Dusty', 0.0), ('Frank', 0.0), ('Vivyan', 0.0), ('Monique', 0.0), ('Jennie', 0.0), ('Gusti', 0.0), ('Garfinkel', 1.0), ('Montague', 1.0), ('Tedda', 0.0), ('Arabel', 0.0), ('Myles', 1.0), ('Lorrie', 0.0), ('Ray', 0.0), ('Adrien', 0.0), ('Wandis', 0.0), ('Andreas', 1.0), ('Marcelo', 1.0), ('Leona', 0.0), ('Austin', 0.0), ('Isabelle', 0.0), ('Viviene', 0.0), ('Ulrica', 0.0), ('Rickie', 1.0), ('Reza', 1.0), ('Malena', 0.0), ('Auguste', 0.0), ('Zacharia', 1.0), ('Laurena', 0.0), ('Godfree', 1.0), ('Misha', 0.0), ('Sonnnie', 0.0), ('Myrilla', 0.0), ('Laraine', 0.0), ('Haleigh', 1.0), ('Howie', 1.0), ('Paige', 1.0), ('Katine', 0.0), ('Joaquin', 1.0), ('Vivienne', 0.0), ('Rhiamon', 0.0), ('Merrielle', 0.0), ('Andrei', 0.0), ('Harley', 0.0), ('Garvin', 1.0), ('Rosaline', 0.0), ('Amalle', 0.0), ('Kath', 0.0), ('Osmund', 1.0), ('See', 1.0), ('Kellia', 0.0), ('Arly', 0.0), ('Ines', 0.0), ('Suzann', 0.0), ('Ezekiel', 1.0), ('Worth', 1.0), ('Eddie', 1.0), ('Madelene', 0.0), ('Rena', 0.0), ('Ann-Mari', 0.0), ('Carolee', 0.0), ('Loren', 0.0), ('Cheri', 0.0), ('Avivah', 0.0), ('Maye', 0.0), ('Elvina', 0.0), ('Ramon', 1.0), ('Andrej', 1.0), ('Nissy', 0.0), ('Veronike', 0.0), ('Anita', 0.0), ('Alex', 0.0), ('Michel', 1.0), ('Stanleigh', 1.0), ('Christa', 0.0), ('Marjory', 0.0), ('Alan', 1.0), ('Tye', 1.0), ('Angelico', 1.0), ('Nealson', 1.0), ('Rudolfo', 1.0), ('Anastasia', 0.0), ('Jim', 1.0), ('Hodge', 1.0), ('Trudy', 0.0), ('Doro', 0.0), ('Tybie', 0.0), ('Etheline', 0.0), ('Margaretha', 0.0), ('Celeste', 0.0), ('Felicio', 1.0), ('Kyle', 0.0), ('Cinderella', 0.0), ('Neysa', 0.0), ('Gardiner', 1.0), ('Shelly', 0.0), ('Kia', 0.0), ('Mahala', 0.0), ('Vilhelmina', 0.0), ('Delcina', 0.0), ('Anabelle', 0.0), ('Roice', 1.0), ('Dorris', 0.0), ('Micheline', 0.0), ('Kirsti', 0.0), ('Monty', 1.0), ('Georgia', 1.0), ('Lanie', 0.0), ('Blondelle', 0.0), ('Laureen', 0.0), ('Koressa', 0.0), ('Donnie', 1.0), ('Malkah', 0.0), ('Maisey', 0.0), ('Stefania', 0.0), ('Farley', 1.0), ('Berte', 0.0), ('Steffane', 0.0), ('Anallese', 0.0), ('Rebbecca', 0.0), ('Siobhan', 0.0), ('Phyllida', 0.0), ('Eugine', 0.0), ('Joyce', 0.0), ('Mattias', 1.0), ('Hilda', 0.0), ('Dedie', 0.0), ('Mahesh', 1.0), ('Abby', 0.0), ('Sam', 1.0), ('Bartlett', 1.0), ('Nita', 0.0), ('Hiram', 1.0), ('Vito', 1.0), ('Hoyt', 1.0), ('Kalvin', 1.0), ('Peri', 0.0), ('Piper', 0.0), ('Tally', 0.0), ('Tobi', 0.0), ('Thomasina', 0.0), ('Fraser', 1.0), ('Sonia', 0.0), ('Editha', 0.0), ('Jaquelyn', 0.0), ('Kirsten', 0.0), ('Ulick', 1.0), ('Elva', 0.0), ('Gabriellia', 0.0), ('Ashish', 1.0), ('Derk', 1.0), ('Cherilyn', 0.0), ('Preston', 1.0), ('Kourtney', 0.0), ('Hatty', 0.0), ('Delora', 0.0), ('Kare', 0.0), ('Brianna', 0.0), ('Almeria', 0.0), ('Germaine', 1.0), ('Anton', 1.0), ('Neale', 1.0), ('Tremain', 1.0), ('Pietra', 0.0), ('Aliza', 0.0), ('Ruthy', 0.0), ('Phoebe', 0.0), ('Stearne', 1.0), ('Pryce', 1.0), ('Simone', 0.0), ('Walden', 1.0), ('Heide', 0.0), ('Xylia', 0.0), ('Quinton', 1.0), ('Nancee', 0.0), ('Fredelia', 0.0), ('Luce', 1.0), ('Secunda', 0.0), ('Wilber', 1.0), ('Lotty', 0.0), ('Raymund', 1.0), ('Patsy', 1.0), ('Sinclair', 1.0), ('Bertina', 0.0), ('Cyrille', 1.0), ('Diandra', 0.0), ('Adrick', 1.0), ('Jorry', 0.0), ('Charlene', 0.0), ('Cary', 0.0), ('Ravi', 1.0), ('Jarrett', 1.0), ('Brunella', 0.0), ('Bryant', 1.0), ('Emyle', 0.0), ('Doralynne', 0.0), ('Ingrid', 0.0), ('Elora', 0.0), ('Esteban', 1.0), ('Randolph', 1.0), ('Sheril', 0.0), ('Jemmy', 0.0), ('Clemmie', 1.0), ('Janeczka', 0.0), ('Kelly', 0.0), ('Prudy', 0.0), ('Heywood', 1.0), ('Teodoor', 1.0), ('Whitby', 1.0), ('Renaldo', 1.0), ('Aryn', 0.0), ('Sturgis', 1.0), ('Flory', 0.0), ('Desmund', 1.0), ('Phyllis', 0.0), ('Raymond', 1.0), ('Dickey', 1.0), ('Morna', 0.0), ('Jessy', 0.0), ('Allie', 0.0), ('Crysta', 0.0), ('Tomasina', 0.0), ('Hanny', 0.0), ('Cathe', 0.0), ('Elbert', 1.0), ('Claudio', 1.0), ('Titos', 1.0), ('Garv', 1.0), ('Bishop', 1.0), ('Dori', 0.0), ('Shelia', 0.0), ('Revkah', 0.0), ('Perl', 0.0), ('Nicole', 0.0), ('Leiah', 0.0), ('Armando', 1.0), ('Pedro', 1.0), ('Drew', 1.0), ('Corwin', 1.0), ('Faustine', 0.0), ('Dolly', 0.0), ('Becca', 0.0), ('Lynne', 0.0), ('Harriett', 0.0), ('Margarethe', 0.0), ('Darlene', 0.0), ('Loreen', 0.0), ('Kaylyn', 0.0), ('Fabrianne', 0.0), ('Sherill', 0.0), ('Weidar', 1.0), ('Alpa', 0.0), ('Butler', 1.0), ('Garth', 1.0), ('Kimmie', 0.0), ('Shir', 0.0), ('Lyda', 0.0), ('Josy', 0.0), ('Winnah', 0.0), ('Nelli', 0.0), ('Esme', 1.0), ('Gloriana', 0.0), ('Merrilee', 0.0), ('Rosemaria', 0.0), ('Christie', 1.0), ('Diena', 0.0), ('Gustaf', 1.0), ('Giffie', 1.0), ('Luella', 0.0), ('Saundra', 1.0), ('Carlie', 0.0), ('Daniela', 0.0), ('Roosevelt', 1.0), ('Britni', 0.0), ('Ruthe', 0.0), ('Shirline', 0.0), ('Marlin', 1.0), ('Linus', 1.0), ('Sherline', 0.0), ('Harlan', 1.0), ('Georgiamay', 0.0), ('Sly', 1.0), ('Wadsworth', 1.0), ('Elias', 1.0), ('Nelsen', 1.0), ('Gerhardt', 1.0), ('Abdel', 1.0), ('Gillan', 0.0), ('Rosina', 0.0), ('Barbe', 0.0), ('Imojean', 0.0), ('Reg', 1.0), ('Northrop', 1.0), ('Carlyn', 0.0), ('Beitris', 0.0), ('Emelia', 0.0), ('Merna', 0.0), ('Noach', 1.0), ('Nike', 0.0), ('Friedric', 1.0), ('Andrea', 1.0), ('Raven', 0.0), ('Caressa', 0.0), ('Norton', 1.0), ('Roman', 1.0), ('Skylar', 1.0), ('Robinson', 1.0), ('Ingmar', 1.0), ('Roxy', 0.0), ('Modesty', 0.0), ('Friedrick', 1.0), ('Cassandry', 0.0), ('Andrzej', 1.0), ('Fifine', 0.0), ('Gavrielle', 0.0), ('Blare', 1.0), ('Baird', 1.0), ('Laurel', 0.0), ('Thornton', 1.0), ('Mohamad', 1.0), ('Ender', 1.0), ('Minni', 0.0), ('Sylvester', 1.0), ('Mort', 1.0), ('Rex', 1.0), ('Robenia', 0.0), ('Sarena', 0.0), ('Jimmy', 1.0), ('Fayina', 0.0), ('Lena', 0.0), ('Hester', 0.0), ('Terrie', 0.0), ('Maible', 0.0), ('Warner', 1.0), ('Englebert', 1.0), ('Tadeas', 1.0), ('Dodie', 0.0), ('Celinka', 0.0), ('Sig', 1.0), ('Georgia', 0.0), ('Hamel', 1.0), ('JoAnn', 0.0), ('Nitin', 0.0), ('Linzy', 0.0), ('Keenan', 1.0), ('Worden', 1.0), ('Emmery', 1.0), ('Romeo', 1.0), ('Kirstyn', 0.0), ('Max', 0.0), ('Lonny', 1.0), ('Arline', 0.0), ('Sharie', 0.0), ('Blake', 1.0), ('Adrien', 1.0), ('Isobel', 0.0), ('Flossie', 0.0), ('Kacey', 0.0), ('Robbyn', 0.0), ('Kari', 0.0), ('Leonie', 0.0), ('Nessi', 0.0), ('Winny', 0.0), ('Dawson', 1.0), ('Ania', 0.0), ('Jemima', 0.0), ('Leif', 1.0), ('Eric', 1.0), ('Tedie', 1.0), ('Laurianne', 0.0), ('Marian', 0.0), ('Wood', 1.0), ('Hilliary', 0.0), ('Zaria', 0.0), ('Brandi', 0.0), ('Lilah', 0.0), ('Chaddie', 1.0), ('Ollie', 0.0), ('Daniel', 1.0), ('Jere', 0.0), ('Ileane', 0.0), ('Timmie', 0.0), ('Duke', 1.0), ('Tonya', 0.0), ('Alayne', 0.0), ('Arvind', 1.0), ('Rici', 0.0), ('Ertha', 0.0), ('Sula', 0.0), ('Tanney', 1.0), ('Roselle', 0.0), ('Fergus', 1.0), ('Essy', 0.0), ('Kissee', 0.0), ('Aimil', 0.0), ('Georges', 1.0), ('Kenneth', 1.0), ('Calvin', 1.0), ('Gifford', 1.0), ('Conan', 1.0), ('Rose', 0.0), ('Andy', 1.0), ('Emmalynne', 0.0), ('Myrah', 0.0), ('Byram', 1.0), ('Tabbie', 1.0), ('Katlin', 0.0), ('Lynn', 1.0), ('Lucita', 0.0), ('Augustine', 0.0), ('Greggory', 1.0), ('Riannon', 0.0), ('Daphne', 0.0), ('Petunia', 0.0), ('Kara', 0.0), ('Roshelle', 0.0), ('Judi', 0.0), ('Iona', 0.0), ('Jennings', 1.0), ('Griff', 1.0), ('Lauri', 0.0), ('Alisun', 0.0), ('Celina', 0.0), ('Sidney', 1.0), ('Walt', 1.0), ('Florance', 0.0), ('Lani', 0.0), ('Geneva', 0.0), ('Kristos', 1.0), ('Dawn', 0.0), ('Chaim', 1.0), ('Darcee', 0.0), ('Bjorne', 1.0), ('Euclid', 1.0), ('Chrissy', 1.0), ('Melesa', 0.0), ('Tann', 1.0), ('Jacinda', 0.0), ('Todd', 1.0), ('Ellwood', 1.0), ('Julina', 0.0), ('Othello', 1.0), ('Stephi', 0.0), ('Athene', 0.0), ('Sigfrid', 1.0), ('Charmian', 0.0), ('Barret', 1.0), ('Temp', 1.0), ('Thorndike', 1.0), ('Horst', 1.0), ('Leopold', 1.0), ('Annabelle', 0.0), ('Marv', 1.0), ('Rachelle', 0.0), ('Eda', 0.0), ('Merrie', 0.0), ('Caitrin', 0.0), ('Josi', 0.0), ('Gwyneth', 0.0), ('Gwenora', 0.0), ('Eliza', 0.0), ('Bharat', 1.0), ('Sianna', 0.0), ('Carol-Jean', 0.0), ('Lidia', 0.0), ('Paola', 0.0), ('Mariya', 0.0), ('Frayda', 0.0), ('Leland', 0.0), ('Sharity', 0.0), ('Tully', 1.0), ('Dorcas', 0.0), ('Kimberly', 0.0), ('Tarzan', 1.0), ('Lyndon', 1.0), ('Jud', 1.0), ('Reube', 1.0), ('Aurea', 0.0), ('Prudi', 0.0), ('Nat', 1.0), ('Jewell', 0.0), ('Corby', 1.0), ('Lorne', 1.0), ('Joseph', 1.0), ('Berchtold', 1.0), ('Samuela', 0.0), ('Pavla', 0.0), ('Maura', 0.0), ('Debra', 0.0), ('Dimitri', 1.0), ('Paige', 0.0), ('Malia', 0.0), ('Claudie', 0.0), ('Muriel', 0.0), ('Lynn', 0.0), ('Doroteya', 0.0), ('Kate', 0.0), ('Moyra', 0.0), ('Georgetta', 0.0), ('Jayme', 0.0), ('Lily', 0.0), ('Windy', 0.0), ('Mureil', 0.0), ('Elenore', 0.0), ('Meggi', 0.0), ('Adiana', 0.0), ('Engracia', 0.0), ('Jess', 0.0), ('Annmarie', 0.0), ('Gerri', 0.0), ('Hyatt', 1.0), ('Melissa', 0.0), ('Marys', 0.0), ('Irma', 0.0), ('Roxanna', 0.0), ('Fallon', 0.0), ('Rajeev', 1.0), ('Nicoline', 0.0), ('Hephzibah', 0.0), ('Edy', 0.0), ('Ernesta', 0.0), ('Leontine', 0.0), ('Cheryl', 0.0), ('Anneliese', 0.0), ('Tad', 1.0), ('Phillipp', 1.0), ('Deeanne', 0.0), ('Herrmann', 1.0), ('Toddie', 1.0), ('Shirah', 0.0), ('Conroy', 1.0), ('Dorothy', 0.0), ('Christal', 0.0), ('Darell', 0.0), ('Briana', 0.0), ('Moll', 0.0), ('Artur', 1.0), ('Orin', 1.0), ('Justin', 1.0), ('Leorah', 0.0), ('Traci', 0.0), ('Curtice', 1.0), ('Kenn', 1.0), ('Casper', 1.0), ('Hanna', 0.0), ('Nanine', 0.0), ('Dougie', 1.0), ('Selby', 1.0), ('Melli', 0.0), ('Gabriel', 1.0), ('Rosana', 0.0), ('Sonja', 0.0), ('Clyde', 1.0), ('Aldis', 1.0), ('Judah', 1.0), ('Sharlene', 0.0), ('Krystle', 0.0), ('Webb', 1.0), ('Leigh', 0.0), ('Willow', 0.0), ('Rebe', 0.0), ('Cornellis', 1.0), ('Joyous', 0.0), ('Cassy', 0.0), ('Randee', 0.0), ('Morrie', 1.0), ('Ora', 0.0), ('Pooh', 0.0), ('Cynthie', 0.0), ('Fonzie', 1.0), ('Mmarianne', 0.0), ('Ann-Marie', 0.0), ('Sibyl', 0.0), ('Andriette', 0.0), ('Gerladina', 0.0), ('Alysia', 0.0), ('Milli', 0.0), ('Trix', 0.0), ('Darelle', 0.0), ('Marissa', 0.0), ('Pauli', 0.0), ('Charil', 0.0), ('Hermine', 0.0), ('Randal', 1.0), ('Shirlene', 0.0), ('Clarie', 0.0), ('Corine', 0.0), ('Sandro', 1.0), ('Ely', 1.0), ('Imogene', 0.0), ('Ajay', 0.0), ('Doralin', 0.0), ('Dwaine', 1.0), ('Denyse', 0.0), ('Casey', 0.0), ('Katerina', 0.0), ('Orsa', 0.0), ('Loleta', 0.0), ('Charity', 0.0), ('Ragnar', 1.0), ('Roxana', 0.0), ('Garfield', 1.0), ('Christan', 0.0), ('Robin', 0.0), ('Jens', 1.0), ('Marcile', 0.0), ('Dorri', 0.0), ('Orly', 0.0), ('Brandy', 1.0), ('Erhart', 1.0), ('Foster', 1.0), ('Rhea', 0.0), ('Lewis', 1.0), ('Oswell', 1.0), ('Daune', 0.0), ('Townsend', 1.0), ('Mitchael', 1.0), ('Clarinda', 0.0), ('Lynda', 0.0), ('Lizzy', 0.0), ('Fredrick', 1.0), ('Evelyn', 0.0), ('Anders', 1.0), ('Flin', 1.0), ('Ronnie', 1.0), ('Uriel', 1.0), ('Georgeanne', 0.0), ('Shaylynn', 0.0), ('Beret', 0.0), ('Torr', 1.0), ('Rafaelita', 0.0), ('Candice', 0.0), ('Shayla', 0.0), ('Leigha', 0.0), ('Denise', 0.0), ('Kala', 0.0), ('Marcie', 0.0), ('Lydia', 0.0), ('Ron', 1.0), ('Pearle', 0.0), ('Lane', 1.0), ('Keslie', 0.0), ('Grazia', 0.0), ('Sergeant', 1.0), ('Almeda', 0.0), ('Raphael', 1.0), ('Tricia', 0.0), ('Christabel', 0.0), ('Talbot', 1.0), ('Nichole', 0.0), ('Roddie', 1.0), ('Alastair', 1.0), ('Nadeen', 0.0), ('Harrie', 0.0), ('Kraig', 1.0), ('Nichole', 1.0), ('Delphinia', 0.0), ('Puff', 1.0), ('Kevan', 1.0), ('Noell', 0.0), ('Patin', 1.0), ('Jerri', 1.0), ('Rawley', 1.0), ('Angie', 1.0), ('Sidonnie', 0.0), ('Peg', 0.0), ('Ella', 0.0), ('Nolie', 0.0), ('Dario', 1.0), ('Dan', 1.0), ('Kaia', 0.0), ('Gunter', 1.0), ('Korry', 0.0), ('Gusty', 0.0), ('Pat', 0.0), ('Monica', 0.0), ('Frans', 1.0), ('Tina', 0.0), ('Orelle', 0.0), ('Darien', 1.0), ('Mavra', 0.0), ('Maddie', 0.0), ('Mersey', 0.0), ('Patty', 1.0), ('Moselle', 0.0), ('Jonathan', 1.0), ('Graehme', 1.0), ('Belva', 0.0), ('Barris', 1.0), ('Monah', 0.0), ('Dierdre', 0.0), ('Roseanna', 0.0), ('Milzie', 0.0), ('Jazmin', 0.0), ('Roberto', 1.0), ('Fredi', 0.0), ('Grier', 0.0), ('Aimee', 0.0), ('Luis', 1.0), ('France', 0.0), ('Inci', 0.0), ('Hyacinth', 0.0), ('Dorelle', 0.0), ('Eleonora', 0.0), ('Haley', 0.0), ('Aldus', 1.0), ('Rae', 0.0), ('Elyse', 0.0), ('Arielle', 0.0), ('Heloise', 0.0), ('Tatiania', 0.0), ('Willey', 1.0), ('Benita', 0.0), ('Vickie', 0.0), ('Juliet', 0.0), ('Wright', 1.0), ('Olva', 0.0), ('Hermina', 0.0), ('Page', 1.0), ('Tammie', 0.0), ('Linnea', 0.0), ('Jeane', 0.0), ('Magdalene', 0.0), ('Natalya', 0.0), ('Riane', 0.0), ('Billy', 0.0), ('Olga', 0.0), ('Shannan', 1.0), ('Shepherd', 1.0), ('Geraldine', 0.0), ('Aamir', 1.0), ('Paten', 1.0), ('Pattie', 0.0), ('Catherin', 0.0), ('Christiane', 0.0), ('Curt', 1.0), ('Maggee', 0.0), ('Tiebold', 1.0), ('Bonni', 0.0), ('Tabbatha', 0.0), ('Evania', 0.0), ('Tate', 1.0), ('Ivory', 0.0), ('Urson', 1.0), ('Pavel', 1.0), ('Tiffie', 0.0), ('Nidia', 0.0), ('Dallas', 1.0), ('Giles', 1.0), ('Agnella', 0.0), ('Danita', 0.0), ('Adorne', 0.0), ('Simona', 0.0), ('Nicky', 0.0), ('Agnes', 0.0), ('Gardener', 1.0), ('Nikita', 1.0), ('Ag', 0.0), ('Moshe', 1.0), ('Camel', 0.0), ('Gabriello', 1.0), ('Belita', 0.0), ('Hana', 0.0), ('Fredrika', 0.0), ('Tristan', 1.0), ('Cathi', 0.0), ('Mehetabel', 0.0), ('Ignatius', 1.0), ('Filia', 0.0), ('Ernst', 1.0), ('Fred', 0.0), ('Golda', 0.0), ('Jaclyn', 0.0), ('Garey', 1.0), ('Corrianne', 0.0), ('Nathaniel', 1.0), ('Valera', 0.0), ('Karrie', 0.0), ('Sherwood', 1.0), ('Reiko', 0.0), ('Emmet', 1.0), ('Kellen', 0.0), ('Kelley', 1.0), ('Zacherie', 1.0), ('Fletch', 1.0), ('Teodorico', 1.0), ('Quinta', 0.0), ('Carla', 0.0), ('Rosanna', 0.0), ('Carter', 1.0), ('Clifford', 1.0), ('Bryana', 0.0), ('Teddi', 0.0), ('Annalena', 0.0), ('Frazier', 1.0), ('Othilia', 0.0), ('Andrus', 1.0), ('Grace', 0.0), ('Spense', 1.0), ('Bobbi', 0.0), ('Jervis', 1.0), ('Ada', 0.0), ('Damien', 1.0), ('Tobey', 0.0), ('Sheelagh', 0.0), ('Lauralee', 0.0), ('Dabney', 1.0), ('Silvana', 0.0), ('Bogart', 1.0), ('Ephraim', 1.0), ('Ardella', 0.0), ('Forster', 1.0), ('Willie', 0.0), ('Jessee', 1.0), ('Judy', 0.0), ('Lynnell', 0.0), ('Nerte', 0.0), ('Tarrant', 1.0), ('Cleopatra', 0.0), ('Cloris', 0.0), ('Christian', 1.0), ('Averell', 1.0), ('Cara', 0.0), ('Koralle', 0.0), ('Shaina', 0.0), ('Melva', 0.0), ('Mina', 0.0), ('Bettina', 0.0), ('Esmaria', 0.0), ('Brigida', 0.0), ('Timmy', 0.0), ('Smith', 1.0), ('Johnette', 0.0), ('Leighton', 1.0), ('Silvia', 0.0), ('Schuyler', 1.0), ('Shimon', 1.0), ('Eolanda', 0.0), ('Ebony', 0.0), ('Gaylene', 0.0), ('Giordano', 1.0), ('Coreen', 0.0), ('Alain', 1.0), ('Maxine', 0.0), ('Pattie', 1.0), ('Rudyard', 1.0), ('Lamb', 0.0), ('Jennine', 0.0), ('Zilvia', 0.0), ('Benn', 1.0), ('Devina', 0.0), ('Katherine', 0.0), ('Poul', 1.0), ('Orel', 0.0), ('Ric', 1.0), ('Jeramie', 1.0), ('Maire', 0.0), ('Flora', 0.0), ('Tyson', 1.0), ('Lazaro', 1.0), ('Eugen', 1.0), ('Mala', 0.0), ('Sholom', 1.0), ('Heinrich', 1.0), ('Bradford', 1.0), ('Netta', 0.0), ('Merrile', 0.0), ('Mariele', 0.0), ('Carolina', 0.0), ('Andie', 0.0), ('Joete', 0.0), ('Andres', 1.0), ('Rosmunda', 0.0), ('Trace', 0.0), ('Bunni', 0.0), ('Constantia', 0.0), ('Torin', 1.0), ('Agnola', 0.0), ('Sydelle', 0.0), ('Joanna', 0.0), ('Marilyn', 0.0), ('Jania', 0.0), ('Kathy', 0.0), ('Ricki', 1.0), ('Alina', 0.0), ('Chance', 1.0), ('Jean-Pierre', 1.0), ('Raquela', 0.0), ('Witold', 1.0), ('Toby', 0.0), ('Geri', 0.0), ('Demetre', 1.0), ('Benji', 1.0), ('Myranda', 0.0), ('Stanfield', 1.0), ('Sargent', 1.0), ('Rudy', 1.0), ('Dorine', 0.0), ('Christian', 0.0), ('Carson', 1.0), ('Elsinore', 0.0), ('Sella', 0.0), ('Emlyn', 0.0), ('Pepillo', 1.0), ('Theada', 0.0), ('Barbra', 0.0), ('Candide', 0.0), ('Avrit', 0.0), ('Indira', 0.0), ('Herby', 1.0), ('Rea', 0.0), ('Noellyn', 0.0), ('Teodor', 1.0), ('Nilson', 1.0), ('Tansy', 0.0), ('Silvie', 0.0), ('Teriann', 0.0), ('Sergei', 1.0), ('Garland', 0.0), ('Lane', 0.0), ('Paddie', 1.0), ('Elladine', 0.0), ('Cris', 0.0), ('Chandler', 1.0), ('Miquela', 0.0), ('Amie', 0.0), ('Aubree', 0.0), ('Rosabelle', 0.0), ('Sparky', 1.0), ('Dyna', 0.0), ('Ginger', 1.0), ('Woodrow', 1.0), ('Hunt', 1.0), ('Emalia', 0.0), ('Haleigh', 0.0), ('Sayres', 1.0), ('Ermina', 0.0), ('Wilhelm', 1.0), ('Emili', 0.0), ('Cassey', 0.0), ('Elke', 0.0), ('Catlee', 0.0), ('Arvie', 1.0), ('Stanislaw', 1.0), ('Marybelle', 0.0), ('Arlyne', 0.0), ('Kaylee', 0.0), ('Simmonds', 1.0), ('Ethelind', 0.0), ('Vanny', 0.0), ('Arlana', 0.0), ('Shandie', 0.0), ('Wendeline', 0.0), ('Lavinia', 0.0), ('Harvey', 1.0), ('Johan', 1.0), ('Whitaker', 1.0), ('Stace', 0.0), ('Ehud', 1.0), ('Melania', 0.0), ('Mikel', 1.0), ('Plato', 1.0), ('Konrad', 1.0), ('Portia', 0.0), ('Nat', 0.0), ('Wandie', 0.0), ('Hedwig', 0.0), ('Gwenette', 0.0), ('Gabrielle', 0.0), ('Cobby', 1.0), ('Vince', 1.0), ('Janean', 0.0), ('Xenos', 1.0), ('Katusha', 0.0), ('Leesa', 0.0), ('Skelly', 1.0), ('Terza', 0.0), ('Dexter', 1.0), ('Silva', 0.0), ('Tailor', 1.0), ('Sky', 1.0), ('Becka', 0.0), ('Stevie', 1.0), ('Red', 1.0), ('Lou', 0.0), ('Bevvy', 0.0), ('Marglerite', 0.0), ('Fairfax', 1.0), ('Efram', 1.0), ('Sabina', 0.0), ('Henrieta', 0.0), ('Ware', 1.0), ('Lezlie', 0.0), ('Stephan', 1.0), ('Elsbeth', 0.0), ('Janessa', 0.0), ('Rosita', 0.0), ('Kandace', 0.0), ('Thornie', 1.0), ('Antoni', 1.0), ('Edward', 1.0), ('Carey', 0.0), ('Hammad', 1.0), ('Redmond', 1.0), ('Conney', 0.0), ('Concettina', 0.0), ('Neil', 1.0), ('Duane', 1.0), ('Wiatt', 1.0), ('Vilhelm', 1.0), ('Carmen', 0.0), ('Danit', 0.0), ('Lyndell', 0.0), ('Amory', 1.0), ('Yoshi', 0.0), ('Ashley', 0.0), ('Nanny', 0.0), ('Jessi', 0.0), ('Ursala', 0.0), ('Pate', 1.0), ('Germaine', 0.0), ('Willetta', 0.0), ('Kent', 1.0), ('Parrnell', 1.0), ('Michele', 0.0), ('Neville', 1.0), ('Guglielma', 0.0), ('Vasily', 1.0), ('Sting', 1.0), ('Zsazsa', 0.0), ('Deane', 1.0), ('Dewitt', 1.0), ('Linda', 0.0), ('Yetta', 0.0), ('Kira', 0.0), ('Jolyn', 0.0), ('Celinda', 0.0), ('Odelle', 0.0), ('Chelsea', 0.0), ('Graeme', 1.0), ('Pauly', 0.0), ('Alyce', 0.0), ('Bernadene', 0.0), ('Andreana', 0.0), ('Waylen', 1.0), ('Dehlia', 0.0), ('Reuben', 1.0), ('Taddeus', 1.0), ('Christie', 0.0), ('Shelagh', 0.0), ('Val', 0.0), ('Luana', 0.0), ('Riki', 0.0), ('Olivia', 0.0), ('Robbert', 1.0), ('Ryann', 0.0), ('Stevana', 0.0), ('Carmon', 0.0), ('Broderick', 1.0), ('Barby', 0.0), ('Huntington', 1.0), ('Irina', 0.0), ('Britte', 0.0), ('Melony', 0.0), ('Erastus', 1.0), ('Winton', 1.0), ('Fiann', 0.0), ('Anthony', 1.0), ('Maynard', 1.0), ('Wat', 1.0), ('Erick', 1.0), ('Brittan', 0.0), ('Thor', 1.0), ('Charmain', 0.0), ('Eugenia', 0.0), ('Gleda', 0.0), ('Ansel', 1.0), ('Collette', 0.0), ('Victoria', 0.0), ('Wendie', 0.0), ('Daisey', 0.0), ('Gilbertina', 0.0), ('Stig', 1.0), ('Dorit', 0.0), ('Angelina', 0.0), ('Sheilah', 0.0), ('Alta', 0.0), ('Willy', 0.0), ('Gasper', 1.0), ('Fyodor', 1.0), ('Hebert', 1.0), ('Leela', 0.0), ('Fredia', 0.0), ('Leilah', 0.0), ('Alston', 1.0), ('Darcie', 0.0), ('Alvira', 0.0), ('Zuzana', 0.0), ('Oneida', 0.0), ('Ryan', 1.0), ('Adelina', 0.0), ('Blair', 0.0), ('Thomas', 1.0), ('Jeffie', 1.0), ('Alene', 0.0), ('Roobbie', 0.0), ('Rochell', 0.0), ('Nathanael', 1.0), ('Christof', 1.0), ('Maude', 0.0), ('Kaylil', 0.0), ('Kingsley', 1.0), ('Madeleine', 0.0), ('Mitchell', 1.0), ('Ellyn', 0.0), ('Charleen', 0.0), ('Nev', 1.0), ('Selma', 0.0), ('Cindi', 0.0), ('Otha', 0.0), ('Buck', 1.0), ('Thedrick', 1.0), ('Tomi', 0.0), ('Felicia', 0.0), ('Ange', 0.0), ('Alberto', 1.0), ('Hartwell', 1.0), ('Hale', 1.0), ('Coleen', 0.0), ('Izabel', 0.0), ('Garcia', 1.0), ('Dulcinea', 0.0), ('Marge', 0.0), ('Rebekah', 0.0), ('Aldric', 1.0), ('Abner', 1.0), ('Mathilda', 0.0), ('Gabi', 0.0), ('Zak', 1.0), ('Ettie', 0.0), ('Socrates', 1.0), ('Suzzy', 0.0), ('Dena', 0.0), ('Tabbi', 0.0), ('Brina', 0.0), ('Waldon', 1.0), ('Avery', 1.0), ('Rayshell', 0.0), ('Sutton', 1.0), ('Clair', 0.0), ('Kin', 1.0), ('Abbey', 1.0), ('Illa', 0.0), ('Violetta', 0.0), ('Evey', 0.0), ('Esta', 0.0), ('Jocelyn', 0.0), ('Philip', 1.0), ('Natka', 0.0), ('Kelcy', 0.0), ('Boniface', 1.0), ('Ginevra', 0.0), ('Minerva', 0.0), ('Corinne', 0.0), ('Yehudi', 1.0), ('Caritta', 0.0), ('Meggan', 0.0), ('Ivy', 0.0), ('Mimi', 0.0), ('Alfredo', 1.0), ('Alana', 0.0), ('Lynette', 0.0), ('Regine', 0.0), ('Yalonda', 0.0), ('Dorice', 0.0), ('Husain', 1.0), ('Merrill', 0.0), ('Aindrea', 0.0), ('Koren', 0.0), ('Federica', 0.0), ('Lawrence', 1.0), ('Chrystel', 0.0), ('Bea', 0.0), ('Sheppard', 1.0), ('Shelden', 1.0), ('Filip', 1.0), ('Celisse', 0.0), ('Frederik', 1.0), ('Thurstan', 1.0), ('Theresa-Marie', 0.0), ('Miguelita', 0.0), ('Klarrisa', 0.0), ('Levin', 1.0), ('Emiline', 0.0), ('Loria', 0.0), ('Jermaine', 1.0), ('Napoleon', 1.0), ('Joella', 0.0), ('Bryon', 1.0), ('Glad', 0.0), ('Alvinia', 0.0), ('Alphonse', 1.0), ('Mead', 1.0), ('Charlott', 0.0), ('Vern', 1.0), ('Karlie', 0.0), ('Francesco', 1.0), ('Si', 1.0), ('Bronson', 1.0), ('Iolande', 0.0), ('Brietta', 0.0), ('Melonie', 0.0), ('Nell', 0.0), ('Lilly', 0.0), ('Maribelle', 0.0), ('Lucina', 0.0), ('Izzi', 0.0), ('Werner', 1.0), ('Frederic', 1.0), ('Bettye', 0.0), ('Leola', 0.0), ('Phillipe', 1.0), ('Nickie', 0.0), ('Moya', 0.0), ('Merissa', 0.0), ('Halvard', 1.0), ('Westleigh', 1.0), ('Chrysler', 0.0), ('Delbert', 1.0), ('Alfonzo', 1.0), ('Rice', 1.0), ('Meredith', 1.0), ('Flem', 1.0), ('Larry', 1.0), ('Minnie', 0.0), ('Connolly', 1.0), ('Gwendolen', 0.0), ('Arnie', 1.0), ('Staci', 0.0), ('Dewey', 1.0), ('Magna', 0.0), ('Estell', 0.0), ('Kattie', 0.0), ('Aeriela', 0.0), ('Sussi', 0.0), ('Sammy', 0.0), ('Gloriane', 0.0), ('Tanny', 1.0), ('Ursuline', 0.0), ('Gwenn', 0.0), ('Reeva', 0.0), ('Lona', 0.0), ('Laney', 0.0), ('Northrup', 1.0), ('Margurite', 0.0), ('Odell', 1.0), ('Daisy', 0.0), ('Enoch', 1.0), ('Sydney', 1.0), ('Ashly', 0.0), ('Aleksandrs', 1.0), ('Charlton', 1.0), ('Edgardo', 1.0), ('Bonita', 0.0), ('Roxie', 0.0), ('Shauna', 0.0), ('Hailey', 1.0), ('Kimbra', 0.0), ('Maressa', 0.0), ('Lana', 0.0), ('Gretchen', 1.0), ('Corabella', 0.0), ('Ambrosio', 1.0), ('Kam', 1.0), ('Gill', 1.0), ('Callida', 0.0), ('Marsha', 0.0), ('Carlisle', 0.0), ('Emylee', 0.0), ('Rubi', 0.0), ('Catina', 0.0), ('Rhona', 0.0), ('Rog', 1.0), ('Oriana', 0.0), ('Joellyn', 0.0), ('Idaline', 0.0), ('Jade', 0.0), ('Lulu', 0.0), ('Bird', 0.0), ('Ishmael', 1.0), ('Barth', 1.0), ('Alex', 1.0), ('Elise', 0.0), ('Michal', 0.0), ('Marcille', 0.0), ('Dominica', 0.0), ('Moises', 1.0), ('Aura', 0.0), ('Sean', 0.0), ('Aile', 0.0), ('Shurlocke', 1.0), ('Averil', 1.0), ('Jacklin', 0.0), ('Barty', 1.0), ('Nealon', 1.0), ('Aubrey', 0.0), ('Dianne', 0.0), ('Eddy', 0.0), ('Mart', 1.0), ('Sibeal', 0.0), ('Mabelle', 0.0), ('Matthaeus', 1.0), ('Giff', 1.0), ('Alfred', 1.0), ('Nicolina', 0.0), ('Daisie', 0.0), ('Brynn', 0.0), ('Jacki', 0.0), ('Arlo', 1.0), ('Jodi', 1.0), ('Piet', 1.0), ('Skyler', 1.0), ('Teresina', 0.0), ('Phil', 0.0), ('Brier', 0.0), ('Cynthia', 0.0), ('Ilana', 0.0), ('Sophia', 0.0), ('Karim', 1.0), ('Harlin', 1.0), ('Corene', 0.0), ('Evette', 0.0), ('Bren', 0.0), ('Mervin', 1.0), ('Carlee', 0.0), ('Albrecht', 1.0), ('Brice', 1.0), ('Harli', 0.0), ('Pauline', 0.0), ('Hettie', 0.0), ('Tadd', 1.0), ('Amelina', 0.0), ('Manish', 1.0), ('Ebeneser', 1.0), ('Rozanne', 0.0), ('Dulsea', 0.0), ('Cameo', 0.0), ('Nananne', 0.0), ('Vanya', 0.0), ('Nonna', 0.0), ('Llewellyn', 1.0), ('Gerianne', 0.0), ('Wendel', 1.0), ('Carlin', 0.0), ('Monika', 0.0), ('Wilmette', 0.0), ('Jake', 1.0), ('Yancey', 1.0), ('Ariella', 0.0), ('Tomiko', 0.0), ('Jaquelin', 0.0), ('Stillman', 1.0), ('Cornelle', 0.0), ('Trixi', 0.0), ('Cherice', 0.0), ('Paulo', 1.0), ('Hall', 1.0), ('Joshuah', 1.0), ('Reece', 1.0), ('Leshia', 0.0), ('Kane', 1.0), ('Garvey', 1.0), ('Quillan', 1.0), ('Odella', 0.0), ('Ardene', 0.0), ('Grete', 0.0), ('Carlynn', 0.0), ('Vinod', 1.0), ('Melosa', 0.0), ('Janos', 1.0), ('Oliver', 1.0), ('Cornie', 0.0), ('Gwenore', 0.0), ('Lemuel', 1.0), ('Ira', 0.0), ('Vin', 1.0), ('Hanni', 0.0), ('Molli', 0.0), ('Keren', 0.0), ('Delphina', 0.0), ('Jada', 0.0), ('Kali', 0.0), ('Rochella', 0.0), ('Charlotta', 0.0), ('Lea', 0.0), ('Hercules', 1.0), ('Sharl', 0.0), ('Olin', 1.0), ('Adger', 1.0), ('Marlie', 0.0), ('Philis', 0.0), ('Meyer', 1.0), ('Elizabeth', 0.0), ('Atlante', 0.0), ('Quentin', 1.0), ('Ossie', 1.0), ('Davidde', 1.0), ('Ninon', 0.0), ('Dahlia', 0.0), ('Gaven', 1.0), ('Teena', 0.0), ('Lamont', 1.0), ('Eva', 0.0), ('Lucien', 1.0), ('Welsh', 1.0), ('Tiffani', 0.0), ('Hayes', 1.0), ('Eleanore', 0.0), ('Carissa', 0.0), ('Wallace', 1.0), ('Ramona', 0.0), ('Arel', 1.0), ('Beatrix', 0.0), ('Rob', 1.0), ('Sibylle', 0.0), ('Claudette', 0.0), ('Sutherland', 1.0), ('Malcolm', 1.0), ('Jan', 0.0), ('Phillip', 1.0), ('Valry', 0.0), ('Rozina', 0.0), ('Bellanca', 0.0), ('Fonz', 1.0), ('Maxim', 1.0), ('Vivi', 0.0), ('Mikael', 1.0), ('Celene', 0.0), ('Parry', 1.0), ('Faythe', 0.0), ('Hamnet', 1.0), ('Guinevere', 0.0), ('Effie', 0.0), ('Ellsworth', 1.0), ('Lynnet', 0.0), ('Octavius', 1.0), ('Delilah', 0.0), ('Paulita', 0.0), ('Colette', 0.0), ('Vida', 0.0), ('Jami', 0.0), ('Yves', 1.0), ('Else', 0.0), ('Marcela', 0.0), ('Francene', 0.0), ('Urban', 1.0), ('Jillie', 0.0), ('Maya', 0.0), ('Clotilda', 0.0), ('Denny', 0.0), ('Latia', 0.0), ('Meredith', 0.0), ('Stan', 1.0), ('Venkat', 1.0), ('Vinnie', 1.0), ('Shadow', 1.0), ('Milo', 1.0), ('Wakefield', 1.0), ('Reena', 0.0), ('Valenka', 0.0), ('Hervey', 1.0), ('Meris', 0.0), ('Eudora', 0.0), ('Inesita', 0.0), ('Janot', 0.0), ('Nataline', 0.0), ('Salvador', 1.0), ('Chantalle', 0.0), ('Tobie', 1.0), ('Rocky', 1.0), ('Kristyn', 0.0), ('Christel', 0.0), ('Cammy', 1.0), ('Norrie', 0.0), ('Waite', 1.0), ('Audrye', 0.0), ('Francisco', 1.0), ('Carroll', 1.0), ('Bernardina', 0.0), ('Kassi', 0.0), ('Truman', 1.0), ('Stafford', 1.0), ('Zia', 0.0), ('Matilda', 0.0), ('Ermentrude', 0.0), ('Pen', 0.0), ('Prudence', 0.0), ('Wylma', 0.0), ('Bernelle', 0.0), ('Wileen', 0.0), ('Micah', 1.0), ('Jeanie', 0.0), ('Dominique', 0.0), ('Mugsy', 1.0), ('Jan', 1.0), ('Leyla', 0.0), ('Russel', 1.0), ('Laryssa', 0.0), ('Valentina', 0.0), ('Theodore', 1.0), ('Yolanda', 0.0), ('Janaye', 0.0), ('Demeter', 0.0), ('Mackenzie', 1.0), ('Jenica', 0.0), ('Tabbie', 0.0), ('Benetta', 0.0), ('Norene', 0.0), ('Jude', 0.0), ('Jacques', 1.0), ('Florella', 0.0), ('Morganica', 0.0), ('Erny', 1.0), ('Vernon', 1.0), ('Vivia', 0.0), ('Hilliard', 1.0), ('Renell', 0.0), ('Hannis', 0.0), ('Miguel', 1.0), ('Stephanus', 1.0), ('Fina', 0.0), ('Conni', 0.0), ('Spenser', 1.0), ('Zollie', 1.0), ('Saxe', 1.0), ('Pierette', 0.0), ('Lesya', 0.0), ('Rodge', 1.0), ('Hillary', 0.0), ('Ajai', 1.0), ('Dalton', 1.0), ('Zacharie', 1.0), ('Lainey', 0.0), ('Kassey', 0.0), ('Lura', 0.0), ('Yanaton', 1.0), ('Skye', 1.0), ('Carleigh', 1.0), ('Aloise', 0.0), ('Cherise', 0.0), ('Clancy', 1.0), ('Vincents', 1.0), ('Egbert', 1.0), ('Sayers', 1.0), ('Vere', 0.0), ('Venita', 0.0), ('Magnum', 1.0), ('Caria', 0.0), ('Suellen', 0.0), ('Axel', 1.0), ('Jill', 0.0), ('Marna', 0.0), ('Terrence', 1.0), ('Herminia', 0.0), ('Broddie', 1.0), ('Kelcie', 0.0), ('Lavena', 0.0), ('Brande', 0.0), ('Zachery', 1.0), ('Josephus', 1.0), ('Stern', 1.0), ('Alexina', 0.0), ('Meaghan', 0.0), ('Gus', 0.0), ('Fanchon', 0.0), ('Hanford', 1.0), ('Chrysa', 0.0), ('Ernaline', 0.0), ('Terese', 0.0), ('Ellissa', 0.0), ('Jaime', 0.0), ('Consuela', 0.0), ('Barbabra', 0.0), ('Garnet', 0.0), ('Liam', 1.0), ('Rayna', 0.0), ('Iggie', 1.0), ('Ulysses', 1.0), ('Marko', 1.0), ('Aguinaldo', 1.0), ('Giffard', 1.0), ('Wolfie', 1.0), ('Wald', 1.0), ('Perri', 0.0), ('Adolfo', 1.0), ('Didi', 0.0), ('Fania', 0.0), ('Brinkley', 1.0), ('Elfreda', 0.0), ('Nannette', 0.0), ('Berget', 0.0), ('Lorilyn', 0.0), ('Klaus', 1.0), ('Lelah', 0.0), ('Deanne', 0.0), ('Gilberto', 1.0), ('Wilt', 1.0), ('Elroy', 1.0), ('Di', 0.0), ('Abe', 1.0), ('Torrin', 1.0), ('Gladys', 0.0), ('Clemmy', 0.0), ('Jerrylee', 0.0), ('Dulciana', 0.0), ('Ichabod', 1.0), ('Blanch', 0.0), ('Harmonia', 0.0), ('Town', 1.0), ('Clayborn', 1.0), ('Kara-Lynn', 0.0), ('Mayda', 0.0), ('Nerissa', 0.0), ('Paulette', 0.0), ('Chrissie', 0.0), ('Waylan', 1.0), ('Jonell', 0.0), ('Coletta', 0.0), ('Virgilio', 1.0), ('Lennie', 1.0), ('Antonetta', 0.0), ('Philippe', 0.0), ('James', 1.0), ('Denys', 0.0), ('Fremont', 1.0), ('Jefry', 1.0), ('Niki', 0.0), ('Meira', 0.0), ('Glory', 0.0), ('Pru', 0.0), ('Scarface', 1.0), ('Camille', 0.0), ('Annabell', 0.0), ('Dirk', 1.0), ('Godard', 1.0), ('Hazel', 0.0), ('Calhoun', 1.0), ('Jerry', 1.0), ('Fidel', 1.0), ('Lenard', 1.0), ('Gerrard', 1.0), ('Belinda', 0.0), ('Alford', 1.0), ('Madelena', 0.0), ('Astrix', 0.0), ('Casey', 1.0), ('Oleg', 1.0), ('Marrilee', 0.0), ('Wilfrid', 1.0), ('Jacquenetta', 0.0), ('Minny', 0.0), ('Gypsy', 0.0), ('Gerhard', 1.0), ('Bennie', 1.0), ('Bernadine', 0.0), ('Phillie', 0.0), ('Neely', 0.0), ('Deanna', 0.0), ('Ellis', 1.0), ('Gilburt', 1.0), ('Isador', 1.0), ('Kaila', 0.0), ('Arabella', 0.0), ('Herbert', 1.0), ('Stevy', 1.0), ('Willem', 1.0), ('Margarita', 0.0), ('Shina', 0.0), ('Merline', 0.0), ('Rosalinde', 0.0), ('Anthe', 0.0), ('Garrot', 1.0), ('Brittany', 0.0), ('Jenda', 0.0), ('Martie', 0.0), ('Betteanne', 0.0), ('Jessica', 0.0), ('Winston', 1.0), ('Seline', 0.0), ('Costa', 1.0), ('Selestina', 0.0), ('Dareen', 0.0), ('Heathcliff', 1.0), ('Evonne', 0.0), ('Rosalinda', 0.0), ('Reggis', 1.0), ('Janeta', 0.0), ('Shaughn', 1.0), ('Anabella', 0.0), ('Havivah', 0.0), ('Ravil', 1.0), ('Ariel', 0.0), ('Meghann', 0.0), ('Rachele', 0.0), ('Jinny', 0.0), ('Heddi', 0.0), ('Britani', 0.0), ('Terri-Jo', 0.0), ('Reggy', 1.0), ('Carine', 0.0), ('Dannye', 0.0), ('Cleo', 0.0), ('Annalee', 0.0), ('Ranice', 0.0), ('Romola', 0.0), ('Amberly', 0.0), ('Sephira', 0.0), ('Holli', 0.0), ('Cilka', 0.0), ('Luciana', 0.0), ('Bard', 1.0), ('Cristal', 0.0), ('Correy', 0.0), ('Deirdre', 0.0), ('Jacquelin', 0.0), ('Lukas', 1.0), ('Jojo', 0.0), ('Aggie', 0.0), ('Mechelle', 0.0), ('Marianna', 0.0), ('Aloysia', 0.0), ('Higgins', 1.0), ('Brandon', 1.0), ('Neala', 0.0), ('Gwenneth', 0.0), ('Hagan', 1.0), ('Thaxter', 1.0), ('Corri', 0.0), ('Meara', 0.0), ('Anne-Marie', 0.0), ('Audy', 0.0), ('Haywood', 1.0), ('Tiffany', 0.0), ('Cam', 1.0), ('Lib', 0.0), ('Jeniece', 0.0), ('Reed', 1.0), ('Essie', 0.0), ('Ronda', 0.0), ('Liana', 0.0), ('Cathy', 0.0), ('Zelig', 1.0), ('Pearl', 0.0), ('Jasper', 1.0), ('Jessey', 1.0), ('Buffy', 0.0), ('Aub', 1.0), ('Lawerence', 1.0), ('Lolly', 0.0), ('Max', 1.0), ('Paolo', 1.0), ('Donnie', 0.0), ('Helyn', 0.0), ('Ophelie', 0.0), ('Kaster', 0.0), ('Con', 0.0), ('Waldo', 1.0), ('Minetta', 0.0), ('Jackquelin', 0.0), ('Modestine', 0.0), ('Ashby', 1.0), ('Ema', 0.0), ('Dorisa', 0.0), ('Denna', 0.0), ('Yigal', 1.0), ('Aina', 0.0), ('Edith', 0.0), ('Allina', 0.0), ('Nanni', 0.0), ('Priscella', 0.0), ('Sherwynd', 1.0), ('Margot', 0.0), ('Klee', 1.0), ('Arlene', 0.0), ('Tracey', 0.0), ('Roscoe', 1.0), ('Wilmar', 1.0), ('Luelle', 0.0), ('Goldia', 0.0), ('Logan', 1.0), ('Rudolph', 1.0), ('Sayer', 1.0), ('Debbie', 0.0), ('Sinclare', 1.0), ('Kerrill', 0.0), ('Bobby', 1.0), ('Braden', 1.0), ('Ardelis', 0.0), ('Matias', 1.0), ('Glen', 0.0), ('Ayn', 0.0), ('Hollie', 0.0), ('Hartley', 1.0), ('Upton', 1.0), ('Celestine', 0.0), ('Oliy', 0.0), ('Valene', 0.0), ('Tiff', 0.0), ('Orazio', 1.0), ('Abel', 1.0), ('Kesley', 0.0), ('Christopher', 1.0), ('Simonne', 0.0), ('Alameda', 0.0), ('Clementina', 0.0), ('Ericha', 0.0), ('Margette', 0.0), ('Helene', 0.0), ('Marybeth', 0.0), ('Dela', 0.0), ('Vivianne', 0.0), ('Eddi', 0.0), ('Teddy', 1.0), ('Willabella', 0.0), ('Kimberli', 0.0), ('Barde', 1.0), ('Rolf', 1.0), ('Min', 0.0), ('Wolfy', 1.0), ('Ernie', 1.0), ('Bartel', 1.0), ('Rora', 0.0), ('Melisent', 0.0), ('Gusella', 0.0), ('Nariko', 0.0), ('Federico', 1.0), ('Raul', 1.0), ('Clayton', 1.0), ('Vanni', 0.0), ('Juanita', 0.0), ('Stella', 0.0), ('Aziz', 1.0), ('Jannelle', 0.0), ('Janith', 0.0), ('Trixy', 0.0), ('Gian', 1.0), ('Thorvald', 1.0), ('Tawsha', 0.0), ('Corette', 0.0), ('Verney', 1.0), ('Felicdad', 0.0), ('Caresa', 0.0), ('Penrod', 1.0), ('Dynah', 0.0), ('Annemarie', 0.0), ('Remus', 1.0), ('Vaughan', 1.0), ('Huntley', 1.0), ('Starlene', 0.0), ('Caty', 0.0), ('Georgena', 0.0), ('Laurence', 1.0), ('Kylie', 0.0), ('Leonidas', 1.0), ('Karin', 0.0), ('Netty', 0.0), ('Giacinta', 0.0), ('Vinnie', 0.0), ('Roseann', 0.0), ('Stu', 1.0), ('Ericka', 0.0), ('Audie', 0.0), ('Etty', 0.0), ('Zenia', 0.0), ('Alberta', 0.0), ('Nisa', 0.0), ('Issi', 0.0), ('Norah', 0.0), ('Ola', 0.0), ('Kriste', 0.0), ('Edna', 0.0), ('Carlena', 0.0), ('Adams', 1.0), ('Tomasine', 0.0), ('Rafa', 0.0), ('Vivian', 0.0), ('Micki', 0.0), ('Jessie', 0.0), ('Sidonia', 0.0), ('Zorine', 0.0), ('Sheryl', 0.0), ('Florie', 0.0), ('Jaquenetta', 0.0), ('Osborn', 1.0), ('Marcella', 0.0), ('Hercule', 1.0), ('Reuven', 1.0), ('Elysia', 0.0), ('Aggy', 0.0), ('Marylinda', 0.0), ('Erik', 1.0), ('Adam', 1.0), ('Belia', 0.0), ('Windham', 1.0), ('Rutherford', 1.0), ('Igor', 1.0), ('Beilul', 0.0), ('Ignaz', 1.0), ('Coretta', 0.0), ('Neddie', 1.0), ('Francesmary', 0.0), ('Regina', 0.0), ('Chloris', 0.0), ('Stacee', 0.0), ('Jeannine', 0.0), ('Roland', 1.0), ('Felisha', 0.0), ('Gillian', 0.0), ('Opaline', 0.0), ('Kennedy', 1.0), ('Susi', 0.0), ('Ursulina', 0.0), ('Devin', 1.0), ('Lamar', 1.0), ('Dionis', 0.0), ('Leodora', 0.0), ('Kamilah', 0.0), ('Alonzo', 1.0), ('Sebastien', 1.0), ('Jorie', 0.0), ('Mauricio', 1.0), ('Biddy', 0.0), ('Marcellus', 1.0), ('Wendi', 0.0), ('Nadia', 0.0), ('Moise', 1.0), ('Jolie', 0.0), ('Nan', 0.0), ('Cristina', 0.0), ('Margeaux', 0.0), ('Kylynn', 0.0), ('Karisa', 0.0), ('Olag', 1.0), ('Osbourn', 1.0), ('Zeke', 1.0), ('Humbert', 1.0), ('Kermit', 1.0), ('Darla', 0.0), ('Matthieu', 1.0), ('Fionna', 0.0), ('Caspar', 1.0), ('Elnora', 0.0), ('Belvia', 0.0), ('Marlo', 0.0), ('Peyton', 1.0), ('Rosalie', 0.0), ('Ailyn', 0.0), ('Orbadiah', 1.0), ('Lyndsay', 0.0), ('Olivette', 0.0), ('Evvy', 0.0), ('Alley', 1.0), ('Bryce', 1.0), ('Rees', 1.0), ('Fabian', 1.0), ('Annabela', 0.0), ('Clarette', 0.0), ('Marilin', 0.0), ('Tammy', 0.0), ('Zoe', 0.0), ('Abbie', 0.0), ('Rey', 0.0), ('Rebecka', 0.0), ('Barbara', 0.0), ('Katya', 0.0), ('Salomon', 1.0), ('Doti', 0.0), ('Eula', 0.0), ('Sandi', 0.0), ('Piotr', 1.0), ('Roselia', 0.0), ('Ulrich', 1.0), ('Helga', 0.0), ('Lark', 0.0), ('Karel', 0.0), ('Torry', 1.0), ('Chryste', 0.0), ('Kary', 0.0), ('Evangeline', 0.0), ('Rupert', 1.0), ('Freddy', 0.0), ('Obadias', 1.0), ('Agamemnon', 1.0), ('Allie', 1.0), ('Dion', 1.0), ('Lorain', 0.0), ('Merrick', 1.0), ('Willa', 0.0), ('Clerissa', 0.0), ('Julietta', 0.0), ('Erina', 0.0), ('Danni', 0.0), ('Cosetta', 0.0), ('Gilberte', 0.0), ('Ardelle', 0.0), ('Kenna', 0.0), ('Holly', 1.0), ('Annora', 0.0), ('Nixie', 0.0), ('Storm', 0.0), ('Paula', 0.0), ('Ethel', 0.0), ('Constantina', 0.0), ('Phillis', 0.0), ('Darsey', 0.0), ('Mickie', 1.0), ('Whit', 1.0), ('Dinah', 0.0), ('Derek', 1.0), ('Godwin', 1.0), ('Elijah', 1.0), ('Edie', 0.0), ('Isadora', 0.0), ('Nels', 1.0), ('Eustacia', 0.0), ('Waylon', 1.0), ('Luther', 1.0), ('Bartolomeo', 1.0), ('Daffi', 0.0), ('Cyril', 1.0), ('Carlen', 0.0), ('Natalie', 0.0), ('Cherry', 0.0), ('Lucille', 0.0), ('Lester', 1.0), ('Chip', 1.0), ('Nettle', 0.0), ('Masha', 0.0), ('Rochette', 0.0), ('Cyrillus', 1.0), ('Peta', 0.0), ('Bennett', 1.0), ('Ardyth', 0.0), ('Sofia', 0.0), ('Lorinda', 0.0), ('Ambros', 1.0), ('Jessie', 1.0), ('Karalynn', 0.0), ('Alden', 1.0), ('Kerrie', 0.0), ('Gere', 1.0), ('Elka', 0.0), ('Noel', 0.0), ('Marijo', 0.0), ('Camella', 0.0), ('Ralina', 0.0), ('Roderick', 1.0), ('Saraann', 0.0), ('Gunvor', 0.0), ('Latrena', 0.0), ('Pearla', 0.0), ('Josey', 0.0), ('Briggs', 1.0), ('Nancie', 0.0), ('Ben', 1.0), ('Jody', 0.0), ('Stephen', 1.0), ('Dwight', 1.0), ('Nert', 0.0), ('Melinde', 0.0), ('Nessa', 0.0), ('Tyrus', 1.0), ('Harold', 1.0), ('Maddy', 1.0), ('Kelci', 0.0), ('Adoree', 0.0), ('Tamra', 0.0), ('Vi', 0.0), ('Theodor', 1.0), ('Merry', 0.0), ('Barnabas', 1.0), ('Rosa', 0.0), ('Cortese', 1.0), ('Adrian', 0.0), ('Melita', 0.0), ('Kevina', 0.0), ('Alla', 0.0), ('Sibley', 0.0), ('Giffy', 1.0), ('Annetta', 0.0), ('Gale ', 0.0), ('Dodi', 0.0), ('Glyn', 0.0), ('Davon', 1.0), ('Amy', 0.0), ('Auberta', 0.0), ('Wilton', 1.0), ('Nova', 0.0), ('Frannie', 0.0), ('Torrence', 1.0), ('Irvine', 1.0), ('Mitch', 1.0), ('Ariana', 0.0), ('Angy', 0.0), ('Milissent', 0.0), ('Shayne', 0.0), ('Allys', 0.0), ('Jeremias', 1.0), ('Carmine', 0.0), ('Nertie', 0.0), ('Wang', 1.0), ('Maryrose', 0.0), ('Raye', 0.0), ('Kimberlyn', 0.0), ('Trudey', 0.0), ('Lucian', 1.0), ('Hilary', 1.0), ('Shirl', 0.0), ('Luciano', 1.0), ('Normand', 1.0), ('Arabelle', 0.0), ('Guy', 1.0), ('Carmelina', 0.0), ('Wolfgang', 1.0), ('Toby', 1.0), ('Julianna', 0.0), ('Pepe', 1.0), ('Josselyn', 0.0), ('Linnell', 0.0), ('Ingaborg', 0.0), ('Rozalie', 0.0), ('Rosalia', 0.0), ('Shoshanna', 0.0), ('Estelle', 0.0), ('Ernest', 1.0), ('Sheila-Kathryn', 0.0), ('Nata', 0.0), ('Fonsie', 1.0), ('Elisa', 0.0), ('Shaun', 1.0), ('Elmira', 0.0), ('Cresa', 0.0), ('Peggi', 0.0), ('Timmy', 1.0), ('Kenny', 1.0), ('Shlomo', 1.0), ('Bert', 0.0), ('Jacklyn', 0.0), ('Glen', 1.0), ('Thelma', 0.0), ('Jay', 1.0), ('Jodee', 0.0), ('Emelina', 0.0), ('Whitney', 0.0), ('Lebbie', 0.0), ('Barron', 1.0), ('King', 1.0), ('Gusta', 0.0), ('Prince', 1.0), ('Janifer', 0.0), ('Adriena', 0.0), ('Dora', 0.0), ('Star', 0.0), ('Germana', 0.0), ('Florette', 0.0), ('Ashlee', 0.0), ('Hamilton', 1.0), ('Sarette', 0.0), ('Aline', 0.0), ('Alvera', 0.0), ('Travers', 1.0), ('Lulita', 0.0), ('Emmalee', 0.0), ('Chloe', 0.0), ('Everard', 1.0), ('West', 1.0), ('Dacia', 0.0), ('Malanie', 0.0), ('Paula-Grace', 0.0), ('Emil', 1.0), ('Morley', 1.0), ('Carole', 0.0), ('Nonnah', 0.0), ('Tuckie', 1.0), ('Bjorn', 1.0), ('Oralee', 0.0), ('Patti', 0.0), ('Andee', 0.0), ('Lorelle', 0.0), ('Oralla', 0.0), ('Emmeline', 0.0), ('Bellina', 0.0), ('Broderic', 1.0), ('Seymour', 1.0), ('Tibold', 1.0), ('Gipsy', 0.0), ('Jakob', 1.0), ('Chelton', 1.0), ('Corrine', 0.0), ('Shayne', 1.0), ('Elaina', 0.0), ('Annalisa', 0.0), ('Kakalina', 0.0), ('Esther', 0.0), ('Lissi', 0.0), ('Dalia', 0.0), ('Tamiko', 0.0), ('Kaitlin', 0.0), ('Carin', 0.0), ('Ford', 1.0), ('Berty', 0.0), ('Shawn', 0.0), ('Kaleena', 0.0), ('Mora', 0.0), ('Liuka', 0.0), ('Harman', 1.0), ('Sherwin', 1.0), ('Aveline', 0.0), ('Zorah', 0.0), ('Bernard', 1.0), ('Bettie', 0.0), ('Nadiya', 0.0), ('Lenee', 0.0), ('Hillel', 1.0), ('Ardelia', 0.0), ('Ethelbert', 1.0), ('Hugo', 1.0), ('Love', 0.0), ('Burgess', 1.0), ('Jean-Marc', 1.0), ('Katharyn', 0.0), ('Jasmine', 0.0), ('Carly', 0.0), ('Jean', 1.0), ('Aeriell', 0.0), ('Melinda', 0.0), ('Ruperta', 0.0), ('Olympie', 0.0), ('Katrine', 0.0), ('Stearn', 1.0), ('Jerrine', 0.0), ('Myriam', 0.0), ('Otes', 1.0), ('Noble', 1.0), ('Dulcy', 0.0), ('Dorothee', 0.0), ('Darby', 0.0), ('Benton', 1.0), ('Marta', 0.0), ('Josiah', 1.0), ('Shelby', 1.0), ('Zara', 0.0), ('Othilie', 0.0), ('Gisela', 0.0), ('Hamid', 1.0), ('Stanly', 1.0), ('Dacie', 0.0), ('Armstrong', 1.0), ('Saunders', 1.0), ('Hart', 1.0), ('Toinette', 0.0), ('Kincaid', 1.0), ('Wojciech', 1.0), ('Kimmi', 0.0), ('Beverlee', 0.0), ('Jesus', 1.0), ('Abagail', 0.0), ('Phyllys', 0.0), ('Jordain', 0.0), ('Ardath', 0.0), ('Jillana', 0.0), ('Sol', 1.0), ('Smitty', 1.0), ('Terri', 0.0), ('Tony', 0.0), ('Nero', 1.0), ('Ingelbert', 1.0), ('Adela', 0.0), ('Barbaraanne', 0.0), ('Stoddard', 0.0), ('Gretchen', 0.0), ('Micheil', 1.0), ('Pearce', 1.0), ('Sheila', 0.0), ('Jodi', 0.0), ('Ann', 0.0), ('Isabelita', 0.0), ('Vivianna', 0.0), ('Ami', 0.0), ('Davina', 0.0), ('Thaddeus', 1.0), ('Scotty', 0.0), ('Annamari', 0.0), ('Clemmie', 0.0), ('Barbee', 0.0), ('Rosamund', 0.0), ('Berni', 0.0), ('Gennie', 0.0), ('Garold', 1.0), ('Seamus', 1.0), ('Andria', 0.0), ('Barry', 0.0), ('Sharron', 0.0), ('Carolan', 0.0), ('Oralia', 0.0), ('Rebeca', 0.0), ('Finley', 1.0), ('Jerald', 1.0), ('Starr', 0.0), ('Doyle', 1.0), ('Colene', 0.0), ('Gershon', 1.0), ('Fernanda', 0.0), ('Cody', 1.0), ('Vonny', 0.0), ('Marci', 0.0), ('Hubert', 1.0), ('Victor', 1.0), ('Angelo', 1.0), ('Major', 1.0), ('Dannie', 1.0), ('Mathew', 1.0), ('Kirbee', 0.0), ('Jennee', 0.0), ('Barnabe', 1.0), ('Peggie', 0.0), ('Claudius', 1.0), ('Bartie', 1.0), ('Channa', 0.0), ('Brad', 1.0), ('Corabel', 0.0), ('Melvyn', 1.0), ('Ramesh', 1.0), ('Caesar', 1.0), ('Hilbert', 1.0), ('Berrie', 0.0), ('Giselle', 0.0), ('Sharai', 0.0), ('Lolita', 0.0), ('Emmit', 1.0), ('Devon', 1.0), ('Roana', 0.0), ('Ortensia', 0.0), ('Felice', 1.0), ('Merralee', 0.0), ('Imogen', 0.0), ('Elane', 0.0), ('Audi', 0.0), ('Tobe', 1.0), ('Trenna', 0.0), ('Kip', 0.0), ('Buddy', 1.0), ('Harley', 1.0), ('Scotty', 1.0), ('Corenda', 0.0), ('Maridel', 0.0), ('Jilli', 0.0), ('Anastassia', 0.0), ('Berkeley', 1.0), ('Joletta', 0.0), ('Gabriell', 1.0), ('Wallache', 1.0), ('Lillian', 0.0), ('Karlotte', 0.0), ('Electra', 0.0), ('Sascha', 0.0), ('Kit', 1.0), ('Glenine', 0.0), ('Orelia', 0.0), ('Ileana', 0.0), ('Ferne', 0.0), ('Annette', 0.0), ('Joselyn', 0.0), ('Davide', 1.0), ('Gwen', 0.0), ('Godfry', 1.0), ('Viola', 0.0), ('Luci', 0.0), ('Brandea', 0.0), ('Augustina', 0.0), ('Salli', 0.0), ('Burke', 1.0), ('Darbie', 0.0), ('Larissa', 0.0), ('George', 1.0), ('Ruby', 1.0), ('Matthias', 1.0), ('Jean-Luc', 1.0), ('Cissy', 0.0), ('Bogdan', 1.0), ('Lynna', 0.0), ('Travis', 1.0), ('Juliann', 0.0), ('Lauree', 0.0), ('Isidora', 0.0), ('Lion', 1.0), ('Gracie', 0.0), ('Duffy', 1.0), ('Emmott', 1.0), ('Lettie', 0.0), ('Giralda', 0.0), ('Marika', 0.0), ('Abelard', 1.0), ('Adele', 0.0), ('Renato', 1.0), ('Aylmer', 1.0), ('Archon', 1.0), ('Hayden', 1.0), ('Nadine', 0.0), ('Fernande', 0.0), ('Kristal', 0.0), ('Dyann', 0.0), ('Wally', 0.0), ('Stirling', 1.0), ('Pasquale', 1.0), ('Luna', 0.0), ('Kimberley', 0.0), ('Edwina', 0.0), ('Cammi', 0.0), ('Chet', 1.0), ('Harlie', 0.0), ('Clayborne', 1.0), ('Ketty', 0.0), ('Carolynn', 0.0), ('Richardo', 1.0), ('Tella', 0.0), ('Lindsey', 0.0), ('Albatros', 1.0), ('Marisa', 0.0), ('Fred', 1.0), ('Nickie', 1.0), ('Annaliese', 0.0), ('Stefa', 0.0), ('Flor', 0.0), ('Kim', 1.0), ('Ruddie', 1.0), ('Tiler', 1.0), ('Aviva', 0.0), ('Lucio', 1.0), ('Trey', 1.0), ('Chadd', 1.0), ('Wayland', 1.0), ('Brandy', 0.0), ('Elsi', 0.0), ('Chiarra', 0.0), ('Sydney', 0.0), ('Jenni', 0.0), ('Derrin', 1.0), ('Ambrosius', 1.0), ('Austin', 1.0), ('Lonnie', 0.0), ('Lotti', 0.0), ('Rowland', 1.0), ('Vonni', 0.0), ('Chris', 1.0), ('Christofer', 1.0), ('Flinn', 1.0), ('Delia', 0.0), ('Bartholomeus', 1.0), ('Corie', 0.0), ('Nerty', 0.0), ('Dolorita', 0.0), ('Pail', 1.0), ('Rik', 1.0), ('Kevin', 1.0), ('Sibylla', 0.0), ('Russ', 1.0), ('Zsa Zsa', 0.0), ('Mic', 1.0), ('Tobias', 1.0), ('Feliza', 0.0), ('Rana', 0.0), ('Matti', 0.0), ('Terri', 1.0), ('Gertie', 0.0), ('Katti', 0.0), ('Ellen', 0.0), ('Wilson', 1.0), ('Karon', 0.0), ('Bee', 0.0), ('Polly', 0.0), ('Bidget', 0.0), ('Douglass', 1.0), ('Karolina', 0.0), ('Dona', 0.0), ('Dorene', 0.0), ('Keith', 1.0), ('Phelia', 0.0), ('Thorsten', 1.0), ('Rozamond', 0.0), ('Farrand', 0.0), ('Timmi', 0.0), ('Eleanora', 0.0), ('Michel', 0.0), ('Sebastian', 1.0), ('Athena', 0.0), ('Marjy', 0.0), ('Nigel', 1.0), ('French', 1.0), ('Donella', 0.0), ('Gerald', 1.0), ('Siegfried', 1.0), ('Tommy', 0.0), ('Haskel', 1.0), ('Willi', 0.0), ('Lara', 0.0), ('Kip', 1.0), ('Maxy', 0.0), ('Layla', 0.0), ('Milena', 0.0), ('Ulberto', 1.0), ('Tiana', 0.0), ('Idalia', 0.0), ('Vina', 0.0), ('Ioana', 0.0), ('Patel', 1.0), ('Nicolas', 1.0), ('Kirk', 1.0), ('Hanan', 1.0), ('Regan', 0.0), ('Cele', 0.0), ('Zeus', 1.0), ('Diannne', 0.0), ('Adel', 0.0), ('Rachael', 0.0), ('Mandi', 0.0), ('Marylou', 0.0), ('Duncan', 1.0), ('Carrol', 0.0), ('Maxfield', 1.0), ('Sansone', 1.0), ('Cami', 0.0), ('Lauryn', 0.0), ('Kristien', 0.0), ('Desirae', 0.0), ('Giovanni', 1.0), ('Wanda', 0.0), ('Cybel', 0.0), ('Ulrike', 0.0), ('Nedi', 0.0), ('Quincey', 1.0), ('Lucretia', 0.0), ('Guillaume', 1.0), ('Edita', 0.0), ('Sancho', 1.0), ('Kaitlyn', 0.0), ('Misti', 0.0), ('Rosene', 0.0), ('Joell', 0.0), ('Milicent', 0.0), ('Beryl', 0.0), ('Cathie', 0.0), ('Albina', 0.0), ('Nanice', 0.0), ('Frank', 1.0), ('Ahmet', 1.0), ('Trisha', 0.0), ('Nico', 1.0), ('Wittie', 1.0), ('Korrie', 0.0), ('Michael', 1.0), ('Jonas', 1.0), ('Sal', 0.0), ('Dane', 1.0), ('Barton', 1.0), ('Chanderjit', 1.0), ('Enrique', 1.0), ('Selina', 0.0), ('Lonee', 0.0), ('Aili', 0.0), ('Ofella', 0.0), ('Alidia', 0.0), ('Rebekkah', 0.0), ('Valida', 0.0), ('Gretal', 0.0), ('Maryangelyn', 0.0), ('Yacov', 1.0), ('Nessie', 0.0), ('Lida', 0.0), ('Traver', 1.0), ('Bridget', 0.0), ('Lazar', 1.0), ('Rosemary', 0.0), ('Sharon', 0.0), ('Carolyn', 0.0), ('Englebart', 1.0), ('Juana', 0.0), ('Tillie', 0.0), ('Fritz', 1.0), ('Marrissa', 0.0), ('Tedrick', 1.0), ('Cobbie', 1.0), ('Rita', 0.0), ('Willie', 1.0), ('Elfie', 0.0), ('Helsa', 0.0), ('Manya', 0.0), ('Charmaine', 0.0), ('Sharleen', 0.0), ('Sadie', 0.0), ('Say', 1.0), ('Gunther', 1.0), ('Samson', 1.0), ('Clive', 1.0), ('Danice', 0.0), ('Inglebert', 1.0), ('Rosette', 0.0), ('Elbertina', 0.0), ('Karalee', 0.0), ('Bruno', 1.0), ('Marlene', 0.0), ('Donnajean', 0.0), ('Karyl', 0.0), ('Brodie', 1.0), ('Kee', 0.0), ('Siffre', 1.0), ('Krysta', 0.0), ('Barnebas', 1.0), ('Gilly', 0.0), ('Brooks', 0.0), ('Peter', 1.0), ('Sal', 1.0), ('Olympia', 0.0), ('Prescott', 1.0), ('Jewelle', 0.0), ('Charley', 1.0), ('Mirabel', 0.0), ('Roxine', 0.0), ('Melisandra', 0.0), ('Towney', 1.0), ('Chester', 1.0), ('Gen', 0.0), ('Harv', 1.0), ('Jackqueline', 0.0), ('Glori', 0.0), ('Clari', 0.0), ('Davie', 1.0), ('Teodora', 0.0), ('Dede', 0.0), ('Cecile', 0.0), ('Georgine', 0.0), ('Agneta', 0.0), ('Josie', 0.0), ('Maurits', 1.0), ('Nicoli', 0.0), ('Dorey', 0.0), ('Cassi', 0.0), ('Pierson', 1.0), ('Lew', 1.0), ('Ariel', 1.0), ('Abagael', 0.0), ('Jordan', 1.0), ('Lil', 0.0), ('Harlene', 0.0), ('Glennie', 0.0), ('Cristie', 0.0), ('Maris', 0.0), ('Tracey', 1.0), ('Catha', 0.0), ('Jock', 1.0), ('Phineas', 1.0), ('Eirena', 0.0), ('Dana', 0.0), ('Milly', 0.0), ('Josh', 1.0), ('Maddie', 1.0), ('Lianne', 0.0), ('Antonie', 0.0), ('Hewie', 1.0), ('Laurens', 1.0), ('Rodger', 1.0), ('Bessie', 0.0), ('Jeana', 0.0), ('Brenn', 0.0), ('Samaria', 0.0), ('Rolfe', 1.0), ('Candis', 0.0), ('Avrom', 1.0), ('Leigh', 1.0), ('Gaby', 0.0), ('Lind', 1.0), ('Kirstin', 0.0), ('Julie', 1.0), ('Barbey', 0.0), ('Jonah', 1.0), ('Enriqueta', 0.0), ('Wenonah', 0.0), ('Roy', 1.0), ('Darian', 1.0), ('Adora', 0.0), ('Bear', 1.0), ('Ainslie', 0.0), ('Ellette', 0.0), ('Jasmina', 0.0), ('Bud', 1.0), ('Patrik', 1.0), ('Clemens', 1.0), ('Artie', 1.0), ('Herold', 1.0), ('Lissie', 0.0), ('Sisely', 0.0), ('Lyndel', 0.0), ('Lynnea', 0.0), ('Dennie', 1.0), ('Flore', 0.0), ('Cooper', 1.0), ('Godiva', 0.0), ('Damita', 0.0), ('Lorrie', 1.0), ('Henka', 0.0), ('Claybourne', 1.0), ('Vena', 0.0), ('Forester', 1.0), ('Calli', 0.0), ('Archy', 1.0), ('Bealle', 1.0), ('Seana', 0.0), ('Yelena', 0.0), ('Udall', 1.0), ('Saunderson', 1.0), ('Mitra', 0.0), ('Katerine', 0.0), ('Cabrina', 0.0), ('Selene', 0.0), ('Aloisia', 0.0), ('Cordula', 0.0), ('Phylys', 0.0), ('Michaeline', 0.0), ('Liliane', 0.0), ('Terence', 1.0), ('Mead', 0.0), ('Jonie', 0.0), ('Karine', 0.0), ('Candi', 0.0), ('Korie', 0.0), ('Rhetta', 0.0), ('Kirbie', 0.0), ('Eilis', 0.0), ('Hellene', 0.0), ('Elwood', 1.0), ('Garrett', 1.0), ('Sanford', 1.0), ('Meagan', 0.0), ('Myrle', 0.0), ('Marabel', 0.0), ('Keely', 0.0), ('Shaw', 1.0), ('Arlinda', 0.0), ('Sheri', 0.0), ('Allene', 0.0), ('Hermy', 1.0), ('Kettie', 0.0), ('Brett', 0.0), ('Annie', 0.0), ('Carsten', 1.0), ('Arianne', 0.0), ('Forest', 1.0), ('Penny', 1.0), ('Raimund', 1.0), ('Alic', 1.0), ('Coraline', 0.0), ('Natalina', 0.0), ('Debbra', 0.0), ('Tull', 1.0), ('Saunder', 1.0), ('Dorrie', 0.0), ('Pamella', 0.0), ('Susana', 0.0), ('Annamarie', 0.0), ('Shelli', 0.0), ('Son', 1.0), ('Graig', 1.0), ('Giavani', 1.0), ('Wolfram', 1.0), ('Osgood', 1.0), ('Bryan', 1.0), ('Bobbette', 0.0), ('Katrina', 0.0), ('Rodolphe', 1.0), ('Geraldo', 1.0), ('Faith', 0.0), ('Kizzee', 0.0), ('Dorie', 0.0), ('Livia', 0.0), ('Trudie', 0.0), ('Talya', 0.0), ('Jobye', 0.0), ('Binni', 0.0), ('Astra', 0.0), ('Filbert', 1.0), ('Ian', 1.0), ('Caren', 0.0), ('Remy', 0.0), ('Eileen', 0.0), ('Marji', 0.0), ('Sylvan', 1.0), ('Batholomew', 1.0), ('Lucas', 1.0), ('Corry', 0.0), ('Jobyna', 0.0), ('Lira', 0.0), ('Thebault', 1.0), ('Karol', 0.0), ('Chauncey', 1.0), ('Rozalin', 0.0), ('Merry', 1.0), ('Rodi', 0.0), ('Danya', 0.0), ('Lotta', 0.0), ('Hersh', 1.0), ('Andrew', 1.0), ('Faun', 0.0), ('Dwane', 1.0), ('Tucker', 1.0), ('Elwin', 1.0), ('Starla', 0.0), ('Trip', 1.0), ('Meryl', 1.0), ('Eberhard', 1.0), ('Montgomery', 1.0), ('Luigi', 1.0), ('Filide', 0.0), ('Terra', 0.0), ('Sid', 1.0), ('Tyrone', 1.0), ('Ugo', 1.0), ('Verge', 1.0), ('Pamela', 0.0), ('Lillis', 0.0), ('Walker', 1.0), ('Gustie', 0.0), ('Izzy', 1.0), ('Jeffery', 1.0), ('Tawnya', 0.0), ('Christy', 1.0), ('Hastings', 1.0), ('Karena', 0.0), ('Marmaduke', 1.0), ('Samuella', 0.0), ('Stacie', 0.0), ('Flynn', 1.0), ('Nance', 0.0), ('Gizela', 0.0), ('Annabel', 0.0), ('Blondie', 0.0), ('Ruben', 1.0), ('Naoma', 0.0), ('Marje', 0.0), ('Cal', 1.0), ('Maud', 0.0), ('Roxane', 0.0), ('Marjie', 0.0), ('Justin', 0.0), ('Kerry', 0.0), ('Morly', 1.0), ('Virginie', 0.0), ('Kingston', 1.0), ('Alejandrina', 0.0), ('Janina', 0.0), ('Glenna', 0.0), ('Erda', 0.0), ('Suzy', 0.0), ('Maddi', 0.0), ('Kaiser', 1.0), ('Adrianna', 0.0), ('Kassie', 0.0), ('Vania', 0.0), ('Marcelle', 0.0), ('Beth', 0.0), ('Ivette', 0.0), ('Bert', 1.0), ('Bryn', 0.0), ('Jobey', 0.0), ('Haskell', 1.0), ('Cyndy', 0.0), ('Ave', 1.0), ('Celesta', 0.0), ('Stinky', 1.0), ('Mikako', 0.0), ('Maximilien', 1.0), ('Ingram', 1.0), ('Gillie', 0.0), ('Horace', 1.0), ('Ahmed', 1.0), ('Merrily', 0.0), ('Rivi', 0.0), ('Brit', 0.0), ('Loise', 0.0), ('Page', 0.0), ('Carena', 0.0), ('Zippy', 1.0), ('Carmita', 0.0), ('Charita', 0.0), ('Hesther', 0.0), ('Clarey', 0.0), ('Allissa', 0.0), ('Vick', 1.0), ('Murphy', 1.0), ('Forbes', 1.0), ('Christiano', 1.0), ('Durant', 1.0), ('Ricki', 0.0), ('Corbin', 1.0), ('Jessa', 0.0), ('Stefanie', 0.0), ('Markos', 1.0), ('Lacie', 0.0), ('Shumeet', 1.0), ('Titus', 1.0), ('Gavriel', 1.0), ('Andre', 1.0), ('Vivie', 0.0), ('Mame', 0.0), ('Isidore', 1.0), ('Dimitrou', 1.0), ('Maurene', 0.0), ('Michail', 1.0), ('Cy', 1.0), ('Haydon', 1.0), ('Myrtia', 0.0), ('Konstance', 0.0), ('Darryl', 0.0), ('Fawnia', 0.0), ('Stacy', 1.0), ('Edouard', 1.0), ('Celia', 0.0), ('Sheeree', 0.0), ('Aguste', 1.0), ('Allison', 0.0), ('Liora', 0.0), ('Fawne', 0.0), ('Ethelyn', 0.0), ('Darda', 0.0), ('Ace', 1.0), ('Beckie', 0.0), ('Rory', 0.0), ('Vic', 1.0), ('Pandora', 0.0), ('Shaine', 1.0), ('Miranda', 0.0), ('Lorilee', 0.0), ('Edwin', 1.0), ('Chrissa', 0.0), ('Kylen', 0.0), ('Benjy', 1.0), ('Erl', 1.0), ('Apollo', 1.0), ('Margaret', 0.0), ('Constanta', 0.0), ('Amandy', 0.0), ('Wainwright', 1.0), ('Katuscha', 0.0), ('Emmi', 0.0), ('Neall', 1.0), ('Evelina', 0.0), ('Andri', 1.0), ('Mahalia', 0.0), ('Cheston', 1.0), ('Julee', 0.0), ('Cissie', 0.0), ('Mohamed', 1.0), ('Redford', 1.0), ('Ranee', 0.0), ('Bartholomew', 1.0), ('Aurore', 0.0), ('Jeannie', 0.0), ('Laurice', 0.0), ('Othelia', 0.0), ('Jamie', 1.0), ('Dieter', 1.0), ('Dosi', 0.0), ('Dmitri', 1.0), ('Vannie', 0.0), ('Maximilian', 1.0), ('Karla', 0.0), ('Jean-Christophe', 1.0), ('Caresse', 0.0), ('Brana', 0.0), ('Marietta', 0.0), ('Benedict', 1.0), ('Odie', 1.0), ('Ray', 1.0), ('Zorro', 1.0), ('Tuck', 1.0), ('Dimitrios', 1.0), ('Bentley', 1.0), ('Isaac', 1.0), ('Marietta', 1.0), ('Petr', 1.0), ('Silas', 1.0), ('Hally', 0.0), ('Rhonda', 0.0), ('Kiri', 0.0), ('Glenn', 1.0), ('Kathleen', 0.0), ('Griswold', 1.0), ('Helen', 0.0), ('Laurie', 0.0), ('Bart', 1.0), ('Benedetta', 0.0), ('Esmerelda', 0.0), ('Marice', 0.0), ('Cacilia', 0.0), ('Sollie', 1.0), ('Billi', 0.0), ('Kellen', 1.0), ('Dania', 0.0), ('Shara', 0.0), ('Sigmund', 1.0), ('Marcos', 1.0), ('Tremaine', 1.0), ('Claudetta', 0.0), ('Adnan', 1.0), ('Dione', 0.0), ('Junia', 0.0), ('Batsheva', 0.0), ('Fedora', 0.0), ('Linet', 0.0), ('Ellene', 0.0), ('Guthrey', 1.0), ('Juditha', 0.0), ('Manfred', 1.0), ('Bree', 0.0), ('Marja', 0.0), ('Woochang', 1.0), ('Therine', 0.0), ('Henry', 1.0), ('Langston', 1.0), ('Engelbert', 1.0), ('Veriee', 0.0), ('Easter', 0.0), ('Antony', 1.0), ('Nydia', 0.0), ('Luke', 1.0), ('Morten', 1.0), ('Eden', 0.0), ('Dunstan', 1.0), ('Selle', 0.0), ('Randa', 0.0), ('Betti', 0.0), ('Tuesday', 0.0), ('Tandie', 0.0), ('Dasi', 0.0), ('Romain', 1.0), ('Dell', 0.0), ('Ana', 0.0), ('Fabio', 1.0), ('Catlaina', 0.0), ('Haily', 0.0), ('Kayley', 0.0), ('Ilysa', 0.0), ('Waverly', 1.0), ('Melany', 0.0), ('Elianora', 0.0), ('Sasha', 1.0), ('Auroora', 0.0), ('Sophi', 0.0), ('Malorie', 0.0), ('Cybelle', 0.0), ('Kimball', 1.0), ('Renata', 0.0), ('Waly', 0.0), ('Aleks', 1.0), ('Lilian', 0.0), ('Amadeus', 1.0), ('Virginia', 0.0), ('Grady', 1.0), ('Kalinda', 0.0), ('Bethina', 0.0), ('Flower', 0.0), ('Cate', 0.0), ('Madalena', 0.0), ('Freeman', 1.0), ('Shea', 0.0), ('Rene', 1.0), ('Cinnamon', 0.0), ('Zarla', 0.0), ('Lilllie', 0.0), ('Berny', 0.0), ('Blythe', 0.0), ('Antoinette', 0.0), ('Yale', 1.0), ('Caralie', 0.0), ('Jefferey', 1.0), ('Sophronia', 0.0), ('Wenona', 0.0), ('Carlye', 0.0), ('Tore', 1.0), ('Mireielle', 0.0), ('Leann', 0.0), ('Francyne', 0.0), ('Alexei', 1.0), ('Mommy', 0.0), ('Godfrey', 1.0), ('Deedee', 0.0), ('Sunny', 0.0), ('Chandra', 0.0), ('Joelynn', 0.0), ('Aleck', 1.0), ('Wilfred', 1.0), ('Sissy', 0.0), ('Claresta', 0.0), ('Tessy', 0.0), ('Jacquetta', 0.0), ('Karoly', 0.0), ('Lionel', 1.0), ('Inga', 0.0), ('Robbie', 0.0), ('Elisha', 0.0), ('Marketa', 0.0), ('Sukey', 0.0), ('Meir', 1.0), ('Lindsay', 0.0), ('Fanchette', 0.0), ('Celestina', 0.0), ('Marcia', 0.0), ('Cassondra', 0.0), ('Cristin', 0.0), ('Allin', 1.0), ('Dorree', 0.0), ('Kellie', 0.0), ('Cortney', 0.0), ('Gale', 0.0), ('Petronilla', 0.0), ('Worthy', 1.0), ('Huey', 1.0), ('Dell', 1.0), ('Freddi', 0.0), ('Cati', 0.0), ('Kris', 0.0), ('Lorenza', 0.0), ('Katrinka', 0.0), ('Meade', 1.0), ('Arvin', 1.0), ('Philippa', 0.0), ('Gill', 0.0), ('Avis', 0.0), ('Quintilla', 0.0), ('Louie', 1.0), ('Honor', 0.0), ('Wynny', 0.0), ('Rebecca', 0.0), ('Winslow', 1.0), ('Wes', 1.0), ('Dari', 0.0), ('Stanford', 1.0), ('Berk', 1.0), ('Joyann', 0.0), ('Mose', 1.0), ('Sallyanne', 0.0), ('Benjamen', 1.0), ('Laverne', 0.0), ('Douglas', 1.0), ('Adriaens', 0.0), ('Zalman', 1.0), ('Alyse', 0.0), ('Mellisa', 0.0), ('Tabitha', 0.0), ('Alena', 0.0), ('Will', 1.0), ('Christoph', 1.0), ('Apostolos', 1.0), ('Vernen', 1.0), ('Ferdie', 1.0), ('Marion', 1.0), ('Claudine', 0.0), ('Vasili', 1.0), ('Gale', 1.0), ('Angie', 0.0), ('Nessy', 0.0), ('Annelise', 0.0), ('Aretha', 0.0), ('Algernon', 1.0), ('Marven', 1.0), ('Addie', 0.0), ('Andra', 0.0), ('Darleen', 0.0), ('Cally', 0.0), ('Sybil', 0.0), ('Faunie', 0.0), ('Pearline', 0.0), ('Praneetf', 1.0), ('Rand', 1.0), ('Vera', 0.0), ('Oscar', 1.0), ('Ferdinande', 0.0), ('Janel', 0.0), ('Damaris', 0.0), ('Fawn', 0.0), ('Elga', 0.0), ('Trenton', 1.0), ('Theadora', 0.0), ('Melessa', 0.0), ('Tod', 1.0), ('Kurt', 1.0), ('Reina', 0.0), ('Nevile', 1.0), ('Rori', 0.0), ('Koo', 0.0), ('Wallie', 0.0), ('Sanderson', 1.0), ('Amelie', 0.0), ('Konstantin', 1.0), ('Quiggly', 1.0), ('Ediva', 0.0), ('Cassaundra', 0.0), ('Antone', 1.0), ('Dugan', 1.0), ('Evie', 0.0), ('Ramsay', 1.0), ('Maurie', 1.0), ('Margarete', 0.0), ('Rosamond', 0.0), ('Godart', 1.0), ('Ruthanne', 0.0), ('Tobin', 1.0), ('Courtenay', 0.0), ('Baldwin', 1.0), ('Ragnhild', 0.0), ('Em', 0.0), ('Sada', 0.0), ('Griselda', 0.0), ('Gideon', 1.0), ('Ramsey', 1.0), ('Randi', 0.0), ('Stephana', 0.0), ('Shawn', 1.0), ('Buster', 1.0), ('Karsten', 1.0), ('Lorita', 0.0), ('Arlena', 0.0), ('Gates', 0.0), ('Pollyanna', 0.0), ('Donovan', 1.0), ('Jaime', 1.0), ('Frederich', 1.0), ('Tilda', 0.0), ('Neel', 1.0), ('Suzette', 0.0), ('Keriann', 0.0), ('Renel', 0.0), ('Breanne', 0.0), ('Erinn', 0.0), ('Eduardo', 1.0), ('Herb', 1.0), ('Marcio', 1.0), ('Allyn', 0.0), ('Meier', 1.0), ('Salome', 0.0), ('Michele', 1.0), ('Tynan', 1.0), ('Kamillah', 0.0), ('Solly', 1.0), ('Happy', 0.0), ('Carlota', 0.0), ('Augustus', 1.0), ('Rollo', 1.0), ('Justis', 1.0), ('Zachariah', 1.0), ('Moira', 0.0), ('Lisa', 0.0), ('Valma', 0.0), ('Melba', 0.0), ('Fatima', 0.0), ('Katie', 0.0), ('Shep', 1.0), ('Terina', 0.0), ('Reinhard', 1.0), ('Christean', 0.0), ('Anatola', 0.0), ('Bela', 1.0), ('Delly', 0.0), ('Beau', 0.0), ('Ivan', 1.0), ('Steffie', 0.0), ('Elisabetta', 0.0), ('Penelopa', 0.0), ('Kendall', 1.0), ('Gerti', 0.0), ('Linn', 0.0), ('Cherilynn', 0.0), ('Babita', 0.0), ('Elita', 0.0), ('Andy', 0.0), ('Brenda', 0.0), ('Nannie', 0.0), ('Denny', 1.0), ('Elden', 1.0), ('Odele', 0.0), ('Damon', 1.0), ('Allsun', 0.0), ('Rudiger', 1.0), ('Delores', 0.0), ('Anatole', 1.0), ('Joby', 0.0), ('Lyndy', 0.0), ('Lynde', 0.0), ('Hallie', 0.0), ('Bria', 0.0), ('Lysandra', 0.0), ('Sioux', 0.0), ('Maribel', 0.0), ('Judye', 0.0), ('Pegeen', 0.0), ('Aubrette', 0.0), ('Han', 1.0), ('Claudia', 0.0), ('Marty', 1.0), ('Ingeberg', 0.0), ('Paulie', 0.0), ('Pennie', 1.0), ('Antonino', 1.0), ('Jesse', 1.0), ('Sinead', 0.0), ('Ronald', 1.0), ('Meade', 0.0), ('Virgie', 1.0), ('Leese', 0.0), ('Sauncho', 1.0), ('Muffin', 1.0), ('Caryn', 0.0), ('Vinny', 1.0), ('Elfrida', 0.0), ('Johnathon', 1.0), ('Jorrie', 0.0), ('Oralie', 0.0), ('Chanda', 0.0), ('Margit', 0.0), ('Zane', 1.0), ('Alphonso', 1.0), ('Emily', 0.0), ('Hyacintha', 0.0), ('Ketti', 0.0), ('Blinnie', 0.0), ('Maryann', 0.0), ('Sunny', 1.0), ('Dix', 0.0), ('Cyb', 0.0), ('Joye', 0.0), ('Orsola', 0.0), ('Teresita', 0.0), ('Verena', 0.0), ('Elliot', 1.0), ('Ilyse', 0.0), ('Ozzie', 1.0), ('Nicky', 1.0), ('Sivert', 1.0), ('Jaimie', 0.0), ('Enrika', 0.0), ('Eliot', 1.0), ('Misty', 0.0), ('Ahmad', 1.0), ('Barb', 0.0), ('Sharline', 0.0), ('Evangelina', 0.0), ('Cathleen', 0.0), ('Elie', 0.0), ('Dillon', 1.0), ('Nedda', 0.0), ('Patty', 0.0), ('Leeanne', 0.0), ('Aldwin', 1.0), ('Carmine', 1.0), ('Sela', 0.0), ('Cordy', 0.0), ('Mohammed', 1.0), ('Rania', 0.0), ('Arthur', 1.0), ('Herbie', 1.0), ('Tove', 0.0), ('Emmie', 0.0), ('Dorita', 0.0), ('Teri', 0.0), ('Olive', 0.0), ('Adara', 0.0), ('Audre', 0.0), ('Francisca', 0.0), ('Harvie', 1.0), ('Philomena', 0.0), ('Kathrine', 0.0), ('Jo', 0.0), ('Cherye', 0.0), ('Shaylyn', 0.0), ('Christophe', 1.0), ('Jodie', 0.0), ('Nikolia', 0.0), ('Ike', 0.0), ('Rodrique', 1.0), ('Cole', 1.0), ('Amity', 0.0), ('Slim', 1.0), ('Shawna', 0.0), ('Amabel', 0.0), ('Barbie', 0.0), ('Kylila', 0.0), ('Chloette', 0.0), ('Jeralee', 0.0), ('Mika', 1.0), ('Tammie', 1.0), ('Fleur', 0.0), ('Joela', 0.0), ('Reyna', 0.0), ('Kirby', 1.0), ('Jeanne', 0.0), ('Diego', 1.0), ('Earl', 1.0), ('Dionysus', 1.0), ('Raynor', 1.0), ('Sybyl', 0.0), ('Alessandra', 0.0), ('Tonie', 0.0), ('Marthe', 0.0), ('Shaine', 0.0), ('Dayle', 0.0), ('Edithe', 0.0), ('Geoffrey', 1.0), ('Wye', 1.0), ('Eveleen', 0.0), ('Thea', 0.0), ('Sibella', 0.0), ('Benedikta', 0.0), ('Weslie', 1.0), ('Simeon', 1.0), ('Dottie', 0.0), ('Meg', 0.0), ('Rubetta', 0.0), ('Valentine', 0.0), ('April', 0.0), ('Bess', 0.0), ('Barny', 1.0), ('Dara', 0.0), ('Eydie', 0.0), ('Morty', 1.0), ('Briney', 0.0), ('Vivien', 0.0), ('Willamina', 0.0), ('Gerry', 1.0), ('Katy', 0.0), ('Devinne', 0.0), ('Shay', 0.0), ('Kat', 0.0), ('Frederico', 1.0), ('Hilton', 1.0), ('Solomon', 1.0), ('Neda', 0.0), ('Bessy', 0.0), ('Bel', 0.0), ('Jobina', 0.0), ('Natala', 0.0), ('Fannie', 0.0), ('Gertrude', 0.0), ('Andromeda', 0.0), ('Charleton', 1.0), ('Maryjane', 0.0), ('Abbott', 1.0), ('Orelie', 0.0), ('Lianna', 0.0), ('Jocelyne', 0.0), ('Justina', 0.0), ('Karna', 0.0), ('Nerti', 0.0), ('Rad', 1.0), ('Jaymee', 0.0), ('Kinna', 0.0), ('Brody', 1.0), ('Cynthea', 0.0), ('Noelyn', 0.0), ('Ninnetta', 0.0), ('Danika', 0.0), ('Blakeley', 0.0), ('Peria', 0.0), ('Ofilia', 0.0), ('Verna', 0.0), ('Marion', 0.0), ('Merci', 0.0), ('Nada', 0.0), ('Florencia', 0.0), ('Celestyn', 0.0), ('Mari', 0.0), ('Dru', 1.0), ('Charlot', 0.0), ('Eve', 0.0), ('Del', 1.0), ('Hasheem', 1.0), ('Hugh', 1.0), ('Nela', 0.0), ('Jesselyn', 0.0), ('Quigly', 1.0), ('Holly-Anne', 0.0), ('Janella', 0.0), ('Goose', 1.0), ('Naomi', 0.0), ('Stacia', 0.0), ('Kendra', 0.0), ('Gratiana', 0.0), ('Jasmin', 0.0), ('Garrott', 1.0), ('Hynda', 0.0), ('Elle', 0.0), ('Lin', 1.0), ('Gustave', 1.0), ('Randie', 0.0), ('Scot', 1.0), ('Terrance', 1.0), ('Taryn', 0.0), ('Kally', 0.0), ('Aleece', 0.0), ('Valerye', 0.0), ('Ruthie', 0.0), ('Lloyd', 1.0), ('Emmaline', 0.0), ('Roch', 0.0), ('Felix', 1.0), ('Matty', 1.0), ('Wynton', 1.0), ('Dorian', 0.0), ('Tomas', 1.0), ('Crawford', 1.0), ('Biff', 1.0), ('Blake', 0.0), ('Nena', 0.0), ('Tony', 1.0), ('Millicent', 0.0), ('Corey', 0.0), ('Petrina', 0.0), ('Syd', 1.0), ('Claire', 1.0), ('Jacky', 0.0), ('Lisetta', 0.0), ('Charlena', 0.0), ('Waring', 1.0), ('Vilma', 0.0), ('Moe', 1.0), ('Koral', 0.0), ('Karlee', 0.0), ('Krissie', 0.0), ('Thalia', 0.0), ('Goddart', 1.0), ('Chadwick', 1.0), ('Danna', 0.0), ('Eli', 1.0), ('Crystal', 0.0), ('Shalom', 1.0), ('Sebastiano', 1.0), ('Damara', 0.0), ('Fanni', 0.0), ('Blondell', 0.0), ('Tiffy', 0.0), ('Yetty', 0.0), ('Bobbie', 0.0), ('Odysseus', 1.0), ('Shane', 0.0), ('Nathan', 1.0), ('Joab', 1.0), ('Armand', 1.0), ('Chelsey', 0.0), ('Hernando', 1.0), ('Kathlin', 0.0), ('Kathe', 0.0), ('Onida', 0.0), ('Janey', 0.0), ('Hermia', 0.0), ('Towny', 1.0), ('Cass', 0.0), ('Hewet', 1.0), ('Hannibal', 1.0), ('Fox', 1.0), ('Joceline', 0.0), ('Devora', 0.0), ('Forrest', 1.0), ('Turner', 1.0), ('Ulric', 1.0), ('Estrellita', 0.0), ('Voltaire', 1.0), ('Collie', 0.0), ('Connie', 0.0), ('Rollins', 1.0), ('Gerrilee', 0.0), ('Nathanial', 1.0), ('Zechariah', 1.0), ('Brunhilde', 0.0), ('Sammie', 1.0), ('Beaufort', 1.0), ('Suzetta', 0.0), ('Iggy', 1.0), ('Silvano', 1.0), ('Eleonore', 0.0), ('Elissa', 0.0), ('Rakel', 0.0), ('Ottilie', 0.0), ('Walter', 1.0), ('Thaddius', 1.0), ('Anurag', 1.0), ('Renard', 1.0), ('Ambur', 0.0), ('Sawyere', 1.0), ('Ceciley', 0.0), ('Pavia', 0.0), ('Zelma', 0.0), ('Caroljean', 0.0), ('Talyah', 0.0), ('Enrichetta', 0.0), ('Sharia', 0.0), ('Hamlen', 1.0), ('Wash', 1.0), ('Clarice', 0.0), ('Park', 1.0), ('Deny', 0.0), ('Cathyleen', 0.0), ('Brock', 1.0), ('Dominick', 1.0), ('Maryellen', 0.0), ('Lorianne', 0.0), ('Morton', 1.0), ('Aloysius', 1.0), ('Zach', 1.0), ('Arther', 1.0), ('Emera', 0.0), ('Elaine', 0.0), ('Briny', 0.0), ('Arlina', 0.0), ('Prasad', 1.0), ('Elwyn', 1.0), ('Markus', 1.0), ('Marlena', 0.0), ('Missy', 0.0), ('Maryanne', 0.0), ('Isabella', 0.0), ('Joey', 0.0), ('Corina', 0.0), ('Nahum', 1.0), ('Tedmund', 1.0), ('Rivalee', 0.0), ('Cordey', 0.0), ('Bucky', 1.0), ('Ingamar', 1.0), ('Padraig', 1.0), ('Leslie', 1.0), ('Bamby', 0.0), ('Cecilia', 0.0), ('Ginni', 0.0), ('Shani', 0.0), ('Donal', 1.0), ('Agace', 0.0), ('Garwin', 1.0), ('Lise', 0.0), ('Wendy', 0.0), ('Raphaela', 0.0), ('Pepita', 0.0), ('Kristen', 0.0), ('Ferdinand', 1.0), ('Rab', 1.0), ('Jack', 1.0), ('Winfred', 1.0), ('Midge', 0.0), ('Oren', 1.0), ('Viviana', 0.0), ('Garvy', 1.0), ('Risa', 0.0), ('Juliana', 0.0), ('Miriam', 0.0), ('Edeline', 0.0), ('Olia', 0.0), ('Virgie', 0.0), ('Cathrine', 0.0), ('Hakeem', 1.0), ('Alison', 0.0), ('Elysha', 0.0), ('Carlin', 1.0), ('Shelba', 0.0), ('Cassie', 0.0), ('Dayna', 0.0), ('Beatrisa', 0.0), ('Megen', 0.0), ('Tammi', 0.0), ('Price', 1.0), ('Marya', 0.0), ('Codi', 0.0), ('Myrlene', 0.0), ('Merill', 1.0), ('Minta', 0.0), ('Tyne', 0.0), ('Silvio', 1.0), ('Merwin', 1.0), ('Shilpa', 0.0), ('Murielle', 0.0), ('Lauretta', 0.0), ('Reggi', 0.0), ('Basil', 1.0), ('Neile', 0.0), ('Joannes', 0.0), ('Doug', 1.0), ('Gunilla', 0.0), ('Lorine', 0.0), ('Kristina', 0.0), ('Malory', 0.0), ('Emanuela', 0.0), ('Mignon', 0.0), ('Jotham', 1.0), ('Olivie', 0.0), ('Leone', 0.0), ('Corrina', 0.0), ('Lev', 1.0), ('Rufe', 1.0), ('Estele', 0.0), ('Romy', 0.0), ('Tess', 0.0), ('Hyman', 1.0), ('Lynnette', 0.0), ('Madelaine', 0.0), ('Frieda', 0.0), ('Judy', 1.0), ('Alton', 1.0), ('Siana', 0.0), ('Corrie', 0.0), ('Demetria', 0.0), ('Annadiane', 0.0), ('Korney', 0.0), ('Israel', 1.0), ('Gracia', 0.0), ('Betsey', 0.0), ('Raychel', 0.0), ('Georgette', 0.0), ('Elwira', 0.0), ('Harriette', 0.0), ('Hailee', 0.0), ('Alica', 0.0), ('Aime', 0.0), ('Kristine', 0.0), ('Ammamaria', 0.0), ('Shepard', 1.0), ('Opal', 0.0), ('Angel', 1.0), ('Inez', 0.0), ('Elene', 0.0), ('Florenza', 0.0), ('Constance', 0.0), ('Valencia', 0.0), ('Lynsey', 0.0), ('Deryl', 1.0), ('Noland', 1.0), ('Margret', 0.0), ('Reagan', 1.0), ('Norm', 1.0), ('Rick', 1.0), ('Leoline', 0.0), ('Ilka', 0.0), ('Baily', 1.0), ('Celie', 0.0), ('Felipe', 1.0), ('Lanni', 0.0), ('Randolf', 1.0), ('Gregorio', 1.0), ('Lotte', 0.0), ('Melina', 0.0), ('Francis', 1.0), ('Aubine', 0.0), ('Ted', 0.0), ('Drake', 1.0), ('Derby', 1.0), ('Ricky', 1.0), ('Jason', 1.0), ('Margalo', 0.0), ('Amabelle', 0.0), ('Floris', 0.0), ('Fifi', 0.0), ('Esma', 0.0), ('Junette', 0.0), ('Marylin', 0.0), ('Barbi', 0.0), ('Yovonnda', 0.0), ('Shanie', 0.0), ('Blaire', 0.0), ('Barbabas', 1.0), ('Emmanuel', 1.0), ('Jocelin', 0.0), ('Myrna', 0.0), ('Sue-elle', 0.0), ('Dulcia', 0.0), ('Ewart', 1.0), ('Fredra', 0.0), ('Geri', 1.0), ('Aprilette', 0.0), ('Sile', 0.0), ('Quinn', 0.0), ('Jed', 1.0), ('Guenevere', 0.0), ('Celestyna', 0.0), ('Esme', 0.0), ('Tracy', 0.0), ('Cob', 1.0), ('Ginger', 0.0), ('Salomone', 1.0), ('Sibel', 0.0), ('Purcell', 1.0), ('Amalie', 0.0), ('Melisande', 0.0), ('Ebenezer', 1.0), ('Rosella', 0.0), ('Hildagard', 0.0), ('Paddy', 1.0), ('Osbourne', 1.0), ('Gay', 1.0), ('Bruce', 1.0), ('Rosaleen', 0.0), ('Babara', 0.0), ('Octavia', 0.0), ('Murray', 1.0), ('Fanya', 0.0), ('Franklin', 1.0), ('Dorothea', 0.0), ('Berke', 1.0), ('Heinz', 1.0), ('Kori', 0.0), ('Bill', 0.0), ('Emmalyn', 0.0), ('Calley', 0.0), ('Mamie', 0.0), ('Trever', 1.0), ('Estrella', 0.0), ('Aurie', 0.0), ('Andi', 0.0), ('Kimberlee', 0.0), ('Marj', 0.0), ('Bobby', 0.0), ('Pennie', 0.0), ('Ivie', 0.0), ('Korella', 0.0), ('Teane', 0.0), ('Zonda', 0.0), ('Jillane', 0.0), ('Cat', 1.0), ('Austine', 0.0), ('Brandise', 0.0), ('Kay', 0.0), ('Fowler', 1.0), ('Doreen', 0.0), ('Johannes', 1.0), ('Horatia', 0.0), ('Adena', 0.0), ('Adrienne', 0.0), ('Donia', 0.0), ('Gilbert', 1.0), ('Sergio', 1.0), ('Rene', 0.0), ('Sander', 1.0), ('Gustav', 1.0), ('Newton', 1.0), ('Toddy', 1.0), ('Christine', 0.0), ('Olly', 0.0), ('Bertram', 1.0), ('Rustie', 1.0), ('Kalila', 0.0), ('Anissa', 0.0), ('Norwood', 1.0), ('Verine', 0.0), ('Geraldina', 0.0), ('Shena', 0.0), ('Sandra', 0.0), ('Burt', 1.0), ('Yettie', 0.0), ('Pepi', 0.0), ('Elberta', 0.0), ('Daloris', 0.0), ('Micky', 1.0), ('Larisa', 0.0), ('Skipp', 1.0), ('Sena', 0.0), ('Darryl', 1.0), ('Kalie', 0.0), ('Salmon', 1.0), ('Rustin', 1.0), ('Josefina', 0.0), ('Brooke', 1.0), ('Alessandro', 1.0), ('Tobiah', 1.0), ('Kai', 0.0), ('Genny', 0.0), ('Ximenes', 1.0), ('Alanna', 0.0), ('Eddy', 1.0), ('Nady', 0.0), ('Derick', 1.0), ('Dion', 0.0), ('Galina', 0.0), ('Franni', 0.0), ('Samuel', 1.0), ('Aldrich', 1.0), ('Fazeel', 1.0), ('Carmela', 0.0), ('Darci', 0.0), ('Marsh', 1.0), ('Aridatha', 0.0), ('Norri', 0.0), ('Anne-Corinne', 0.0), ('Dustin', 1.0), ('Angelique', 0.0), ('Gallagher', 1.0), ('Chere', 0.0), ('Noami', 0.0), ('Ibrahim', 1.0), ('Vale', 1.0), ('Walther', 1.0), ('Ollie', 1.0), ('Agathe', 0.0), ('Roth', 1.0), ('Carleen', 0.0), ('Graham', 1.0), ('Nikos', 1.0), ('Rhody', 0.0), ('Joanne', 0.0), ('Casandra', 0.0), ('Rica', 0.0), ('Halli', 0.0), ('Trent', 1.0), ('Quentin', 0.0), ('Clifton', 1.0), ('Tre', 1.0), ('Anna-Maria', 0.0), ('Janet', 0.0), ('Arvy', 1.0), ('Lela', 0.0), ('Brook', 0.0), ('Stormie', 0.0), ('Rafael', 1.0), ('Joscelin', 0.0), ('Danelle', 0.0), ('Melanie', 0.0), ('Abigale', 0.0), ('Georgy', 1.0), ('Maddy', 0.0), ('Sindee', 0.0), ('Joice', 0.0), ('Berti', 0.0), ('Nicola', 0.0), ('Bethany', 0.0), ('Meredeth', 1.0), ('Eimile', 0.0), ('Nevins', 1.0), ('Corissa', 0.0), ('Katey', 0.0), ('Giovanna', 0.0), ('Julius', 1.0), ('Marry', 0.0), ('Grant', 1.0), ('Rhianna', 0.0), ('Arlette', 0.0), ('Serena', 0.0), ('Tannie', 1.0), ('Manda', 0.0), ('Alfie', 0.0), ('Daphene', 0.0), ('Darcy', 1.0), ('Evelyn', 1.0), ('Rissa', 0.0), ('Danyelle', 0.0), ('Tiphani', 0.0), ('Viviyan', 0.0), ('Dolora', 0.0), ('Mack', 1.0), ('Dolley', 0.0), ('Carolann', 0.0), ('Ki', 0.0), ('Josee', 0.0), ('Shanda', 0.0), ('Heida', 0.0), ('Sheridan', 1.0), ('Sherry', 0.0), ('Corey', 1.0), ('Antin', 1.0), ('Lem', 1.0), ('Tanner', 1.0), ('Matteo', 1.0), ('Lila', 0.0), ('Rafaela', 0.0), ('Emma', 0.0), ('Laurent', 1.0), ('Georg', 1.0), ('Christy', 0.0), ('Shurlock', 1.0), ('Elicia', 0.0), ('Ruperto', 1.0), ('Hershel', 1.0), ('Ruddy', 1.0), ('Mercie', 0.0), ('Rosetta', 0.0), ('Clo', 0.0), ('Loraine', 0.0), ('Thad', 1.0), ('Virge', 1.0), ('Clinton', 1.0), ('Theodoric', 1.0), ('Pammi', 0.0), ('Ruthann', 0.0), ('Etienne', 1.0), ('Hildegarde', 0.0), ('Leandra', 0.0), ('Lonnie', 1.0), ('Fara', 0.0), ('Tomkin', 1.0), ('Verene', 0.0), ('Josef', 1.0), ('Devan', 0.0), ('Ciara', 0.0), ('Gussie', 0.0), ('Deidre', 0.0), ('Irena', 0.0), ('Jemimah', 0.0), ('Eduard', 1.0), ('Lin', 0.0), ('Herculie', 1.0), ('Gayle', 0.0), ('Alleen', 0.0), ('Jon', 1.0), ('Walton', 1.0), ('Siddhartha', 1.0), ('Mira', 0.0), ('Adriana', 0.0), ('Nelia', 0.0), ('Leanna', 0.0), ('Melicent', 0.0), ('Pierce', 1.0), ('Saw', 1.0), ('Allan', 1.0), ('Julita', 0.0), ('Jeri', 0.0), ('Burl', 1.0), ('Wait', 1.0), ('Leonelle', 0.0), ('Fulvia', 0.0), ('Antonina', 0.0), ('Rozelle', 0.0), ('Devonna', 0.0), ('Carri', 0.0), ('Kiah', 0.0), ('Kimmo', 1.0), ('Hans', 1.0), ('Sandye', 0.0), ('Ellie', 0.0), ('Demetris', 0.0), ('Sher', 0.0), ('Chas', 1.0), ('Mavis', 0.0), ('Arda', 0.0), ('Winnie', 0.0), ('Jehu', 1.0), ('Ulla', 0.0), ('Avram', 1.0), ('Edyth', 0.0), ('Letisha', 0.0), ('Carmel', 0.0), ('Dyson', 1.0), ('Carlton', 1.0), ('Johny', 1.0), ('Faydra', 0.0), ('Cleveland', 1.0), ('Shell', 0.0), ('Chery', 0.0), ('Zena', 0.0), ('Rich', 1.0), ('Sonny', 1.0), ('Morena', 0.0), ('Patricio', 1.0), ('Alvin', 1.0), ('Dyanne', 0.0), ('Ferdinanda', 0.0), ('Dolores', 0.0), ('Loni', 0.0), ('Marcel', 1.0), ('Vijay', 1.0), ('Merlina', 0.0), ('Micky', 0.0), ('Roni', 1.0), ('Fidelia', 0.0), ('Sonya', 0.0), ('Clare', 0.0), ('Shari', 0.0), ('Ralph', 1.0), ('Rosalind', 0.0), ('Maury', 1.0), ('Evangelin', 0.0), ('Lindy', 0.0), ('Bartholomeo', 1.0), ('Kathryne', 0.0), ('David', 1.0), ('Audrie', 0.0), ('Eryn', 0.0), ('Lydie', 0.0), ('Kelvin', 1.0), ('Klarika', 0.0), ('Denni', 0.0), ('Fernandina', 0.0), ('Perle', 0.0), ('Gabe', 1.0), ('Camala', 0.0), ('Kathi', 0.0), ('Persis', 0.0), ('Silvan', 1.0), ('Martie', 1.0), ('Gwennie', 0.0), ('Gaynor', 0.0), ('Salvatore', 1.0), ('Rod', 1.0), ('Aurelea', 0.0), ('Vlad', 1.0), ('Ferguson', 1.0), ('Sybilla', 0.0), ('Emilee', 0.0), ('Noel', 1.0), ('Leta', 0.0), ('Annissa', 0.0), ('Whitman', 1.0), ('Tracee', 0.0), ('Angele', 0.0), ('Berenice', 0.0), ('Merv', 1.0), ('Jacenta', 0.0), ('Sheelah', 0.0), ('Susan', 0.0), ('Sam', 0.0), ('Mirabelle', 0.0), ('Rosabel', 0.0), ('Karil', 0.0), ('Holly', 0.0), ('Lizbeth', 0.0), ('Luanna', 0.0), ('George', 0.0), ('Demetri', 1.0), ('Brianne', 0.0), ('Zonnya', 0.0), ('Marshall', 1.0), ('Vitia', 0.0), ('Roz', 0.0), ('Claire', 0.0), ('Carmelita', 0.0), ('Craig', 1.0), ('Parnell', 1.0), ('Timothy', 1.0), ('Ronalda', 0.0), ('Locke', 1.0), ('Gertrudis', 0.0), (\"E'Lane\", 0.0), ('Karlene', 0.0), ('Hadley', 1.0), ('Lyssa', 0.0), ('Carley', 0.0), ('Gert', 0.0), ('Bernadina', 0.0), ('Teressa', 0.0), ('Christabella', 0.0), ('Zedekiah', 1.0), ('Julianne', 0.0), ('Erek', 1.0), ('Gianna', 0.0), ('Yankee', 1.0), ('Harry', 1.0), ('Helen-Elizabeth', 0.0), ('Ashlen', 0.0), ('Ronnie', 0.0), ('Hamlet', 1.0), ('Alexia', 0.0), ('Amalea', 0.0), ('Robert', 1.0), ('Candida', 0.0), ('Annamaria', 0.0), ('Pierre', 1.0), ('Acacia', 0.0), ('Kendrick', 1.0), ('Calla', 0.0), ('Lincoln', 1.0), ('Bambi', 0.0), ('Vachel', 1.0), ('Kanya', 0.0), ('Jodie', 1.0), ('Sonni', 0.0), ('Mustafa', 1.0), ('Bartlet', 1.0), ('Farrah', 0.0), ('Rollin', 1.0), ('Maison', 1.0), ('Arnoldo', 1.0), ('Stephani', 0.0), ('Dee', 0.0), ('Britney', 0.0), ('Berry', 0.0), ('Giovanne', 1.0), ('Ida', 0.0), ('Weylin', 1.0), ('Nikki', 0.0), ('Gertruda', 0.0), ('Alice', 0.0), ('Gerold', 1.0), ('Antoine', 1.0), ('Isa', 1.0), ('Gretel', 0.0), ('Marleen', 0.0), ('Alecia', 0.0), ('Fiorenze', 0.0), ('Ivett', 0.0), ('Jeffry', 1.0), ('Flint', 1.0), ('Kyla', 0.0), ('Erwin', 1.0), ('Tremayne', 1.0), ('Laird', 1.0), ('Jule', 1.0), ('Wilburt', 1.0), ('Harland', 1.0), ('Granville', 1.0), ('Douggie', 1.0), ('Easton', 1.0), ('Natassia', 0.0), ('Rudie', 1.0), ('Emlynn', 0.0), ('Jammie', 0.0), ('Rhodie', 0.0), ('Hari', 1.0), ('Nollie', 0.0), ('Halette', 0.0), ('Elisha', 1.0), ('Salman', 1.0), ('Nestor', 1.0), ('Gav', 1.0), ('Valli', 0.0), ('Fulton', 1.0), ('Leah', 0.0), ('Stafani', 0.0), ('Ianthe', 0.0), ('Kittie', 0.0), ('Hilde', 0.0), ('Hollis', 1.0), ('Gonzales', 1.0), ('Marga', 0.0), ('Mady', 0.0), ('Laverna', 0.0), ('Dani', 0.0), ('Zebulen', 1.0), ('Lemmie', 1.0), ('Charin', 0.0), ('Dody', 0.0), ('Lanny', 1.0), ('Calypso', 0.0), ('Alwin', 1.0), ('Izak', 1.0), ('Rozele', 0.0), ('Pauletta', 0.0), ('Vikki', 0.0), ('Elna', 0.0), ('Catie', 0.0), ('Skipton', 1.0), ('Brenna', 0.0), ('Chalmers', 1.0), ('Ambrose', 1.0), ('Paule', 0.0), ('Tia', 0.0), ('Lolande', 0.0), ('Augie', 1.0), ('Rolph', 1.0), ('Sorcha', 0.0), ('Lottie', 0.0), ('Urbanus', 1.0), ('Lyle', 1.0), ('Priscilla', 0.0), ('Prunella', 0.0), ('Helise', 0.0), ('Angelika', 0.0), ('Marten', 1.0), ('Nana', 0.0), ('Margareta', 0.0), ('Finn', 1.0), ('Niven', 1.0), ('Cristen', 0.0), ('Christos', 1.0), ('Delmar', 1.0), ('Shem', 1.0), ('Kelcey', 0.0), ('Van', 0.0), ('Haven', 1.0), ('Bryn', 1.0), ('Carlina', 0.0), ('Jerrie', 0.0), ('Clement', 1.0), ('Sapphira', 0.0), ('Charo', 0.0), ('Heath', 1.0), ('Cleland', 1.0), ('Alicea', 0.0), ('Nyssa', 0.0), ('Tori', 0.0), ('Shell', 1.0), ('Connor', 1.0), ('Emmalynn', 0.0), ('Raynell', 0.0), ('Celle', 0.0), ('Vicky', 0.0), ('Derrick', 1.0), ('Zack', 1.0), ('Ronen', 1.0), ('Randell', 1.0), ('Georgie', 1.0), ('Darrel', 1.0), ('Yule', 1.0), ('Margie', 0.0), ('Carrie', 0.0), ('Lorenzo', 1.0), ('Augusto', 1.0), ('Chaunce', 1.0), ('Lawson', 1.0), ('Novelia', 0.0), ('Peyter', 1.0), ('Floyd', 1.0), ('Mellicent', 0.0), ('Whittaker', 1.0), ('Ned', 1.0), ('Anstice', 0.0), ('Kellyann', 0.0), ('Tally', 1.0), ('Mable', 0.0), ('Reginald', 1.0), ('Sosanna', 0.0), ('Sheree', 0.0), ('Catarina', 0.0), ('Norma', 0.0), ('Barbara-Anne', 0.0), ('Fayre', 0.0), ('Betty', 0.0), ('Gray', 0.0), ('Whitney', 1.0), ('Tara', 0.0), ('Noelle', 0.0), ('Laina', 0.0), ('Trudi', 0.0), ('Sasha', 0.0), ('Ash', 1.0), ('Almire', 0.0), ('Tiffi', 0.0), ('Lissa', 0.0), ('Lambert', 1.0), ('Armond', 1.0), ('Gae', 0.0), ('Kim', 0.0), ('Marina', 0.0), ('Carrissa', 0.0), ('Cornela', 0.0), ('Simon', 1.0), ('Reine', 0.0), ('Paton', 1.0), ('Anetta', 0.0), ('Maureen', 0.0), ('Eliott', 1.0), ('Gibb', 1.0), ('Eleni', 0.0), ('Queenie', 0.0), ('Stewart', 1.0), ('Kipp', 0.0), ('Javier', 1.0), ('Tedd', 1.0), ('Katheryn', 0.0), ('Tabbitha', 0.0), ('Dyana', 0.0), ('Rikki', 0.0), ('Georgianna', 0.0), ('Mattheus', 1.0), ('Horatius', 1.0), ('Brady', 1.0), ('Maxie', 0.0), ('Elyssa', 0.0), ('Etta', 0.0), ('Inge', 0.0), ('Wheeler', 1.0), ('Lucila', 0.0), ('Saundra', 0.0), ('Ross', 1.0), ('Washington', 1.0), ('Josefa', 0.0), ('Abbe', 0.0), ('Moreen', 0.0), ('Vita', 0.0), ('Guendolen', 0.0), ('Jeni', 0.0), ('Kalli', 0.0), ('Zora', 0.0), ('Orelee', 0.0), ('Casia', 0.0), ('Cheslie', 0.0), ('Lauren', 0.0), ('Loralee', 0.0), ('Seth', 1.0), ('Tilly', 0.0), ('Florri', 0.0), ('Alasdair', 1.0), ('Daffy', 1.0), ('Patrice', 1.0), ('Odin', 1.0), ('Charmane', 0.0), ('Dolli', 0.0), ('Joann', 0.0), ('Lorrayne', 0.0), ('Sheba', 0.0), ('Devi', 0.0), ('Ezra', 1.0), ('Hurley', 1.0), ('Glennis', 0.0), ('Zabrina', 0.0), ('Gearard', 1.0), ('Judd', 1.0), ('Rutter', 1.0), ('Abdul', 1.0), ('Mellissa', 0.0), ('Caldwell', 1.0), ('Cosette', 0.0), ('Giorgia', 0.0), ('Dory', 1.0), ('Nanette', 0.0), ('Tatiana', 0.0), ('Tabatha', 0.0), ('Lorne', 0.0), ('Libbie', 0.0), ('Ignazio', 1.0), ('Ekaterina', 0.0), ('Allen', 1.0), ('Shantee', 0.0), ('Hildegaard', 0.0), ('Bobinette', 0.0), ('Carmelia', 0.0), ('Darby', 1.0), ('Elianore', 0.0), ('Jacob', 1.0), ('Haley', 1.0), ('Rycca', 0.0), ('Karlen', 0.0), ('Dea', 0.0), ('Ricca', 0.0), ('Pincas', 1.0), ('Ari', 1.0), ('Anjela', 0.0), ('Alisha', 0.0), ('Nevin', 1.0), ('Benoite', 0.0), ('Toma', 0.0), ('Beck', 1.0), ('Eben', 1.0), ('Kissie', 0.0), ('Teresa', 0.0), ('Yaakov', 1.0), ('Samantha', 0.0), ('Rabbi', 1.0), ('Hedy', 0.0), ('Elvin', 1.0), ('Gene', 0.0), ('Mareah', 0.0), ('Marlow', 1.0), ('Thomasin', 0.0), ('Ruth', 0.0), ('Heidi', 0.0), ('Hy', 1.0), ('Jamey', 1.0), ('Joycelin', 0.0), ('Blanca', 0.0), ('Tamarra', 0.0), ('Basia', 0.0), ('Marquita', 0.0), ('Linnie', 0.0), ('Gabriella', 0.0), ('Jessalyn', 0.0), ('Lacey', 0.0), ('Clemence', 0.0), ('Beauregard', 1.0), ('Davin', 1.0), ('Griffin', 1.0), ('Trina', 0.0), ('Barnard', 1.0), ('Pascale', 1.0), ('Cristopher', 1.0), ('Domenico', 1.0), ('Rebeka', 0.0), ('Melamie', 0.0), ('Sheffy', 1.0), ('Chandal', 0.0), ('Winonah', 0.0), ('Dee Dee', 0.0), ('Benson', 1.0), ('Tudor', 1.0), ('Tisha', 0.0), ('Friedrich', 1.0), ('Spud', 1.0), ('Dollie', 0.0), ('Teryl', 0.0), ('Ferd', 1.0), ('Aleda', 0.0), ('Chad', 0.0), ('Bambie', 0.0), ('Kerstin', 0.0), ('Katina', 0.0), ('Glenn', 0.0), ('Barn', 1.0), ('Aleta', 0.0), ('Abbie', 1.0), ('Ricky', 0.0), ('Angelle', 0.0), ('Patrice', 0.0), ('Tedra', 0.0), ('Sarge', 1.0), ('Sadella', 0.0), ('Pooh', 1.0), ('Kizzie', 0.0), ('Hiralal', 1.0), ('Magdalen', 0.0), ('Twila', 0.0), ('Vibhu', 1.0), ('Kristin', 0.0), ('Perla', 0.0), ('Kitty', 0.0), ('Silvain', 1.0), ('Leland', 1.0), ('Joane', 0.0), ('Lilli', 0.0), ('Guthrie', 1.0), ('Noemi', 0.0), ('Alexis', 1.0), ('Nissa', 0.0), ('Ambrosia', 0.0), ('Brook', 1.0), ('Florice', 0.0), ('Bob', 1.0), ('Ainslee', 0.0), ('Giffer', 1.0), ('Knox', 1.0), ('Coralie', 0.0), ('Josephine', 0.0), ('Gena', 0.0), ('Frankie', 0.0), ('Retha', 0.0), ('Obadiah', 1.0), ('Tamar', 0.0), ('Ladonna', 0.0), ('Jerrold', 1.0), ('Zolly', 1.0), ('Teddie', 0.0), ('Letta', 0.0), ('Dunc', 1.0), ('Fabrice', 0.0), ('Auria', 0.0), ('Porter', 1.0), ('Giraud', 1.0), ('Enid', 0.0), ('Barry', 1.0), ('Constancia', 0.0), ('Danyette', 0.0), ('Anette', 0.0), ('Nari', 0.0), ('Lazlo', 1.0), ('Patrica', 0.0), ('Mairead', 0.0), ('Iain', 1.0), ('Larine', 0.0), ('Sacha', 0.0), ('Henrique', 1.0), ('Maurice', 1.0), ('Sammy', 1.0), ('Harmon', 1.0), ('Tarah', 0.0), ('Mahmud', 1.0), ('Charissa', 0.0), ('Devondra', 0.0), ('Moyna', 0.0), ('Pyotr', 1.0), ('Barnett', 1.0), ('Sophey', 0.0), ('Hamil', 1.0), ('Caroleen', 0.0), ('Hyacinthie', 0.0), ('Helaina', 0.0), ('Zachary', 1.0), ('Adolphus', 1.0), ('Bridie', 0.0), ('Sarah', 0.0), ('Stillmann', 1.0), ('Sissie', 0.0), ('Wynn', 0.0), ('Darcey', 0.0), ('Gwynne', 0.0), ('Daveta', 0.0), ('Shoshie', 0.0), ('Vergil', 1.0), ('Madlin', 0.0), ('Ethelred', 1.0), ('Celestia', 0.0), ('Brendan', 1.0), ('Ward', 1.0), ('Hedvig', 0.0), ('Roze', 0.0), ('Nil', 0.0), ('Orlando', 1.0), ('Viki', 0.0), ('Ezechiel', 1.0), ('Kordula', 0.0), ('Mirelle', 0.0), ('Julissa', 0.0), ('Ludvig', 1.0), ('Quintana', 0.0), ('Rory', 1.0), ('Gershom', 1.0), ('Helli', 0.0), ('Sully', 1.0), ('Eugenie', 0.0), ('Gonzalo', 1.0), ('Carol', 0.0), ('Agna', 0.0), ('Carita', 0.0), ('Callie', 0.0), ('Ed', 1.0), ('Theressa', 0.0), ('Ikey', 0.0), ('Lorene', 0.0), ('Onlea', 0.0), ('Bride', 0.0), ('Eba', 0.0), ('Sondra', 0.0), ('Sonny', 0.0), ('Angelia', 0.0), ('Mac', 1.0), ('Ronny', 1.0), ('Elonore', 0.0), ('Sanson', 1.0), ('Jerrilyn', 0.0), ('Xena', 0.0), ('Barbette', 0.0), ('Nevsa', 0.0), ('Lori', 0.0), ('Immanuel', 1.0), ('Brandais', 0.0), ('Kristian', 1.0), ('Tedman', 1.0), ('Miran', 0.0), ('Shea', 1.0), ('Claudina', 0.0), ('Kris', 1.0), ('Tybalt', 1.0), ('Cindee', 0.0), ('Sandie', 0.0), ('Gianina', 0.0), ('Olivier', 1.0), ('Adrianne', 0.0), ('Monte', 1.0), ('Zea', 0.0), ('Sandy', 1.0), ('Janie', 0.0), ('Alexandra', 0.0), ('Shelley', 1.0), ('Don', 1.0), ('Bonnee', 0.0), ('Simonette', 0.0), ('Adah', 0.0), ('Marita', 0.0), ('Libbi', 0.0), ('Veronique', 0.0), ('Ethelda', 0.0), ('Etti', 0.0), ('Cammie', 0.0), ('Rhett', 1.0), ('Giancarlo', 1.0), ('Daria', 0.0), ('Marysa', 0.0), ('Lind', 0.0), ('Jacqueline', 0.0), ('Casi', 0.0), ('Penni', 0.0), ('Lefty', 1.0), ('Hewett', 1.0), ('Marlo', 1.0), ('Tersina', 0.0), ('Woodman', 1.0), ('Hillary', 1.0), ('Fitz', 1.0), ('Anna-Diana', 0.0), ('Cal', 0.0), ('Goober', 1.0), ('Win', 1.0), ('Thibaud', 1.0), ('Hew', 1.0), ('Joanie', 0.0), ('Keri', 0.0), ('Lethia', 0.0), ('Ansell', 1.0), ('Blisse', 0.0), ('Mariellen', 0.0), ('Madonna', 0.0), ('Irwin', 1.0), ('Madlen', 0.0), ('Aida', 0.0), ('Liza', 0.0), ('Bertha', 0.0), ('Rochester', 1.0), ('Cindy', 0.0), ('Niles', 1.0), ('Perry', 0.0), ('Veronika', 0.0), ('Maia', 0.0), ('Elnar', 1.0), ('Doria', 0.0), ('Imelda', 0.0), ('Laurella', 0.0), ('Amelia', 0.0), ('Wolf', 1.0), ('Dulce', 0.0), ('Ronica', 0.0), ('Sapphire', 0.0), ('Sim', 1.0), ('Dietrich', 1.0), ('Cassandra', 0.0), ('Kaycee', 0.0), ('Minette', 0.0), ('Malissa', 0.0), ('Tam', 1.0), ('Guthry', 1.0), ('Cesar', 1.0), ('Lurleen', 0.0), ('Bobina', 0.0), ('Bradley', 1.0), ('Janaya', 0.0), ('Tan', 1.0), ('Berna', 0.0), ('Carline', 0.0), ('Ebba', 0.0), ('Erica', 0.0), ('Ricardo', 1.0), ('Genna', 0.0), ('Leena', 0.0), ('Cyrus', 1.0), ('Tish', 0.0), ('Leonanie', 0.0), ('Zary', 1.0), ('Aurlie', 0.0), ('Martynne', 0.0), ('Stanton', 1.0), ('Erin', 1.0), ('Deborah', 0.0), ('Hortensia', 0.0), ('Hetty', 0.0), ('Sashenka', 0.0), ('Marc', 1.0), ('Gustavus', 1.0), ('Reba', 0.0), ('Janice', 0.0), ('Tatum', 0.0), ('Clarke', 1.0), ('Abram', 1.0), ('Jen', 0.0), ('Hayward', 1.0), ('Marco', 1.0), ('Geeta', 0.0), ('Birdie', 0.0), ('Rosemonde', 0.0), ('Clarisa', 0.0), ('Hans-Peter', 1.0), ('Benny', 1.0), ('Oona', 0.0), ('Asia', 0.0), ('Cora', 0.0), ('Karie', 0.0), ('Dino', 1.0), ('Eyde', 0.0), ('Anson', 1.0), ('Burta', 0.0), ('Martina', 0.0), ('Mollie', 0.0), ('Henryetta', 0.0), ('Jeb', 1.0), ('Ansley', 0.0), ('Susanetta', 0.0), ('Hannah', 0.0), ('Daryle', 1.0), ('Mindy', 0.0), ('Kaile', 0.0), ('Kessiah', 0.0), ('Pat', 1.0), ('Selia', 0.0), ('Bartolemo', 1.0), ('Davidson', 1.0), ('Tamarah', 0.0), ('Lenna', 0.0), ('Katharine', 0.0), ('Jonny', 1.0), ('Gaston', 1.0), ('Cammy', 0.0), ('Tabby', 1.0), ('Andromache', 0.0), ('Aaron', 1.0), ('Sarina', 0.0), ('Nicolea', 0.0), ('Arnold', 1.0), ('Norry', 0.0), ('Ginny', 0.0), ('Troy', 1.0), ('Dulcine', 0.0), ('Kandy', 0.0), ('Rasia', 0.0), ('Alexine', 0.0), ('Terrianne', 0.0), ('Wilma', 0.0), ('Desiree', 0.0), ('Nickey', 1.0), ('Halie', 0.0), ('Farah', 0.0), ('Thain', 1.0), ('Allyson', 0.0), ('Marcus', 1.0), ('Marie', 0.0), ('Morgana', 0.0), ('Ameline', 0.0), ('Morlee', 0.0), ('Randene', 0.0), ('Skippy', 1.0), ('Evangelia', 0.0), ('Camellia', 0.0), ('Ignacio', 1.0), ('Xymenes', 1.0), ('Desmond', 1.0), ('Jules', 1.0), ('Allegra', 0.0), ('Dom', 1.0), ('Gussi', 0.0), ('Consuelo', 0.0), ('Hali', 0.0), ('Lesli', 0.0), ('Pietro', 1.0), ('Gloria', 0.0), ('Leroy', 1.0), ('Dawna', 0.0), ('Jeniffer', 0.0), ('Nester', 1.0), ('Clea', 0.0), ('Kessia', 0.0), ('Zebedee', 1.0), ('Breena', 0.0), ('Latisha', 0.0), ('Kendal', 1.0), ('Bunny', 0.0), ('Wilbur', 1.0), ('Inna', 0.0), ('Shalna', 0.0), ('Cathlene', 0.0), ('Wade', 1.0), ('Valdemar', 1.0), ('Cyrill', 1.0), ('Melody', 0.0), ('Kaari', 0.0), ('Charmion', 0.0), ('Tammy', 1.0), ('Tammara', 0.0), ('Rinaldo', 1.0), ('Antonio', 1.0), ('Sheffield', 1.0), ('Gordan', 1.0), ('Maure', 0.0), ('Rowe', 0.0), ('Torrance', 1.0), ('Bethena', 0.0), ('Danell', 0.0), ('Eolande', 0.0), ('Tobye', 0.0), ('Clareta', 0.0), ('Muffin', 0.0), ('Brian', 1.0), ('Eleanor', 0.0), ('Tanya', 0.0), ('Mara', 0.0), ('Sidoney', 0.0), ('Taffy', 0.0), ('Janis', 0.0), ('Katee', 0.0), ('Brandice', 0.0), ('Brear', 0.0), ('Deni', 0.0), ('Izaak', 1.0), ('Dinny', 0.0), ('Carma', 0.0), ('Berri', 0.0), ('Junina', 0.0), ('Corilla', 0.0), ('Janus', 1.0), ('Caterina', 0.0), ('Bernie', 1.0), ('Maureene', 0.0), ('Veda', 0.0), ('Gratia', 0.0), ('Stesha', 0.0), ('Alfie', 1.0), ('Elsie', 0.0), ('Jackie', 1.0), ('Waverley', 1.0), ('Tiebout', 1.0), ('Gilbertine', 0.0), ('Roanne', 0.0), ('Neal', 1.0), ('Nancy', 0.0), ('Filippa', 0.0), ('Edythe', 0.0), ('Iseabal', 0.0), ('Rey', 1.0), ('Donielle', 0.0), ('Prasun', 1.0), ('Rolando', 1.0), ('Mariette', 0.0), ('Elnore', 0.0), ('Phillida', 0.0), ('Zitella', 0.0), ('Ginnifer', 0.0), ('Menard', 1.0), ('Sibilla', 0.0), ('Vonnie', 0.0), ('Abbey', 0.0), ('Sterling', 1.0), ('Scott', 1.0), ('Julienne', 0.0), ('Belicia', 0.0), ('Shanan', 1.0), ('Winfield', 1.0), ('Marcelline', 0.0), ('Hakim', 1.0), ('Hillery', 1.0), ('Cass', 1.0), ('Thorstein', 1.0), ('Clarisse', 0.0), ('Aggi', 0.0), ('Muire', 0.0), ('Timi', 0.0), ('Marcellina', 0.0), ('Jackie', 0.0), ('Christyna', 0.0), ('Nicholas', 1.0), ('Feodora', 0.0), ('Jilly', 0.0), ('Janelle', 0.0), ('Henderson', 1.0), ('Boyce', 1.0), ('Richmond', 1.0), ('Kristopher', 1.0), ('Hill', 1.0), ('Dave', 1.0), ('Reynard', 1.0), ('Cindie', 0.0), ('Andrey', 1.0), ('Dore', 0.0), ('Abdullah', 1.0), ('Jimbo', 1.0), ('Floria', 0.0), ('Anne', 0.0), ('Jacquenette', 0.0), ('Isabeau', 0.0), ('Jayne', 0.0), ('Lacy', 0.0), ('Christi', 0.0), ('Jared', 1.0), ('Abbot', 1.0), ('Moses', 1.0), ('Patrizia', 0.0), ('Jordan', 0.0), ('Dorolice', 0.0), ('Pieter', 1.0), ('Web', 1.0), ('Lory', 0.0), ('Iolanthe', 0.0), ('Clio', 0.0), ('Darrell', 1.0), ('Ralf', 1.0), ('Chris', 0.0), ('Chickie', 0.0), ('Alys', 0.0), ('Willmott', 1.0), ('Mei', 0.0), ('Edsel', 1.0), ('Jacinthe', 0.0), ('Kerri', 0.0), ('Renelle', 0.0), ('Reynolds', 1.0), ('Sally', 0.0), ('Tootsie', 0.0), ('Shira', 0.0), ('Diamond', 0.0), ('TeresaAnne', 0.0), ('Anestassia', 0.0), ('Wilone', 0.0), ('Davine', 0.0), ('Meryl', 0.0), ('Bernardo', 1.0), ('Fae', 0.0), ('Jose', 1.0), ('Giana', 0.0), ('Hamish', 1.0), ('Brent', 1.0), ('Lenore', 0.0), ('Lazarus', 1.0), ('Ted', 1.0), ('Tom', 1.0), ('Lusa', 0.0), ('Ripley', 1.0), ('Case', 1.0), ('Rina', 0.0), ('Idelle', 0.0), ('Sharra', 0.0), ('Florina', 0.0), ('Donny', 1.0), ('Mallory', 0.0), ('Tim', 0.0), ('Tiena', 0.0), ('Krystalle', 0.0), ('Timmie', 1.0), ('Andrea', 0.0), ('Garnette', 0.0), ('Elvera', 0.0), ('Winne', 0.0), ('Beau', 1.0), ('Gunner', 1.0), ('Ebonee', 0.0), ('Wren', 0.0), ('Avi', 1.0), ('Sofie', 0.0), ('Jerrilee', 0.0), ('Luise', 0.0), ('Christina', 0.0), ('Renie', 0.0), ('Cobb', 1.0), ('Wiley', 1.0), ('Bernette', 0.0), ('Amandie', 0.0), ('Clementine', 0.0), ('Pincus', 1.0), ('Rhoda', 0.0), ('Kati', 0.0), ('Berkley', 1.0), ('Margo', 0.0), ('Rourke', 1.0), ('Frances', 0.0), ('Emory', 1.0), ('Tobie', 0.0), ('Renae', 0.0), ('Gabriele', 1.0), ('Eveline', 0.0), ('Marchall', 1.0), ('Lorelei', 0.0), ('Kial', 0.0), ('Gigi', 0.0), ('Mickie', 0.0), ('Gilli', 0.0), ('Vladimir', 1.0), ('Merilyn', 0.0), ('Matt', 1.0), ('Lisabeth', 0.0), ('Jeanelle', 0.0), ('Jonathon', 1.0), ('Aram', 1.0), ('Maynord', 1.0), ('Sandor', 1.0), ('Nunzio', 1.0), ('Nolan', 1.0), ('Barrie', 0.0), ('Lon', 1.0), ('Cori', 0.0), ('Leanne', 0.0), ('Appolonia', 0.0), ('Neilla', 0.0), ('Edmond', 1.0), ('Hobart', 1.0), ('Maggi', 0.0), ('Del', 0.0), ('Peggy', 0.0), ('Venus', 0.0), ('Arabele', 0.0), ('Debby', 0.0), ('Natalee', 0.0), ('Doralyn', 0.0), ('Arlie', 0.0), ('Mirella', 0.0), ('Aleecia', 0.0), ('Martin', 1.0), ('Robinette', 0.0), ('Madeline', 0.0), ('Elisabeth', 0.0), ('Kerry', 1.0), ('Ursula', 0.0), ('Derrek', 1.0), ('Ricard', 1.0), ('Dode', 0.0), ('Norman', 1.0), ('Angelica', 0.0), ('Vasilis', 1.0), ('Bernie', 0.0), ('Torrey', 1.0), ('Charline', 0.0), ('Prissie', 0.0), ('Cristi', 0.0), ('Gerard', 1.0), ('Joline', 0.0), ('Daren', 1.0), ('Salomo', 1.0), ('Elmore', 1.0), ('Ilyssa', 0.0), ('Bailie', 1.0), ('Camilla', 0.0), ('Katalin', 0.0), ('Michelle', 0.0), ('Malynda', 0.0), ('Sheffie', 1.0), ('Sabra', 0.0), ('Thorn', 1.0), ('Lindy', 1.0), ('Westbrook', 1.0), ('Melodee', 0.0), ('Bonnie', 0.0), ('Scarlett', 0.0), ('Lorie', 0.0), ('Reeta', 0.0), ('Betsy', 0.0), ('Erika', 0.0), ('Nanete', 0.0), ('Rufus', 1.0), ('Rock', 1.0), ('Cherianne', 0.0), ('Percy', 1.0), ('Modesta', 0.0), ('Felice', 0.0), ('Laetitia', 0.0), ('Lucia', 0.0), ('Marnia', 0.0), ('Che', 1.0), ('Janetta', 0.0), ('Phip', 1.0), ('Aurora', 0.0), ('Chrisy', 1.0), ('Heda', 0.0), ('Shane', 1.0), ('Marget', 0.0), ('Umeko', 0.0), ('Carli', 0.0), ('Jewel', 0.0), ('Austina', 0.0), ('Nancey', 0.0), ('Caroline', 0.0), ('Ferdy', 1.0), ('Torre', 1.0), ('Elihu', 1.0), ('Cristionna', 0.0), ('Delaney', 0.0), ('Zebulon', 1.0), ('Hudson', 1.0), ('Rodie', 0.0), ('Fern', 0.0), ('Susanna', 0.0), ('Marigold', 0.0), ('Mag', 0.0), ('Chase', 1.0), ('Ardys', 0.0), ('Lina', 0.0), ('Durante', 1.0), ('Rutledge', 1.0), ('Suki', 0.0), ('Lisandra', 0.0), ('Winni', 0.0), ('Elly', 0.0), ('Walsh', 1.0), ('Jennilee', 0.0), ('Alyson', 0.0), ('Gavin', 1.0), ('Bobbie', 1.0), ('Wallie', 1.0), ('Garry', 1.0), ('Ez', 1.0), ('Mollee', 0.0), ('Debora', 0.0), ('Janette', 0.0), ('Maurise', 1.0), ('Judith', 0.0), ('Juline', 0.0), ('Gerome', 1.0), ('Westley', 1.0), ('Amargo', 0.0), ('Arlen', 0.0), ('Jethro', 1.0), ('Candra', 0.0), ('Rona', 0.0), ('Janene', 0.0), ('Alvina', 0.0), ('Freida', 0.0), ('Leo', 1.0), ('Vale', 0.0), ('Jody', 1.0), ('Theodosia', 0.0), ('Mella', 0.0), ('Cayla', 0.0), ('Tabb', 1.0), ('Ninette', 0.0), ('Toni', 0.0), ('Jordon', 1.0), ('Pierrette', 0.0), ('Gisele', 0.0), ('Evvie', 0.0), ('Mitzi', 0.0), ('Justine', 0.0), ('Chad', 1.0), ('Bengt', 1.0), ('Dwain', 1.0), ('Goldi', 0.0), ('Kacy', 0.0), ('Pet', 0.0), ('Doe', 0.0), ('Gerianna', 0.0), ('Timothee', 1.0), ('Kalil', 1.0), ('Florry', 0.0), ('Rozanna', 0.0), ('Judson', 1.0), ('Noam', 1.0), ('Jessamyn', 0.0), ('Waine', 1.0), ('Vikkie', 0.0), ('Len', 1.0), ('Otho', 1.0), ('Jephthah', 1.0), ('Karilynn', 0.0), ('Rockwell', 1.0), ('Chuck', 1.0), ('Debee', 0.0), ('Bettine', 0.0), ('Doralia', 0.0), ('Welby', 1.0), ('Alfreda', 0.0), ('Randall', 1.0), ('Sallyann', 0.0), ('Julie', 0.0), ('Shelley', 0.0), ('Oran', 1.0), ('Lizette', 0.0), ('Gabbi', 0.0), ('Shannon', 1.0), ('Cordelie', 0.0), ('Anselma', 0.0), ('Joni', 0.0), ('Ilise', 0.0), ('Leontyne', 0.0), ('Richy', 1.0), ('Jillayne', 0.0), ('Juliane', 0.0), ('Rosalynd', 0.0), ('Pris', 0.0), ('Roseline', 0.0), ('Skipper', 1.0), ('Susann', 0.0), ('Andros', 1.0), ('Louis', 1.0), ('Blakelee', 0.0), ('Krishna', 1.0), ('Kellsie', 0.0), ('Heath', 0.0), ('Rickey', 1.0), ('Annmaria', 0.0), ('Kaja', 0.0), ('Kassia', 0.0), ('Belle', 0.0), ('Kippy', 0.0), ('Binny', 0.0), ('Jacquette', 0.0), ('Parsifal', 1.0), ('Ivonne', 0.0), ('Megan', 0.0), ('Danny', 0.0), ('Emelyne', 0.0), ('Marla', 0.0), ('Dasha', 0.0), ('Allyn', 1.0), ('Kikelia', 0.0), ('Juanita', 1.0), ('Rosy', 0.0), ('Rahal', 0.0), ('Collin', 1.0), ('Ester', 0.0), ('Sloane', 1.0), ('Yehudit', 0.0), ('Idette', 0.0), ('Reeba', 0.0), ('Goldina', 0.0), ('Edmund', 1.0), ('Rem', 1.0), ('Daile', 0.0), ('Quinn', 1.0), ('Rudd', 1.0), ('Dot', 0.0), ('Gertrud', 0.0), ('Shandy', 0.0), ('Clara', 0.0), ('Madelon', 0.0), ('Rodolfo', 1.0), ('Lemmy', 1.0), ('Lian', 0.0), ('Er', 1.0), ('Vally', 0.0), ('Donelle', 0.0), ('Edin', 0.0), ('Kory', 1.0), ('Julieta', 0.0), ('Matthiew', 1.0), ('Philipa', 0.0), ('Inger', 0.0), ('Olaf', 1.0), ('Maggie', 0.0), ('Teddy', 0.0), ('Trixie', 0.0), ('Claude', 0.0), ('Lyndsey', 0.0), ('Gay', 0.0), ('Yolande', 0.0), ('Tobit', 1.0), ('Timotheus', 1.0), ('Faustina', 0.0), ('Katheleen', 0.0), ('Mace', 1.0), ('Marni', 0.0), ('Seka', 0.0), ('Cherish', 0.0), ('Elspeth', 0.0), ('Tedi', 0.0), ('Pete', 1.0), ('Deerdre', 0.0), ('Siward', 1.0), ('Cherie', 0.0), ('Wendall', 1.0), ('Cat', 0.0), ('Penn', 1.0), ('Mateo', 1.0), ('Jaine', 0.0), ('Dionis', 1.0), ('Cecil', 1.0), ('Dasie', 0.0), ('Savina', 0.0), ('Rickie', 0.0), ('Geoff', 1.0), ('Lyn', 0.0), ('Dyan', 0.0), ('Anna', 0.0), ('Wynn', 1.0), ('Marjorie', 0.0), ('Rikki', 1.0), ('Enya', 0.0), ('Thorny', 1.0), ('Jermaine', 0.0), ('Aurilia', 0.0), ('Jefferson', 1.0), ('Roselin', 0.0), ('Dani', 1.0), ('Sven', 1.0), ('Niels', 1.0), ('Mariana', 0.0), ('Jaclin', 0.0), ('Steffen', 1.0), ('Eunice', 0.0), ('Leonard', 1.0), ('Noelani', 0.0), ('Madelina', 0.0), ('Conchita', 0.0), ('Nani', 0.0), ('Mercy', 0.0), ('Antonia', 0.0), ('Grayce', 0.0), ('Adore', 0.0), ('Vanessa', 0.0), ('Felecia', 0.0), ('Elmer', 1.0), ('Britta', 0.0), ('Collins', 1.0), ('Ilona', 0.0), ('Abraham', 1.0), ('Isador', 0.0), ('Leslie', 0.0), ('Herrick', 1.0), ('Deva', 0.0), ('Thacher', 1.0), ('Bartolomei', 1.0), ('Marilee', 0.0), ('Letitia', 0.0), ('Alf', 1.0), ('Mufinella', 0.0), ('Harriet', 0.0), ('Gil', 1.0), ('Rennie', 0.0), ('Nikkie', 0.0), ('Codee', 0.0), ('Emlynne', 0.0), ('Layne', 0.0), ('Dwayne', 1.0), ('Cody', 0.0), ('Olenka', 0.0), ('Caryl', 1.0), ('Bridgette', 0.0), ('Harmonie', 0.0), ('Lenora', 0.0), ('Leonhard', 1.0), ('Lawton', 1.0), ('Melisa', 0.0), ('Kelsey', 0.0), ('Laural', 0.0), ('Catharine', 0.0), ('Sarita', 0.0), ('Heather', 0.0), ('Durand', 1.0), ('Lindsay', 1.0), ('Marleah', 0.0), ('Stephannie', 0.0), ('Talbert', 1.0), ('Normie', 1.0), ('Tray', 1.0), ('Steve', 1.0), ('Piggy', 1.0), ('Bradly', 1.0), ('Linnet', 0.0), ('Robinetta', 0.0), ('Staford', 1.0), ('Milka', 0.0), ('Mia', 0.0), ('Ame', 0.0), ('Anni', 0.0), ('Lilyan', 0.0), ('Mortimer', 1.0), ('Ulises', 1.0), ('Ransell', 1.0), ('Averil', 0.0), ('Perrine', 0.0), ('Liz', 0.0), ('Karl', 1.0), ('Ethan', 1.0), ('Mario', 1.0), ('Margaretta', 0.0), ('Gretna', 0.0), ('Jory', 1.0), ('Sylvia', 0.0), ('Henrietta', 0.0), ('Trevor', 1.0), ('Gus', 1.0), ('Orren', 1.0), ('Nonah', 0.0), ('Suzanna', 0.0), ('Faye', 0.0), ('Tymothy', 1.0), ('Karel', 1.0), ('Barri', 1.0), ('Morissa', 0.0), ('Brewer', 1.0), ('Tommi', 0.0), ('Danica', 0.0), ('Mitchel', 1.0), ('Kendre', 0.0), ('Willdon', 1.0), ('Rosie', 0.0), ('John-Patrick', 1.0), ('Broddy', 1.0), ('Weber', 1.0), ('Adolphe', 1.0), ('Jermain', 1.0), ('Melantha', 0.0), ('Mildrid', 0.0), ('Saxon', 1.0), ('Emerson', 1.0), ('Nicolette', 0.0), ('Jere', 1.0), ('Ingaberg', 0.0), ('Mauritz', 1.0), ('Sharona', 0.0), ('Ilse', 0.0), ('Jenifer', 0.0), ('Wilek', 1.0), ('Doralynn', 0.0), ('Harrison', 1.0), ('Wit', 1.0), ('Sarajane', 0.0), ('Nolana', 0.0), ('Sunshine', 0.0), ('Holley', 0.0), ('Catlin', 0.0), ('Tory', 0.0), ('Michaela', 0.0), ('Audry', 0.0), ('Kora', 0.0), ('Al', 1.0), ('Winthrop', 1.0), ('Sayre', 1.0), ('Geof', 1.0), ('Emelita', 0.0), ('Una', 0.0), ('Anjanette', 0.0), ('Marin', 0.0), ('Bab', 0.0), ('Skell', 1.0), ('Laure', 0.0), ('Camila', 0.0), ('Jennifer', 0.0), ('Robbi', 0.0), ('Francine', 0.0), ('Daryn', 0.0), ('Kenton', 1.0), ('Galen', 1.0), ('Uriah', 1.0), ('Issy', 0.0), ('Demosthenis', 1.0), ('Carl', 1.0), ('Cherlyn', 0.0), ('Mariam', 0.0), ('Gail', 1.0), ('Carmina', 0.0), ('Joe', 1.0), ('Emmett', 1.0), ('Malcah', 0.0), ('Adrian', 1.0), ('Riva', 0.0), ('Hassan', 1.0), ('Carey', 1.0), ('Anallise', 0.0), ('Denice', 0.0), ('Hadleigh', 1.0), ('Marlee', 0.0), ('Spence', 1.0), ('Philippine', 0.0), ('Alysa', 0.0), ('Birgit', 0.0), ('Jessamine', 0.0), ('John-David', 1.0), ('Mike', 1.0), ('Debi', 0.0), ('Jori', 0.0), ('Konstanze', 0.0), ('Jenette', 0.0), ('Cybal', 0.0), ('Pammy', 0.0), ('Allianora', 0.0), ('Nomi', 0.0), ('Micheal', 1.0), ('Austen', 1.0), ('Gilles', 1.0), ('Merola', 0.0), ('Patience', 0.0), ('Lurlene', 0.0), ('Marillin', 0.0), ('Hadria', 0.0), ('Mildred', 0.0), ('Mikey', 1.0), ('Rolland', 1.0), ('Rutger', 1.0), ('Fiona', 0.0), ('Honey', 0.0), ('Barnaby', 1.0), ('Annecorinne', 0.0), ('Lesley', 0.0), ('Johnnie', 1.0), ('Mel', 0.0), ('Nisse', 0.0), ('Althea', 0.0), ('Erinna', 0.0), ('Uri', 1.0), ('Taite', 1.0), ('Lenka', 0.0), ('Prentiss', 1.0), ('Claude', 1.0), ('Dimitry', 1.0), ('Loralie', 0.0), ('Veronica', 0.0), ('Kiersten', 0.0), ('Marris', 0.0), ('Madella', 0.0), ('Sheilakathryn', 0.0), ('Shurwood', 1.0), ('Homer', 1.0), ('Jenn', 0.0), ('Aila', 0.0), ('Val', 1.0), ('Hezekiah', 1.0), ('Cindra', 0.0), ('Twyla', 0.0), ('Kelila', 0.0), ('Timothea', 0.0), ('Oralle', 0.0), ('Geralda', 0.0), ('Klara', 0.0), ('Scotti', 1.0), ('Sharyl', 0.0), ('Stevena', 0.0), ('Donica', 0.0), ('Yard', 1.0), ('Lorettalorna', 0.0), ('Wilow', 0.0), ('Cariotta', 0.0), ('Jena', 0.0), ('Olle', 1.0), ('Martica', 0.0), ('Josephina', 0.0), ('Amery', 1.0), ('Wallis', 1.0), ('Job', 1.0), ('Moishe', 1.0), ('Muhammad', 1.0), ('Bary', 1.0), ('Jerrome', 1.0), ('Marshal', 1.0), ('Shamit', 0.0), ('Beryle', 0.0), ('Archibald', 1.0), ('Marley', 0.0), ('Leonardo', 1.0), ('Bonny', 0.0), ('Vaughn', 1.0), ('Guenna', 0.0), ('Tallie', 1.0), ('Honoria', 0.0), ('Corly', 0.0), ('Butch', 1.0), ('Marilu', 1.0), ('Lilia', 0.0), ('Adrea', 0.0), ('Virgina', 0.0), ('Munroe', 1.0), ('Cherrita', 0.0), ('Ibbie', 0.0), ('Fran', 1.0), ('Shanna', 0.0), ('Deane', 0.0), ('Bertine', 0.0), ('Ofelia', 0.0), ('Theresa', 0.0), ('Ali', 0.0), ('Carlo', 1.0), ('Orion', 1.0), ('Brynna', 0.0), ('Kania', 0.0), ('Joelle', 0.0), ('Sheena', 0.0), ('Gardner', 1.0), ('Angelita', 0.0), ('Teodoro', 1.0), ('Theobald', 1.0), ('Iago', 1.0), ('Leora', 0.0), ('Mair', 0.0), ('Hazel', 1.0), ('Rochelle', 0.0), ('Ninnette', 0.0), ('Tymon', 1.0), ('Talia', 0.0), ('Elric', 1.0), ('Freddie', 0.0), ('Shorty', 1.0), ('Gayle', 1.0), ('Charlie', 1.0), ('Sloan', 1.0), ('Molly', 0.0), ('Tania', 0.0), ('Rodd', 1.0), ('Rodina', 0.0), ('Coral', 0.0), ('Joli', 0.0), ('Zelda', 0.0), ('Welbie', 1.0), ('Sigfried', 1.0), ('Jeth', 1.0), ('Norine', 0.0), ('Dorelia', 0.0), ('Riley', 1.0), ('Leoine', 0.0), ('Cher', 0.0), ('Marylynne', 0.0), ('Reinhold', 1.0), ('Maurita', 0.0), ('Dominic', 1.0), ('Jacqui', 0.0), ('Billie', 1.0), ('Lars', 1.0), ('Claribel', 0.0), ('Florentia', 0.0), ('Myrtie', 0.0), ('Marney', 0.0), ('Arleta', 0.0), ('Burton', 1.0), ('Cristine', 0.0), ('Fidelity', 0.0), ('Sisile', 0.0), ('Becki', 0.0), ('Melisenda', 0.0), ('Zebadiah', 1.0), ('Kathryn', 0.0), ('Myrtice', 0.0), ('Tommy', 1.0), ('Storey', 0.0), ('Arabela', 0.0), ('Alfonse', 1.0), ('Natty', 0.0), ('Jolee', 0.0), ('Kippie', 0.0), ('Desaree', 0.0), ('Nicol', 0.0), ('Merilee', 0.0), ('Fianna', 0.0), ('Blanche', 0.0), ('Matthus', 1.0), ('Theodora', 0.0), ('Ernesto', 1.0), ('Evita', 0.0), ('Tybi', 0.0), ('Natale', 1.0), ('Philbert', 1.0), ('May', 0.0), ('Dylan', 1.0), ('Antonius', 1.0), ('Ealasaid', 0.0), ('Merlin', 1.0), ('Kirstie', 0.0), ('Sileas', 0.0), ('Matthew', 1.0), ('Gomer', 1.0), ('Margarette', 0.0), ('Giraldo', 1.0), ('Arlyn', 0.0), ('Ronnica', 0.0), ('Gene', 1.0), ('Janela', 0.0), ('Dorthea', 0.0), ('John', 1.0), ('Saudra', 0.0), ('Elsey', 0.0), ('Nealy', 1.0), ('Isaak', 1.0), ('Poppy', 0.0), ('Jean-Francois', 1.0), ('Hildagarde', 0.0), ('Alix', 1.0), ('Ingemar', 1.0), ('Marvin', 1.0), ('Velma', 0.0), ('Carolyne', 0.0), ('Cameron', 1.0), ('Morlee', 1.0), ('Steven', 1.0), ('Vaclav', 1.0), ('Kellina', 0.0), ('Umberto', 1.0), ('Rudolf', 1.0), ('Missie', 0.0), ('Anatol', 1.0), ('Joao', 1.0), ('Ivor', 1.0), ('Wrennie', 0.0), ('Wildon', 1.0), ('Edie', 1.0), ('Madel', 0.0), ('Francis', 0.0), ('Gabey', 0.0), ('Maryanna', 0.0), ('Neddy', 1.0), ('Phebe', 0.0), ('Caro', 0.0), ('Janeen', 0.0), ('Ramonda', 0.0), ('Tasha', 0.0), ('Rheba', 0.0), ('Merle', 0.0), ('Brigitta', 0.0), ('Niall', 1.0), ('Friederike', 0.0), ('Debera', 0.0), ('Lenette', 0.0), ('Caron', 0.0), ('Scarlet', 0.0), ('Isahella', 0.0), ('Cacilie', 0.0), ('Malinde', 0.0), ('Ardra', 0.0), ('William', 1.0), ('Hewe', 1.0), ('Ula', 0.0), ('Isadore', 0.0), ('Art', 1.0), ('Isis', 0.0), ('Blithe', 0.0), ('Alexis', 0.0), ('Elli', 0.0), ('Dyane', 0.0), ('Dacey', 0.0), ('Colline', 0.0), ('Caitlin', 0.0), ('Kristel', 0.0), ('Gerda', 0.0), ('Osbert', 1.0), ('Licha', 0.0), ('Arron', 1.0), ('Datha', 0.0), ('Jessalin', 0.0), ('Gladis', 0.0), ('Malva', 0.0), ('Goddard', 1.0), ('Cliff', 1.0), ('Babette', 0.0), ('Tabina', 0.0), ('Kiele', 0.0), ('Roarke', 1.0), ('Clarance', 1.0), ('Shay', 1.0), ('Hermon', 1.0), ('Petronia', 0.0), ('Lucius', 1.0), ('Shayna', 0.0), ('Aileen', 0.0), ('Diahann', 0.0), ('Jeannette', 0.0), ('Waiter', 1.0), ('Kathie', 0.0), ('Bay', 1.0), ('Munmro', 1.0), ('Correna', 0.0), ('Laurette', 0.0), ('Marne', 0.0), ('Cristabel', 0.0), ('Harcourt', 1.0), ('Melvin', 1.0), ('Rubie', 0.0), ('Murdock', 1.0), ('Janna', 0.0), ('Srinivas', 1.0), ('Hatti', 0.0), ('Karrah', 0.0), ('Florian', 1.0), ('Roderigo', 1.0), ('Oprah', 0.0), ('Magdaia', 0.0), ('Waneta', 0.0), ('Hagen', 1.0), ('Iormina', 0.0), ('Quintin', 1.0), ('Truda', 0.0), ('Lynett', 0.0), ('Dick', 1.0), ('Prue', 0.0), ('Virgil', 1.0), ('Prisca', 0.0), ('Germain', 0.0), ('Marius', 1.0), ('Grace', 1.0), ('Michell', 0.0), ('Yolanthe', 0.0), ('Meggie', 0.0), ('Lonni', 0.0), ('Shannon', 0.0), ('Jessika', 0.0), ('Alida', 0.0), ('Fons', 1.0), ('Zandra', 0.0), ('Reid', 1.0), ('Robena', 0.0), ('Darren', 1.0), ('Kelsy', 0.0), ('Lelia', 0.0), ('Gilda', 0.0), ('Candy', 0.0), ('Idell', 0.0), ('Estel', 0.0), ('Angela', 0.0), ('Yancy', 1.0), ('Catherine', 0.0), ('Vladamir', 1.0), ('Cybill', 0.0), ('Hamlin', 1.0), ('Odelia', 0.0), ('Rubina', 0.0), ('Saba', 0.0), ('Chevalier', 1.0), ('Junie', 0.0), ('Clarissa', 0.0), ('Marieann', 0.0), ('Nathalie', 0.0), ('Stormy', 0.0), ('Lonna', 0.0), ('Rorie', 0.0), ('Norbert', 1.0), ('Cloe', 0.0), ('Manuel', 1.0), ('Carry', 0.0), ('Orella', 0.0), ('Fey', 0.0), ('Standford', 1.0), ('Flossi', 0.0), ('Robyn', 0.0), ('Joly', 0.0), ('Mattie', 0.0), ('Adolpho', 1.0), ('Bearnard', 1.0), ('Annadiana', 0.0), ('Herve', 1.0), ('Alli', 0.0), ('Jean-Paul', 1.0), ('Mylo', 1.0), ('Lisette', 0.0), ('Trista', 0.0), ('Lorette', 0.0), ('Swen', 1.0), ('Morganne', 0.0), ('Briteny', 0.0), ('Gabbey', 0.0), ('Waleed', 1.0), ('Nola', 0.0), ('Merl', 0.0), ('Beowulf', 1.0), ('Stephanie', 0.0), ('Casie', 0.0), ('Renate', 0.0), ('Dyanna', 0.0), ('Shalne', 0.0), ('Rodolph', 1.0), ('Christiana', 0.0), ('Constancy', 0.0), ('Neron', 1.0), ('Allyce', 0.0), ('Odette', 0.0), ('Binnie', 0.0), ('Lee', 1.0), ('Raoul', 1.0), ('Millicent', 1.0), ('Jenelle', 0.0), ('Lockwood', 1.0), ('Maegan', 0.0), ('Cornelia', 0.0), ('Marlyn', 0.0), ('Cecilla', 0.0), ('Jacynth', 0.0), ('Saree', 0.0), ('Berta', 0.0), ('Joelly', 0.0), ('Pembroke', 1.0), ('Winona', 0.0), ('Glynn', 1.0), ('Staffard', 1.0), ('Debor', 0.0), ('Alanah', 0.0), ('Diana', 0.0), ('Serene', 0.0), ('Mischa', 1.0), ('Frankie', 1.0), ('Lucinda', 0.0), ('Mickey', 1.0), ('Louisette', 0.0), ('Jordana', 0.0), ('Baillie', 1.0), ('Malissia', 0.0), ('Florida', 0.0), ('Bernetta', 0.0), ('Barclay', 1.0), ('Hallam', 1.0), ('Tessa', 0.0), ('Adelind', 0.0), ('Roby', 0.0), ('Nerita', 0.0), ('Juliette', 0.0), ('Eddie', 0.0), ('Sarene', 0.0), ('Kingsly', 1.0), ('Viv', 0.0), ('Torie', 0.0), ('Peirce', 1.0), ('Dudley', 1.0), ('Adeline', 0.0), ('Marinna', 0.0), ('Louise', 0.0), ('Carina', 0.0), ('Maryl', 0.0), ('Shepperd', 1.0), ('Emilie', 0.0), ('Starlin', 0.0), ('Noah', 1.0), ('Mel', 1.0), ('Avie', 0.0), ('Sallie', 0.0), ('Cynthy', 0.0), ('Dulci', 0.0), ('Laurance', 1.0), ('Jeremie', 1.0), ('Madalyn', 0.0), ('Jaquenette', 0.0), ('Alix', 0.0), ('Mallorie', 0.0), ('Tana', 0.0), ('Grethel', 0.0), ('Rodney', 1.0), ('Halley', 0.0), ('Kareem', 1.0), ('Wyatt', 1.0), ('Alonso', 1.0), ('Agnesse', 0.0), ('Miguela', 0.0), ('Theresina', 0.0), ('Cecil', 0.0), ('Michale', 1.0), ('Angeline', 0.0), ('Thaine', 1.0), ('Garcon', 1.0), ('Glorianna', 0.0), ('Dorotea', 0.0), ('Harri', 0.0), ('Jaynell', 0.0), ('Matty', 0.0), ('Karly', 0.0), ('Moss', 1.0), ('Christ', 1.0), ('Kariotta', 0.0), ('Schroeder', 1.0), ('Archibold', 1.0), ('Myrtle', 0.0), ('Brooke', 0.0), ('Rafaelia', 0.0), ('Rivy', 0.0), ('Sharna', 0.0), ('Chrystal', 0.0), ('Tiphany', 0.0), ('Xenia', 0.0), ('Lanny', 0.0), ('Aron', 1.0), ('Keefe', 1.0), ('Jandy', 0.0), ('Idalina', 0.0), ('Ingunna', 0.0), ('Dorise', 0.0), ('Greta', 0.0), ('Wyn', 1.0), ('Lindi', 0.0), ('Boyd', 1.0), ('Dalenna', 0.0), ('Mohammad', 1.0), ('Myron', 1.0), ('Odille', 0.0), ('Tyler', 1.0), ('Dimitris', 1.0), ('Bernita', 0.0), ('Dina', 0.0), ('Lindie', 0.0), ('Ludwig', 1.0), ('Keelia', 0.0), ('Mark', 1.0), ('Aubry', 0.0), ('Raj', 1.0), ('Eadie', 0.0), ('Zerk', 1.0), ('Yvonne', 0.0), ('Flipper', 1.0), ('Beale', 1.0), ('Jean-Lou', 1.0), ('Ara', 0.0), ('Jenny', 0.0), ('Merla', 0.0), ('Karlotta', 0.0), ('Sampson', 1.0), ('Corny', 0.0), ('Frederica', 0.0), ('Wini', 0.0), ('Jerold', 1.0), ('Claus', 1.0), ('Wyndham', 1.0), ('Royce', 1.0), ('Abigael', 0.0), ('Linoel', 1.0), ('Olimpia', 0.0), ('Karee', 0.0), ('Eugene', 1.0), ('Davita', 0.0), ('Leon', 1.0), ('Dale', 1.0), ('Joy', 0.0), ('Wilhelmina', 0.0), ('Nadean', 0.0), ('Shandee', 0.0), ('Alfonso', 1.0), ('Hyacinthe', 0.0), ('Jacquelynn', 0.0), ('Stefan', 1.0), ('Vallie', 0.0), ('Xever', 1.0), ('Isaiah', 1.0), ('Royal', 1.0), ('Irving', 1.0), ('Warde', 1.0), ('Kalindi', 0.0), ('Modestia', 0.0), ('Karina', 0.0), ('Chelsae', 0.0), ('Coralyn', 0.0), ('Helge', 0.0), ('Dove', 0.0), ('Greer', 0.0), ('Doll', 0.0), ('Nerta', 0.0), ('Crissy', 0.0), ('Clem', 1.0), ('Inigo', 1.0), ('Levon', 1.0), ('Jo-Ann', 0.0), ('Marcy', 0.0), ('Lynnelle', 0.0), ('Oreste', 0.0), ('Brandie', 0.0), ('Donald', 1.0), ('Davy', 1.0), ('Fortune', 0.0), ('Joana', 0.0), ('Antonin', 1.0), ('Sib', 0.0), ('Sandy', 0.0), ('Chantal', 0.0), ('Freda', 0.0), ('Phaidra', 0.0), ('Noni', 0.0), ('Morgan', 0.0), ('Felipa', 0.0), ('Niki', 1.0), ('Pinchas', 1.0), ('Elvira', 0.0), ('Samara', 0.0), ('Ariela', 0.0), ('Beatriz', 0.0), ('Lesley', 1.0), ('Terencio', 1.0), ('Carlos', 1.0), ('Penny', 0.0), ('Donny', 0.0), ('Blinny', 0.0), ('Noella', 0.0), ('Micaela', 0.0), ('Fanny', 0.0), ('Harris', 1.0), ('Joey', 1.0), ('Alaine', 0.0), ('Adlai', 1.0), ('Shawnee', 0.0), ('Alane', 0.0), ('Carmelle', 0.0), ('Lionello', 1.0), ('Terrell', 1.0), ('Ephrem', 1.0), ('Hunter', 1.0), ('Elena', 0.0), ('Alec', 1.0), ('Pen', 1.0), ('Caril', 0.0), ('Kit', 0.0), ('Brittney', 0.0), ('Grissel', 0.0), ('Antonella', 0.0), ('Blayne', 1.0), ('Flori', 0.0), ('Dael', 0.0), ('Dennis', 1.0), ('Archie', 1.0), ('Aigneis', 0.0), ('Kristi', 0.0), ('Rosanne', 0.0), ('Ilene', 0.0), ('Nara', 0.0), ('Woodie', 1.0), ('Benjie', 1.0), ('Mordecai', 1.0), ('Levy', 1.0), ('Everett', 1.0), ('Russell', 1.0), ('Henriette', 0.0), ('Amelita', 0.0), ('Joslyn', 0.0), ('Keene', 1.0), ('Violet', 0.0), ('Sean', 1.0), ('Jorey', 0.0), ('Hattie', 0.0), ('Catharina', 0.0), ('Yoshiko', 0.0), ('Ardith', 0.0), ('Cesya', 0.0), ('Anna-Diane', 0.0), ('Jarvis', 1.0), ('Almira', 0.0), ('LeeAnn', 0.0), ('Saul', 1.0), ('Katleen', 0.0), ('Gilberta', 0.0), ('Patric', 1.0), ('Marlowe', 1.0), ('Daphna', 0.0), ('Karmen', 0.0), ('Sherye', 0.0), ('Isadore', 1.0), ('Phylis', 0.0), ('Raynard', 1.0), ('Dedra', 0.0), ('Trev', 1.0), ('Baron', 1.0), ('Dov', 1.0), ('Rickard', 1.0), ('Lex', 1.0), ('Karola', 0.0), ('Flossy', 0.0), ('Jaleh', 0.0), ('Alejandra', 0.0), ('Wake', 1.0), ('Karia', 0.0), ('Mayer', 1.0), ('Bo', 0.0), ('Krista', 0.0), ('Johann', 1.0), ('Freddy', 1.0), ('Cathryn', 0.0), ('Lula', 0.0), ('Lucy', 0.0), ('Alis', 0.0), ('Helena', 0.0), ('Tab', 1.0), ('Dew', 0.0), ('Domenic', 1.0), ('Thomasa', 0.0), ('Emalee', 0.0), ('Elton', 1.0), ('Hogan', 1.0), ('Leeann', 0.0), ('Anica', 0.0), ('Tani', 0.0), ('Theo', 1.0), ('Mason', 1.0), ('Thibaut', 1.0), ('Jermayne', 1.0), ('Albert', 1.0), ('Stacy', 0.0), ('Latrina', 0.0), ('Dido', 0.0), ('Norina', 0.0), ('Amalee', 0.0), ('Hannie', 0.0), ('Tarrance', 1.0), ('Analiese', 0.0), ('Cristy', 0.0), ('Clarabelle', 0.0), ('Powell', 1.0), ('Ritch', 1.0), ('Karylin', 0.0), ('Ninetta', 0.0), ('Kirby', 0.0), ('Grata', 0.0), ('Renee', 0.0), ('Lishe', 0.0), ('Jourdan', 0.0), ('Helaine', 0.0), ('Marchelle', 0.0), ('Ingeborg', 0.0), ('Hulda', 0.0), ('Carilyn', 0.0), ('Maxi', 0.0), ('Morris', 1.0), ('Shandra', 0.0), ('Goldarina', 0.0), ('Legra', 0.0), ('Alexa', 0.0), ('Cordie', 0.0), ('Kalle', 1.0), ('Cindelyn', 0.0), ('Bertrand', 1.0), ('Earle', 1.0), ('Jerry', 0.0), ('Susannah', 0.0), ('Inessa', 0.0), ('Norris', 1.0), ('Codie', 0.0), ('Urbano', 1.0), ('Anabel', 0.0), ('Aphrodite', 0.0), ('Parke', 1.0), ('Mirabella', 0.0), ('Carolie', 0.0), ('Bette-Ann', 0.0), ('Liane', 0.0), ('Arliene', 0.0), ('Nichol', 0.0), ('Gavra', 0.0), ('Kristan', 0.0), ('Samuele', 1.0), ('Putnam', 1.0), ('Brett', 1.0), ('Bobette', 0.0), ('Joelie', 0.0), ('Carlie', 1.0), ('Averill', 1.0), ('Nikolai', 1.0), ('Darius', 1.0), ('Ardis', 0.0), ('Rowena', 0.0), ('Angel', 0.0), ('Deb', 0.0), ('Della', 0.0), ('Charyl', 0.0), ('Brynne', 0.0), ('Krystal', 0.0), ('Janeva', 0.0), ('Karita', 0.0), ('Aristotle', 1.0), ('Henrie', 0.0), ('Zita', 0.0), ('Cappella', 0.0), ('Margalit', 0.0), ('Nadya', 0.0), ('Nelle', 0.0), ('Violante', 0.0), ('Dean', 1.0), ('Jenilee', 0.0), ('Derron', 1.0), ('Romona', 0.0), ('Franz', 1.0), ('Bendite', 0.0), ('Verla', 0.0), ('Tommie', 1.0), ('Cosmo', 1.0), ('Yuri', 1.0), ('Martyn', 1.0), ('Udell', 1.0), ('Nelly', 0.0), ('Harrietta', 0.0), ('Constantinos', 1.0), ('Lindsey', 1.0), ('Erna', 0.0), ('Marcelia', 0.0), ('Dixie', 0.0), ('Hildy', 0.0), ('Kirsteni', 0.0), ('Skip', 1.0), ('Thaddus', 1.0), ('Delila', 0.0), ('Tulley', 1.0), ('Lora', 0.0), ('Gerhardine', 0.0), ('Darcy', 0.0), ('Clemente', 1.0), ('Gisella', 0.0), ('Elfrieda', 0.0), ('Evan', 1.0), ('Fay', 0.0), ('Constantine', 0.0), ('Ellynn', 0.0), ('Moria', 0.0), ('Dallas', 0.0), ('Wynnie', 0.0), ('Spencer', 1.0), ('Shirlee', 0.0), ('Lilith', 0.0), ('Terrill', 1.0), ('Jameson', 1.0), ('Anett', 0.0), ('Pip', 1.0), ('Bret', 1.0), ('Valaree', 0.0), ('Thorpe', 1.0), ('Goldy', 0.0), ('Kiley', 0.0), ('Ransom', 1.0), ('Osmond', 1.0), ('Laura', 0.0), ('Rasla', 0.0), ('Kelwin', 1.0), ('Evanne', 0.0), ('Marianne', 0.0), ('Anthia', 0.0), ('Constantin', 1.0), ('Roanna', 0.0), ('Cecelia', 0.0), ('Andree', 0.0), ('Alejandro', 1.0), ('Theo', 0.0), ('Merrili', 0.0), ('Christorpher', 1.0), ('Mary', 0.0), ('Lyndsie', 0.0), ('Rosemarie', 0.0), ('Daniel', 0.0), ('Latashia', 0.0), ('Glynda', 0.0), ('Burnaby', 1.0), ('Mandie', 0.0), ('Eloisa', 0.0), ('Lust', 0.0), ('Lari', 0.0), ('Marve', 1.0), ('Ally', 0.0), ('Reggie', 0.0), ('Lazare', 1.0), ('Lancelot', 1.0), ('Joel', 1.0), ('Hendrika', 0.0), ('Nate', 1.0), ('Selie', 0.0), ('Corinna', 0.0), ('Annice', 0.0), ('Ty', 1.0), ('Eadith', 0.0), ('Tait', 1.0), ('Gregory', 1.0), ('Zorina', 0.0), ('Jesse', 0.0), ('Giacomo', 1.0), ('Roda', 0.0), ('Davey', 1.0), ('Herman', 1.0), ('Mellisent', 0.0), ('Canada', 0.0), ('Jamie', 0.0), ('Avraham', 1.0), ('Leonerd', 1.0), ('Enrico', 1.0), ('Annnora', 0.0), ('Erasmus', 1.0), ('Herschel', 1.0), ('Hansel', 1.0), ('Hector', 1.0), ('Siouxie', 0.0), ('Nathalia', 0.0), ('Magda', 0.0), ('Ashely', 0.0), ('Kasey', 0.0), ('Remington', 1.0), ('Bennie', 0.0), ('Franny', 0.0), ('Raina', 0.0), ('Rafe', 1.0), ('Janenna', 0.0), ('Uli', 1.0), ('Georgianne', 0.0), ('Roderic', 1.0), ('Aubrey', 1.0), ('Leanor', 0.0), ('Greg', 1.0), ('Katha', 0.0), ('Amalita', 0.0), ('Alister', 1.0), ('Leonore', 0.0), ('Maritsa', 0.0), ('Henri', 1.0), ('Sanders', 1.0), ('Gail', 0.0), ('Dorry', 0.0), ('Helmuth', 1.0), ('Templeton', 1.0), ('Christen', 0.0), ('Querida', 0.0), ('Sibelle', 0.0), ('Florrie', 0.0), ('Vivyanne', 0.0), ('Bethanne', 0.0), ('Martelle', 0.0), ('Gita', 0.0), ('Ailina', 0.0), ('Sallee', 0.0), ('Ismail', 1.0), ('Millie', 0.0), ('Agata', 0.0), ('Paulina', 0.0), ('Sherrie', 0.0), ('Miles', 1.0), ('Barney', 1.0), ('Zorana', 0.0), ('Linell', 0.0), ('Stephenie', 0.0), ('Dita', 0.0), ('Jemmie', 0.0), ('Henrik', 1.0), ('Randie', 1.0), ('Carlyle', 1.0), ('Cicely', 0.0), ('Winnifred', 0.0), ('Lynea', 0.0), ('Ikey', 1.0), ('Horacio', 1.0), ('Sherilyn', 0.0), ('Janine', 0.0), ('Warden', 1.0), ('Rosabella', 0.0), ('Dante', 1.0), ('Annalyse', 0.0), ('Judas', 1.0), ('Quint', 1.0), ('Bellamy', 0.0), ('Bennet', 1.0), ('Silvanus', 1.0), ('Jo-Anne', 0.0), ('Renault', 1.0), ('Rani', 0.0), ('Chan', 1.0), ('Sibyl', 1.0), ('Patsy', 0.0), ('Clair', 1.0), ('Clary', 0.0), ('Lucilia', 0.0), ('Martita', 0.0), ('Atlanta', 0.0), ('Myra', 0.0), ('Brigitte', 0.0), ('Zarah', 0.0), ('Esmeralda', 0.0), ('Jeromy', 1.0), ('Prentice', 1.0), ('Roxanne', 0.0), ('Tommie', 0.0), ('Quent', 1.0), ('Josepha', 0.0), ('Alisa', 0.0), ('Dannie', 0.0), ('Corabelle', 0.0), ('Vinita', 0.0), ('Sande', 0.0), ('Andonis', 1.0), ('Gelya', 0.0), ('Lucine', 0.0), ('Jerzy', 1.0), ('Sylvie', 0.0), ('Atalanta', 0.0), ('Perry', 1.0), ('Willette', 0.0), ('Sherie', 0.0), ('Dennie', 0.0), ('Kalina', 0.0), ('Bernd', 1.0), ('Kassandra', 0.0), ('Jeffrey', 1.0), ('Alicia', 0.0), ('Beverly', 0.0), ('Mathilde', 0.0), ('Kaspar', 1.0), ('Neille', 0.0), ('Wenda', 0.0), ('Courtney', 1.0), ('Jordy', 1.0), ('Flemming', 1.0), ('Prent', 1.0), ('Teador', 1.0), ('Therese', 0.0), ('Gerty', 0.0), ('Margi', 0.0), ('Willis', 1.0), ('Vincent', 1.0), ('Terry', 0.0), ('Othella', 0.0), ('Winifield', 1.0), ('Hortense', 0.0), ('Juan', 1.0), ('Judie', 0.0), ('Kurtis', 1.0), ('Garp', 1.0), ('Hermione', 0.0), ('Emmey', 0.0), ('Torey', 1.0), ('Guinna', 0.0), ('Farra', 0.0), ('Nelson', 1.0), ('Devonne', 0.0), ('Mada', 0.0), ('Gina', 0.0), ('Elsa', 0.0), ('Darin', 1.0), ('Cordelia', 0.0), ('Aditya', 1.0), ('Corrinne', 0.0), ('Leda', 0.0), ('Leisha', 0.0), ('Jedediah', 1.0), ('Engelbart', 1.0), ('Pacifica', 0.0), ('Bancroft', 1.0), ('Rodrick', 1.0), ('Anastasie', 0.0), ('Clem', 0.0), ('Tomlin', 1.0), ('Anais', 0.0), ('Daffie', 0.0), ('Carlene', 0.0), ('Viva', 0.0), ('Aeriel', 0.0), ('Skippie', 1.0), ('Augusta', 0.0), ('Drew', 0.0), ('Selena', 0.0), ('Horatio', 1.0), ('Tate', 0.0), ('Wells', 1.0), ('Martino', 1.0), ('Andriana', 0.0), ('Odetta', 0.0), ('Erena', 0.0), ('Christalle', 0.0), ('Ermengarde', 0.0), ('Giuseppe', 1.0), ('Darrin', 1.0), ('Liorah', 0.0), ('Florinda', 0.0), ('Shelby', 0.0), ('Marguerite', 0.0), ('Verile', 0.0), ('Malinda', 0.0), ('Jo Ann', 0.0), ('Shaun', 0.0), ('Morgen', 0.0), ('Kacie', 0.0), ('Merril', 1.0), ('Marcello', 1.0), ('Maybelle', 0.0), ('Denis', 1.0), ('Pablo', 1.0), ('Nina', 0.0), ('Robinet', 0.0), ('Charlotte', 0.0), ('Bertie', 1.0), ('Jonis', 0.0), ('Leonid', 1.0), ('Ike', 1.0), ('Clementia', 0.0), ('Ardenia', 0.0), ('Weston', 1.0), ('Linea', 0.0), ('Elwina', 0.0), ('Jereme', 1.0), ('Carlynne', 0.0), ('Arie', 1.0), ('Tessi', 0.0), ('Nanci', 0.0), ('Gordon', 1.0), ('Eldon', 1.0), ('Nicholle', 0.0), ('Lucie', 0.0), ('Jabez', 1.0), ('Aube', 1.0), ('Ailey', 0.0), ('Tova', 0.0), ('Vin', 0.0), ('Jeanine', 0.0), ('Geo', 1.0), ('Yvette', 0.0), ('Crista', 0.0), ('Ede', 0.0), ('Valentin', 1.0), ('Wallis', 0.0), ('Benjamin', 1.0), ('Brunhilda', 0.0), ('Harmony', 0.0), ('Astrid', 0.0), ('Roslyn', 0.0), ('Marline', 0.0), ('Lorry', 0.0), ('Brena', 0.0), ('Brewster', 1.0), ('Kerianne', 0.0), ('Osborne', 1.0), ('Tandi', 0.0), ('Orton', 1.0), ('Mae', 0.0), ('Mignonne', 0.0), ('Hiro', 1.0), ('Danny', 1.0), ('Beulah', 0.0), ('Fredericka', 0.0), ('Tildy', 0.0), ('Albertina', 0.0), ('Andie', 1.0), ('Adolf', 1.0), ('Meridith', 0.0), ('Palmer', 1.0), ('Doloritas', 0.0), ('Daniele', 0.0), ('Lay', 1.0), ('Deana', 0.0), ('Xaviera', 0.0), ('Nalani', 0.0), ('Chiquita', 0.0), ('Michelina', 0.0), ('Morry', 1.0), ('Phaedra', 0.0), ('Cicily', 0.0), ('Selig', 1.0), ('Isabel', 0.0), ('Zulema', 0.0), ('Kaye', 0.0), ('Becky', 0.0), ('Joachim', 1.0)]\n"
          ]
        }
      ]
    },
    {
      "cell_type": "code",
      "source": [
        "\n",
        "Gender_names[0:10] #show the names with gender. \n",
        "len(Gender_names)\n",
        "Gender_names_g= [g for (n,g) in Gender_names]\n",
        "Gender_names_m = Gender_names_g.count(1.0)# male=1.0\n",
        "Gender_names_f = Gender_names_g.count(0.0)#female=0.0\n",
        "print(\"Total Male: {} and Female: {} in dataset of size: {}.\".format(Gender_names_m,Gender_names_f,len(Gender_names_g)))"
      ],
      "metadata": {
        "colab": {
          "base_uri": "https://localhost:8080/"
        },
        "id": "EE2AppS899Kr",
        "outputId": "499dc300-417a-44f4-c249-b0ca883c8905"
      },
      "execution_count": 4,
      "outputs": [
        {
          "output_type": "stream",
          "name": "stdout",
          "text": [
            "Total Male: 2943 and Female: 5001 in dataset of size: 7944.\n"
          ]
        }
      ]
    },
    {
      "cell_type": "code",
      "source": [
        "names_df = pd.DataFrame(Gender_names, columns=['name','gender'])\n",
        "names_df.head()"
      ],
      "metadata": {
        "colab": {
          "base_uri": "https://localhost:8080/",
          "height": 206
        },
        "id": "ESZA-9VD-AHe",
        "outputId": "f2c6be45-7505-4518-f117-e10745584f8d"
      },
      "execution_count": 5,
      "outputs": [
        {
          "output_type": "execute_result",
          "data": {
            "text/plain": [
              "         name  gender\n",
              "0     Dorette     0.0\n",
              "1  Michaelina     0.0\n",
              "2      Derrol     1.0\n",
              "3     Rozella     0.0\n",
              "4         Van     1.0"
            ],
            "text/html": [
              "\n",
              "  <div id=\"df-de5e6f9c-1d53-4602-970b-f53fa9d55076\">\n",
              "    <div class=\"colab-df-container\">\n",
              "      <div>\n",
              "<style scoped>\n",
              "    .dataframe tbody tr th:only-of-type {\n",
              "        vertical-align: middle;\n",
              "    }\n",
              "\n",
              "    .dataframe tbody tr th {\n",
              "        vertical-align: top;\n",
              "    }\n",
              "\n",
              "    .dataframe thead th {\n",
              "        text-align: right;\n",
              "    }\n",
              "</style>\n",
              "<table border=\"1\" class=\"dataframe\">\n",
              "  <thead>\n",
              "    <tr style=\"text-align: right;\">\n",
              "      <th></th>\n",
              "      <th>name</th>\n",
              "      <th>gender</th>\n",
              "    </tr>\n",
              "  </thead>\n",
              "  <tbody>\n",
              "    <tr>\n",
              "      <th>0</th>\n",
              "      <td>Dorette</td>\n",
              "      <td>0.0</td>\n",
              "    </tr>\n",
              "    <tr>\n",
              "      <th>1</th>\n",
              "      <td>Michaelina</td>\n",
              "      <td>0.0</td>\n",
              "    </tr>\n",
              "    <tr>\n",
              "      <th>2</th>\n",
              "      <td>Derrol</td>\n",
              "      <td>1.0</td>\n",
              "    </tr>\n",
              "    <tr>\n",
              "      <th>3</th>\n",
              "      <td>Rozella</td>\n",
              "      <td>0.0</td>\n",
              "    </tr>\n",
              "    <tr>\n",
              "      <th>4</th>\n",
              "      <td>Van</td>\n",
              "      <td>1.0</td>\n",
              "    </tr>\n",
              "  </tbody>\n",
              "</table>\n",
              "</div>\n",
              "      <button class=\"colab-df-convert\" onclick=\"convertToInteractive('df-de5e6f9c-1d53-4602-970b-f53fa9d55076')\"\n",
              "              title=\"Convert this dataframe to an interactive table.\"\n",
              "              style=\"display:none;\">\n",
              "        \n",
              "  <svg xmlns=\"http://www.w3.org/2000/svg\" height=\"24px\"viewBox=\"0 0 24 24\"\n",
              "       width=\"24px\">\n",
              "    <path d=\"M0 0h24v24H0V0z\" fill=\"none\"/>\n",
              "    <path d=\"M18.56 5.44l.94 2.06.94-2.06 2.06-.94-2.06-.94-.94-2.06-.94 2.06-2.06.94zm-11 1L8.5 8.5l.94-2.06 2.06-.94-2.06-.94L8.5 2.5l-.94 2.06-2.06.94zm10 10l.94 2.06.94-2.06 2.06-.94-2.06-.94-.94-2.06-.94 2.06-2.06.94z\"/><path d=\"M17.41 7.96l-1.37-1.37c-.4-.4-.92-.59-1.43-.59-.52 0-1.04.2-1.43.59L10.3 9.45l-7.72 7.72c-.78.78-.78 2.05 0 2.83L4 21.41c.39.39.9.59 1.41.59.51 0 1.02-.2 1.41-.59l7.78-7.78 2.81-2.81c.8-.78.8-2.07 0-2.86zM5.41 20L4 18.59l7.72-7.72 1.47 1.35L5.41 20z\"/>\n",
              "  </svg>\n",
              "      </button>\n",
              "      \n",
              "  <style>\n",
              "    .colab-df-container {\n",
              "      display:flex;\n",
              "      flex-wrap:wrap;\n",
              "      gap: 12px;\n",
              "    }\n",
              "\n",
              "    .colab-df-convert {\n",
              "      background-color: #E8F0FE;\n",
              "      border: none;\n",
              "      border-radius: 50%;\n",
              "      cursor: pointer;\n",
              "      display: none;\n",
              "      fill: #1967D2;\n",
              "      height: 32px;\n",
              "      padding: 0 0 0 0;\n",
              "      width: 32px;\n",
              "    }\n",
              "\n",
              "    .colab-df-convert:hover {\n",
              "      background-color: #E2EBFA;\n",
              "      box-shadow: 0px 1px 2px rgba(60, 64, 67, 0.3), 0px 1px 3px 1px rgba(60, 64, 67, 0.15);\n",
              "      fill: #174EA6;\n",
              "    }\n",
              "\n",
              "    [theme=dark] .colab-df-convert {\n",
              "      background-color: #3B4455;\n",
              "      fill: #D2E3FC;\n",
              "    }\n",
              "\n",
              "    [theme=dark] .colab-df-convert:hover {\n",
              "      background-color: #434B5C;\n",
              "      box-shadow: 0px 1px 3px 1px rgba(0, 0, 0, 0.15);\n",
              "      filter: drop-shadow(0px 1px 2px rgba(0, 0, 0, 0.3));\n",
              "      fill: #FFFFFF;\n",
              "    }\n",
              "  </style>\n",
              "\n",
              "      <script>\n",
              "        const buttonEl =\n",
              "          document.querySelector('#df-de5e6f9c-1d53-4602-970b-f53fa9d55076 button.colab-df-convert');\n",
              "        buttonEl.style.display =\n",
              "          google.colab.kernel.accessAllowed ? 'block' : 'none';\n",
              "\n",
              "        async function convertToInteractive(key) {\n",
              "          const element = document.querySelector('#df-de5e6f9c-1d53-4602-970b-f53fa9d55076');\n",
              "          const dataTable =\n",
              "            await google.colab.kernel.invokeFunction('convertToInteractive',\n",
              "                                                     [key], {});\n",
              "          if (!dataTable) return;\n",
              "\n",
              "          const docLinkHtml = 'Like what you see? Visit the ' +\n",
              "            '<a target=\"_blank\" href=https://colab.research.google.com/notebooks/data_table.ipynb>data table notebook</a>'\n",
              "            + ' to learn more about interactive tables.';\n",
              "          element.innerHTML = '';\n",
              "          dataTable['output_type'] = 'display_data';\n",
              "          await google.colab.output.renderOutput(dataTable, element);\n",
              "          const docLink = document.createElement('div');\n",
              "          docLink.innerHTML = docLinkHtml;\n",
              "          element.appendChild(docLink);\n",
              "        }\n",
              "      </script>\n",
              "    </div>\n",
              "  </div>\n",
              "  "
            ]
          },
          "metadata": {},
          "execution_count": 5
        }
      ]
    },
    {
      "cell_type": "markdown",
      "source": [
        "# **Visualize Data**"
      ],
      "metadata": {
        "id": "k4H4XhPHMppS"
      }
    },
    {
      "cell_type": "code",
      "source": [
        "distribution = nltk.ConditionalFreqDist([(file, word[0]) for file in ['female.txt', 'male.txt'] for word in nltk.corpus.names.words(file)])\n",
        "distribution.tabulate() "
      ],
      "metadata": {
        "colab": {
          "base_uri": "https://localhost:8080/"
        },
        "id": "iAqkV7Q4Mf6d",
        "outputId": "9d889325-8b13-414c-ee9a-f0b0b7032eb7"
      },
      "execution_count": 6,
      "outputs": [
        {
          "output_type": "stream",
          "name": "stdout",
          "text": [
            "             A   B   C   D   E   F   G   H   I   J   K   L   M   N   O   P   Q   R   S   T   U   V   W   X   Y   Z \n",
            "female.txt 443 246 469 308 251 144 213 124  83 293 276 332 484 158  66 121   9 247 309 198  14 105  54   5  18  31 \n",
            "  male.txt 213 173 166 146 119  87 156 163  45 144  70 113 200  77  52 101  15 200 238 188  22  50 151   7  16  31 \n"
          ]
        }
      ]
    },
    {
      "cell_type": "code",
      "source": [
        "distribution.plot()"
      ],
      "metadata": {
        "colab": {
          "base_uri": "https://localhost:8080/",
          "height": 280
        },
        "id": "FimtdMROMjWH",
        "outputId": "cf534b33-c6ea-468d-c712-86daf3c3ad8f"
      },
      "execution_count": 7,
      "outputs": [
        {
          "output_type": "display_data",
          "data": {
            "text/plain": [
              "<Figure size 432x288 with 1 Axes>"
            ],
            "image/png": "[encoded data removed]"
          },
          "metadata": {
            "needs_background": "light"
          }
        }
      ]
    },
    {
      "cell_type": "markdown",
      "source": [
        "# **Data Preprocessing**"
      ],
      "metadata": {
        "id": "mOZ9IukT_C3L"
      }
    },
    {
      "cell_type": "code",
      "source": [
        "def preprocess(names_df, train=True):\n",
        "    # Step 1: Lowercase\n",
        "    names_df['name'] = names_df['name'].str.lower()\n",
        "\n",
        "    # Step 2: Split individual characters\n",
        "    names_df['name'] = [list(name) for name in names_df['name']]\n",
        "\n",
        "    # Step 3: Pad names with spaces to make all names same length\n",
        "    name_length = 50\n",
        "    names_df['name'] = [\n",
        "        (name + [' ']*name_length)[:name_length] \n",
        "        for name in names_df['name']\n",
        "    ]\n",
        "\n",
        "    # Step 4: Encode Characters to Numbers\n",
        "    names_df['name'] = [\n",
        "        [\n",
        "            max(0.0, ord(char)-96.0) \n",
        "            for char in name\n",
        "        ]\n",
        "        for name in names_df['name']\n",
        "    ]\n",
        "    \n",
        "    if train:\n",
        "        # Step 5: Encode Gender to Numbers\n",
        "        names_df['gender'] = [\n",
        "            0.0 if gender=='female' else 1.0 \n",
        "            for gender in names_df['gender']\n",
        "        ]\n",
        "    \n",
        "    return names_df\n",
        "\n",
        "names_df = preprocess(names_df)\n",
        "names_df.head()"
      ],
      "metadata": {
        "colab": {
          "base_uri": "https://localhost:8080/",
          "height": 206
        },
        "id": "aS0AQNWA-NGv",
        "outputId": "13d6ad0f-be1f-4e7f-9d1b-42274df9a96f"
      },
      "execution_count": 8,
      "outputs": [
        {
          "output_type": "execute_result",
          "data": {
            "text/plain": [
              "                                                name  gender\n",
              "0  [4.0, 15.0, 18.0, 5.0, 20.0, 20.0, 5.0, 0.0, 0...     1.0\n",
              "1  [13.0, 9.0, 3.0, 8.0, 1.0, 5.0, 12.0, 9.0, 14....     1.0\n",
              "2  [4.0, 5.0, 18.0, 18.0, 15.0, 12.0, 0.0, 0.0, 0...     1.0\n",
              "3  [18.0, 15.0, 26.0, 5.0, 12.0, 12.0, 1.0, 0.0, ...     1.0\n",
              "4  [22.0, 1.0, 14.0, 0.0, 0.0, 0.0, 0.0, 0.0, 0.0...     1.0"
            ],
            "text/html": [
              "\n",
              "  <div id=\"df-264ad99a-f3e2-4548-bb67-1a6b35ab1727\">\n",
              "    <div class=\"colab-df-container\">\n",
              "      <div>\n",
              "<style scoped>\n",
              "    .dataframe tbody tr th:only-of-type {\n",
              "        vertical-align: middle;\n",
              "    }\n",
              "\n",
              "    .dataframe tbody tr th {\n",
              "        vertical-align: top;\n",
              "    }\n",
              "\n",
              "    .dataframe thead th {\n",
              "        text-align: right;\n",
              "    }\n",
              "</style>\n",
              "<table border=\"1\" class=\"dataframe\">\n",
              "  <thead>\n",
              "    <tr style=\"text-align: right;\">\n",
              "      <th></th>\n",
              "      <th>name</th>\n",
              "      <th>gender</th>\n",
              "    </tr>\n",
              "  </thead>\n",
              "  <tbody>\n",
              "    <tr>\n",
              "      <th>0</th>\n",
              "      <td>[4.0, 15.0, 18.0, 5.0, 20.0, 20.0, 5.0, 0.0, 0...</td>\n",
              "      <td>1.0</td>\n",
              "    </tr>\n",
              "    <tr>\n",
              "      <th>1</th>\n",
              "      <td>[13.0, 9.0, 3.0, 8.0, 1.0, 5.0, 12.0, 9.0, 14....</td>\n",
              "      <td>1.0</td>\n",
              "    </tr>\n",
              "    <tr>\n",
              "      <th>2</th>\n",
              "      <td>[4.0, 5.0, 18.0, 18.0, 15.0, 12.0, 0.0, 0.0, 0...</td>\n",
              "      <td>1.0</td>\n",
              "    </tr>\n",
              "    <tr>\n",
              "      <th>3</th>\n",
              "      <td>[18.0, 15.0, 26.0, 5.0, 12.0, 12.0, 1.0, 0.0, ...</td>\n",
              "      <td>1.0</td>\n",
              "    </tr>\n",
              "    <tr>\n",
              "      <th>4</th>\n",
              "      <td>[22.0, 1.0, 14.0, 0.0, 0.0, 0.0, 0.0, 0.0, 0.0...</td>\n",
              "      <td>1.0</td>\n",
              "    </tr>\n",
              "  </tbody>\n",
              "</table>\n",
              "</div>\n",
              "      <button class=\"colab-df-convert\" onclick=\"convertToInteractive('df-264ad99a-f3e2-4548-bb67-1a6b35ab1727')\"\n",
              "              title=\"Convert this dataframe to an interactive table.\"\n",
              "              style=\"display:none;\">\n",
              "        \n",
              "  <svg xmlns=\"http://www.w3.org/2000/svg\" height=\"24px\"viewBox=\"0 0 24 24\"\n",
              "       width=\"24px\">\n",
              "    <path d=\"M0 0h24v24H0V0z\" fill=\"none\"/>\n",
              "    <path d=\"M18.56 5.44l.94 2.06.94-2.06 2.06-.94-2.06-.94-.94-2.06-.94 2.06-2.06.94zm-11 1L8.5 8.5l.94-2.06 2.06-.94-2.06-.94L8.5 2.5l-.94 2.06-2.06.94zm10 10l.94 2.06.94-2.06 2.06-.94-2.06-.94-.94-2.06-.94 2.06-2.06.94z\"/><path d=\"M17.41 7.96l-1.37-1.37c-.4-.4-.92-.59-1.43-.59-.52 0-1.04.2-1.43.59L10.3 9.45l-7.72 7.72c-.78.78-.78 2.05 0 2.83L4 21.41c.39.39.9.59 1.41.59.51 0 1.02-.2 1.41-.59l7.78-7.78 2.81-2.81c.8-.78.8-2.07 0-2.86zM5.41 20L4 18.59l7.72-7.72 1.47 1.35L5.41 20z\"/>\n",
              "  </svg>\n",
              "      </button>\n",
              "      \n",
              "  <style>\n",
              "    .colab-df-container {\n",
              "      display:flex;\n",
              "      flex-wrap:wrap;\n",
              "      gap: 12px;\n",
              "    }\n",
              "\n",
              "    .colab-df-convert {\n",
              "      background-color: #E8F0FE;\n",
              "      border: none;\n",
              "      border-radius: 50%;\n",
              "      cursor: pointer;\n",
              "      display: none;\n",
              "      fill: #1967D2;\n",
              "      height: 32px;\n",
              "      padding: 0 0 0 0;\n",
              "      width: 32px;\n",
              "    }\n",
              "\n",
              "    .colab-df-convert:hover {\n",
              "      background-color: #E2EBFA;\n",
              "      box-shadow: 0px 1px 2px rgba(60, 64, 67, 0.3), 0px 1px 3px 1px rgba(60, 64, 67, 0.15);\n",
              "      fill: #174EA6;\n",
              "    }\n",
              "\n",
              "    [theme=dark] .colab-df-convert {\n",
              "      background-color: #3B4455;\n",
              "      fill: #D2E3FC;\n",
              "    }\n",
              "\n",
              "    [theme=dark] .colab-df-convert:hover {\n",
              "      background-color: #434B5C;\n",
              "      box-shadow: 0px 1px 3px 1px rgba(0, 0, 0, 0.15);\n",
              "      filter: drop-shadow(0px 1px 2px rgba(0, 0, 0, 0.3));\n",
              "      fill: #FFFFFF;\n",
              "    }\n",
              "  </style>\n",
              "\n",
              "      <script>\n",
              "        const buttonEl =\n",
              "          document.querySelector('#df-264ad99a-f3e2-4548-bb67-1a6b35ab1727 button.colab-df-convert');\n",
              "        buttonEl.style.display =\n",
              "          google.colab.kernel.accessAllowed ? 'block' : 'none';\n",
              "\n",
              "        async function convertToInteractive(key) {\n",
              "          const element = document.querySelector('#df-264ad99a-f3e2-4548-bb67-1a6b35ab1727');\n",
              "          const dataTable =\n",
              "            await google.colab.kernel.invokeFunction('convertToInteractive',\n",
              "                                                     [key], {});\n",
              "          if (!dataTable) return;\n",
              "\n",
              "          const docLinkHtml = 'Like what you see? Visit the ' +\n",
              "            '<a target=\"_blank\" href=https://colab.research.google.com/notebooks/data_table.ipynb>data table notebook</a>'\n",
              "            + ' to learn more about interactive tables.';\n",
              "          element.innerHTML = '';\n",
              "          dataTable['output_type'] = 'display_data';\n",
              "          await google.colab.output.renderOutput(dataTable, element);\n",
              "          const docLink = document.createElement('div');\n",
              "          docLink.innerHTML = docLinkHtml;\n",
              "          element.appendChild(docLink);\n",
              "        }\n",
              "      </script>\n",
              "    </div>\n",
              "  </div>\n",
              "  "
            ]
          },
          "metadata": {},
          "execution_count": 8
        }
      ]
    },
    {
      "cell_type": "markdown",
      "source": [
        "# **TASK 1**"
      ],
      "metadata": {
        "id": "4tVbNuRTBGPi"
      }
    },
    {
      "cell_type": "code",
      "source": [
        "## First we need to convert strings to letters\n",
        "labeled_data1 = [(list(X.lower()),y) for (X,y) in Gender_names]\n",
        "print(labeled_data1[27])"
      ],
      "metadata": {
        "colab": {
          "base_uri": "https://localhost:8080/"
        },
        "id": "kg1T8XBQJ62y",
        "outputId": "c6c7db2f-a132-4726-e822-2809e2a86146"
      },
      "execution_count": 9,
      "outputs": [
        {
          "output_type": "stream",
          "name": "stdout",
          "text": [
            "(['y', 'o', 'n', 'i', 'n', 'a'], 0.0)\n"
          ]
        }
      ]
    },
    {
      "cell_type": "code",
      "source": [
        "names = []\n",
        "labels = []\n",
        "\n",
        "names = [vname for vname,x  in labeled_data1]\n",
        "labels = [label for x , label in labeled_data1]\n",
        "    \n",
        "print(names[10:15])\n",
        "print(labels[10:15])\n",
        "len(names), len(labels)\n"
      ],
      "metadata": {
        "colab": {
          "base_uri": "https://localhost:8080/"
        },
        "id": "r0UlEzrdKIFD",
        "outputId": "3027213a-c99f-444f-f421-fd395daa003f"
      },
      "execution_count": 10,
      "outputs": [
        {
          "output_type": "stream",
          "name": "stdout",
          "text": [
            "[['a', 'r', 'l', 'e', 'e'], ['f', 'l', 'o'], ['a', 'd', 'a', 'i', 'r'], ['e', 'm', 'i', 'l', 'i', 'o'], ['w', 'o', 'o', 'd', 'y']]\n",
            "[0.0, 0.0, 1.0, 1.0, 1.0]\n"
          ]
        },
        {
          "output_type": "execute_result",
          "data": {
            "text/plain": [
              "(7944, 7944)"
            ]
          },
          "metadata": {},
          "execution_count": 10
        }
      ]
    },
    {
      "cell_type": "code",
      "source": [
        "chars = ''\n",
        "for name in names:\n",
        "    for s in name:\n",
        "        chars += s\n",
        "charsu = set(chars)\n",
        "print(charsu)\n",
        "vocab_size = len(charsu)\n",
        "print('total chars:', len(charsu))\n",
        "char_indices = dict((c, i) for i, c in enumerate(charsu))\n",
        "indices_char = dict((i, c) for i, c in enumerate(charsu))\n"
      ],
      "metadata": {
        "colab": {
          "base_uri": "https://localhost:8080/"
        },
        "id": "DmnkcbgPKVHZ",
        "outputId": "80038f2d-bb9a-4943-da70-2596d70f0b56"
      },
      "execution_count": 11,
      "outputs": [
        {
          "output_type": "stream",
          "name": "stdout",
          "text": [
            "{'n', '-', 'f', 'r', 'b', 'u', 'q', \"'\", 'd', 'x', 'a', ' ', 'h', 'l', 'w', 's', 'j', 'v', 'y', 'p', 'g', 'e', 'c', 'i', 'o', 'k', 'm', 't', 'z'}\n",
            "total chars: 29\n"
          ]
        }
      ]
    },
    {
      "cell_type": "code",
      "source": [
        "def vectorize_names(names, verbose=False):\n",
        "    vnames =[]\n",
        "    for name in names:\n",
        "        x = [char_indices[c] for c in name]\n",
        "        if verbose:\n",
        "            print(x)\n",
        "        vx = np.eye(len(char_indices))[x]\n",
        "        if verbose:\n",
        "            print(vx[0:12])\n",
        "        vnames.append(vx)\n",
        "    return vnames\n",
        "\n",
        "vectorize_names(names[0:2], verbose=True)\n",
        "\n",
        "vnames = vectorize_names(names,verbose=False)\n"
      ],
      "metadata": {
        "colab": {
          "base_uri": "https://localhost:8080/"
        },
        "id": "Pk5_aVyuKa4N",
        "outputId": "a09282b4-cef9-4982-908e-e029496f888e"
      },
      "execution_count": 12,
      "outputs": [
        {
          "output_type": "stream",
          "name": "stdout",
          "text": [
            "[8, 24, 3, 21, 27, 27, 21]\n",
            "[[0. 0. 0. 0. 0. 0. 0. 0. 1. 0. 0. 0. 0. 0. 0. 0. 0. 0. 0. 0. 0. 0. 0. 0.\n",
            "  0. 0. 0. 0. 0.]\n",
            " [0. 0. 0. 0. 0. 0. 0. 0. 0. 0. 0. 0. 0. 0. 0. 0. 0. 0. 0. 0. 0. 0. 0. 0.\n",
            "  1. 0. 0. 0. 0.]\n",
            " [0. 0. 0. 1. 0. 0. 0. 0. 0. 0. 0. 0. 0. 0. 0. 0. 0. 0. 0. 0. 0. 0. 0. 0.\n",
            "  0. 0. 0. 0. 0.]\n",
            " [0. 0. 0. 0. 0. 0. 0. 0. 0. 0. 0. 0. 0. 0. 0. 0. 0. 0. 0. 0. 0. 1. 0. 0.\n",
            "  0. 0. 0. 0. 0.]\n",
            " [0. 0. 0. 0. 0. 0. 0. 0. 0. 0. 0. 0. 0. 0. 0. 0. 0. 0. 0. 0. 0. 0. 0. 0.\n",
            "  0. 0. 0. 1. 0.]\n",
            " [0. 0. 0. 0. 0. 0. 0. 0. 0. 0. 0. 0. 0. 0. 0. 0. 0. 0. 0. 0. 0. 0. 0. 0.\n",
            "  0. 0. 0. 1. 0.]\n",
            " [0. 0. 0. 0. 0. 0. 0. 0. 0. 0. 0. 0. 0. 0. 0. 0. 0. 0. 0. 0. 0. 1. 0. 0.\n",
            "  0. 0. 0. 0. 0.]]\n",
            "[26, 23, 22, 12, 10, 21, 13, 23, 0, 10]\n",
            "[[0. 0. 0. 0. 0. 0. 0. 0. 0. 0. 0. 0. 0. 0. 0. 0. 0. 0. 0. 0. 0. 0. 0. 0.\n",
            "  0. 0. 1. 0. 0.]\n",
            " [0. 0. 0. 0. 0. 0. 0. 0. 0. 0. 0. 0. 0. 0. 0. 0. 0. 0. 0. 0. 0. 0. 0. 1.\n",
            "  0. 0. 0. 0. 0.]\n",
            " [0. 0. 0. 0. 0. 0. 0. 0. 0. 0. 0. 0. 0. 0. 0. 0. 0. 0. 0. 0. 0. 0. 1. 0.\n",
            "  0. 0. 0. 0. 0.]\n",
            " [0. 0. 0. 0. 0. 0. 0. 0. 0. 0. 0. 0. 1. 0. 0. 0. 0. 0. 0. 0. 0. 0. 0. 0.\n",
            "  0. 0. 0. 0. 0.]\n",
            " [0. 0. 0. 0. 0. 0. 0. 0. 0. 0. 1. 0. 0. 0. 0. 0. 0. 0. 0. 0. 0. 0. 0. 0.\n",
            "  0. 0. 0. 0. 0.]\n",
            " [0. 0. 0. 0. 0. 0. 0. 0. 0. 0. 0. 0. 0. 0. 0. 0. 0. 0. 0. 0. 0. 1. 0. 0.\n",
            "  0. 0. 0. 0. 0.]\n",
            " [0. 0. 0. 0. 0. 0. 0. 0. 0. 0. 0. 0. 0. 1. 0. 0. 0. 0. 0. 0. 0. 0. 0. 0.\n",
            "  0. 0. 0. 0. 0.]\n",
            " [0. 0. 0. 0. 0. 0. 0. 0. 0. 0. 0. 0. 0. 0. 0. 0. 0. 0. 0. 0. 0. 0. 0. 1.\n",
            "  0. 0. 0. 0. 0.]\n",
            " [1. 0. 0. 0. 0. 0. 0. 0. 0. 0. 0. 0. 0. 0. 0. 0. 0. 0. 0. 0. 0. 0. 0. 0.\n",
            "  0. 0. 0. 0. 0.]\n",
            " [0. 0. 0. 0. 0. 0. 0. 0. 0. 0. 1. 0. 0. 0. 0. 0. 0. 0. 0. 0. 0. 0. 0. 0.\n",
            "  0. 0. 0. 0. 0.]]\n"
          ]
        }
      ]
    },
    {
      "cell_type": "code",
      "source": [
        "from keras.preprocessing.sequence import pad_sequences\n",
        "\n",
        "maxlen =20\n",
        "\n",
        "pvnames =  pad_sequences(vnames, maxlen=maxlen)\n",
        "\n",
        "print(len(pvnames[1]))\n",
        "\n",
        "pvnames[1]"
      ],
      "metadata": {
        "colab": {
          "base_uri": "https://localhost:8080/"
        },
        "id": "IuxVLcYNKfpk",
        "outputId": "debf7976-5615-47ce-f71b-86f1849f9e91"
      },
      "execution_count": 13,
      "outputs": [
        {
          "output_type": "stream",
          "name": "stdout",
          "text": [
            "20\n"
          ]
        },
        {
          "output_type": "execute_result",
          "data": {
            "text/plain": [
              "array([[0, 0, 0, 0, 0, 0, 0, 0, 0, 0, 0, 0, 0, 0, 0, 0, 0, 0, 0, 0, 0, 0,\n",
              "        0, 0, 0, 0, 0, 0, 0],\n",
              "       [0, 0, 0, 0, 0, 0, 0, 0, 0, 0, 0, 0, 0, 0, 0, 0, 0, 0, 0, 0, 0, 0,\n",
              "        0, 0, 0, 0, 0, 0, 0],\n",
              "       [0, 0, 0, 0, 0, 0, 0, 0, 0, 0, 0, 0, 0, 0, 0, 0, 0, 0, 0, 0, 0, 0,\n",
              "        0, 0, 0, 0, 0, 0, 0],\n",
              "       [0, 0, 0, 0, 0, 0, 0, 0, 0, 0, 0, 0, 0, 0, 0, 0, 0, 0, 0, 0, 0, 0,\n",
              "        0, 0, 0, 0, 0, 0, 0],\n",
              "       [0, 0, 0, 0, 0, 0, 0, 0, 0, 0, 0, 0, 0, 0, 0, 0, 0, 0, 0, 0, 0, 0,\n",
              "        0, 0, 0, 0, 0, 0, 0],\n",
              "       [0, 0, 0, 0, 0, 0, 0, 0, 0, 0, 0, 0, 0, 0, 0, 0, 0, 0, 0, 0, 0, 0,\n",
              "        0, 0, 0, 0, 0, 0, 0],\n",
              "       [0, 0, 0, 0, 0, 0, 0, 0, 0, 0, 0, 0, 0, 0, 0, 0, 0, 0, 0, 0, 0, 0,\n",
              "        0, 0, 0, 0, 0, 0, 0],\n",
              "       [0, 0, 0, 0, 0, 0, 0, 0, 0, 0, 0, 0, 0, 0, 0, 0, 0, 0, 0, 0, 0, 0,\n",
              "        0, 0, 0, 0, 0, 0, 0],\n",
              "       [0, 0, 0, 0, 0, 0, 0, 0, 0, 0, 0, 0, 0, 0, 0, 0, 0, 0, 0, 0, 0, 0,\n",
              "        0, 0, 0, 0, 0, 0, 0],\n",
              "       [0, 0, 0, 0, 0, 0, 0, 0, 0, 0, 0, 0, 0, 0, 0, 0, 0, 0, 0, 0, 0, 0,\n",
              "        0, 0, 0, 0, 0, 0, 0],\n",
              "       [0, 0, 0, 0, 0, 0, 0, 0, 0, 0, 0, 0, 0, 0, 0, 0, 0, 0, 0, 0, 0, 0,\n",
              "        0, 0, 0, 0, 1, 0, 0],\n",
              "       [0, 0, 0, 0, 0, 0, 0, 0, 0, 0, 0, 0, 0, 0, 0, 0, 0, 0, 0, 0, 0, 0,\n",
              "        0, 1, 0, 0, 0, 0, 0],\n",
              "       [0, 0, 0, 0, 0, 0, 0, 0, 0, 0, 0, 0, 0, 0, 0, 0, 0, 0, 0, 0, 0, 0,\n",
              "        1, 0, 0, 0, 0, 0, 0],\n",
              "       [0, 0, 0, 0, 0, 0, 0, 0, 0, 0, 0, 0, 1, 0, 0, 0, 0, 0, 0, 0, 0, 0,\n",
              "        0, 0, 0, 0, 0, 0, 0],\n",
              "       [0, 0, 0, 0, 0, 0, 0, 0, 0, 0, 1, 0, 0, 0, 0, 0, 0, 0, 0, 0, 0, 0,\n",
              "        0, 0, 0, 0, 0, 0, 0],\n",
              "       [0, 0, 0, 0, 0, 0, 0, 0, 0, 0, 0, 0, 0, 0, 0, 0, 0, 0, 0, 0, 0, 1,\n",
              "        0, 0, 0, 0, 0, 0, 0],\n",
              "       [0, 0, 0, 0, 0, 0, 0, 0, 0, 0, 0, 0, 0, 1, 0, 0, 0, 0, 0, 0, 0, 0,\n",
              "        0, 0, 0, 0, 0, 0, 0],\n",
              "       [0, 0, 0, 0, 0, 0, 0, 0, 0, 0, 0, 0, 0, 0, 0, 0, 0, 0, 0, 0, 0, 0,\n",
              "        0, 1, 0, 0, 0, 0, 0],\n",
              "       [1, 0, 0, 0, 0, 0, 0, 0, 0, 0, 0, 0, 0, 0, 0, 0, 0, 0, 0, 0, 0, 0,\n",
              "        0, 0, 0, 0, 0, 0, 0],\n",
              "       [0, 0, 0, 0, 0, 0, 0, 0, 0, 0, 1, 0, 0, 0, 0, 0, 0, 0, 0, 0, 0, 0,\n",
              "        0, 0, 0, 0, 0, 0, 0]], dtype=int32)"
            ]
          },
          "metadata": {},
          "execution_count": 13
        }
      ]
    },
    {
      "cell_type": "code",
      "source": [
        "# Our vectorized training data\n",
        "x_train = pvnames[1000:]\n",
        "# Our vectorized test data\n",
        "x_test = pvnames[:1000]\n",
        "\n",
        "print(x_train.shape)"
      ],
      "metadata": {
        "colab": {
          "base_uri": "https://localhost:8080/"
        },
        "id": "DWOFelA-KkPX",
        "outputId": "049bdc16-6048-42ac-9f5c-1ae3e900fac2"
      },
      "execution_count": 14,
      "outputs": [
        {
          "output_type": "stream",
          "name": "stdout",
          "text": [
            "(6944, 20, 29)\n"
          ]
        }
      ]
    },
    {
      "cell_type": "code",
      "source": [
        "\n",
        "import tensorflow as tf\n",
        "from keras.utils.np_utils import to_categorical"
      ],
      "metadata": {
        "id": "O8k9OWK4Ku2_"
      },
      "execution_count": 15,
      "outputs": []
    },
    {
      "cell_type": "code",
      "source": [
        "y_ = to_categorical(labels)  # y: class vector to be converted into a matrix (integers from 0 to num_classes). \n",
        "print('y_.shape: ',y_.shape )  \n",
        "print(y_[5:26])"
      ],
      "metadata": {
        "colab": {
          "base_uri": "https://localhost:8080/"
        },
        "id": "fg3AjAMfKow5",
        "outputId": "ad08dcc3-ac26-4629-9e7b-c9a01d598ecc"
      },
      "execution_count": 16,
      "outputs": [
        {
          "output_type": "stream",
          "name": "stdout",
          "text": [
            "y_.shape:  (7944, 2)\n",
            "[[1. 0.]\n",
            " [0. 1.]\n",
            " [1. 0.]\n",
            " [1. 0.]\n",
            " [1. 0.]\n",
            " [1. 0.]\n",
            " [1. 0.]\n",
            " [0. 1.]\n",
            " [0. 1.]\n",
            " [0. 1.]\n",
            " [0. 1.]\n",
            " [1. 0.]\n",
            " [1. 0.]\n",
            " [1. 0.]\n",
            " [0. 1.]\n",
            " [1. 0.]\n",
            " [1. 0.]\n",
            " [1. 0.]\n",
            " [0. 1.]\n",
            " [0. 1.]\n",
            " [0. 1.]]\n"
          ]
        }
      ]
    },
    {
      "cell_type": "code",
      "source": [
        "y_train = y_[1000:]\n",
        "y_test = y_[:1000]\n",
        "y_train.shape"
      ],
      "metadata": {
        "colab": {
          "base_uri": "https://localhost:8080/"
        },
        "id": "aOjBYO_3MQXe",
        "outputId": "0e6160df-423a-4638-e600-7b89920cf05a"
      },
      "execution_count": 17,
      "outputs": [
        {
          "output_type": "execute_result",
          "data": {
            "text/plain": [
              "(6944, 2)"
            ]
          },
          "metadata": {},
          "execution_count": 17
        }
      ]
    },
    {
      "cell_type": "code",
      "source": [
        "from keras.models import Model\n",
        "from keras.layers import Input, Dense, Dropout, Flatten\n",
        "from keras.layers.convolutional import Convolution1D, MaxPooling1D\n",
        "from keras.layers import Conv1D"
      ],
      "metadata": {
        "id": "2zPSYraeHK-p"
      },
      "execution_count": 18,
      "outputs": []
    },
    {
      "cell_type": "code",
      "source": [
        "print(x_train.shape)"
      ],
      "metadata": {
        "colab": {
          "base_uri": "https://localhost:8080/"
        },
        "id": "CPe8PEVlJvf5",
        "outputId": "2fc2c4e2-d0d3-461c-a9b8-f7b5f1b30908"
      },
      "execution_count": 19,
      "outputs": [
        {
          "output_type": "stream",
          "name": "stdout",
          "text": [
            "(6944, 20, 29)\n"
          ]
        }
      ]
    },
    {
      "cell_type": "code",
      "source": [
        "nb_filter = 6\n",
        "dense_outputs = 10\n",
        "kernel_sizes = [2, 5, 3, 3, 4, 3]\n",
        "n_out = 2\n",
        "batch_size = 80\n",
        "nb_epochs = 50\n",
        "\n",
        "inputs = Input(shape=(20, 29), name='input', dtype='float32')\n",
        "\n",
        "print('inputs.shape: ',inputs.shape)"
      ],
      "metadata": {
        "colab": {
          "base_uri": "https://localhost:8080/"
        },
        "id": "bIT_TY5-Ht3Y",
        "outputId": "9c5f4611-799e-4f19-87e3-4bae5bd61f57"
      },
      "execution_count": 20,
      "outputs": [
        {
          "output_type": "stream",
          "name": "stdout",
          "text": [
            "inputs.shape:  (None, 20, 29)\n"
          ]
        }
      ]
    },
    {
      "cell_type": "code",
      "source": [
        "conv = Conv1D(filters=nb_filter, kernel_size=kernel_sizes[0],\n",
        "                     padding='same', activation='sigmoid',\n",
        "                     input_shape=(20, 29))(inputs)\n",
        "conv1 = MaxPooling1D(pool_size=5)(conv)\n",
        "\n",
        "conv2 = Conv1D(filters=nb_filter, kernel_size=kernel_sizes[2],\n",
        "                      padding='same', activation='sigmoid')(conv1)\n",
        "\n",
        "conv5 = Flatten()(conv2)\n",
        "\n",
        "z = Dropout(0.3)(Dense(dense_outputs, activation='sigmoid')(conv5))\n",
        "\n",
        "pred = Dense(n_out, activation='softmax', name='output')(z)\n",
        "\n",
        "model = Model(inputs=inputs, outputs=pred)\n",
        "\n",
        "model.compile(loss='categorical_crossentropy', optimizer='rmsprop',\n",
        "              metrics=['accuracy'])"
      ],
      "metadata": {
        "id": "JpIejhucHcRu"
      },
      "execution_count": 21,
      "outputs": []
    },
    {
      "cell_type": "code",
      "source": [
        "history=model.fit(x_train, y_train, batch_size=464,\n",
        "           epochs=nb_epochs, validation_split=0.2, verbose=True)"
      ],
      "metadata": {
        "colab": {
          "base_uri": "https://localhost:8080/"
        },
        "id": "P2KjskYEPnAf",
        "outputId": "7d8985a8-2365-4b03-af81-6f2397ce29bf"
      },
      "execution_count": 22,
      "outputs": [
        {
          "output_type": "stream",
          "name": "stdout",
          "text": [
            "Epoch 1/50\n",
            "12/12 [==============================] - 2s 36ms/step - loss: 0.6949 - accuracy: 0.5577 - val_loss: 0.6607 - val_accuracy: 0.6343\n",
            "Epoch 2/50\n",
            "12/12 [==============================] - 0s 14ms/step - loss: 0.6842 - accuracy: 0.5685 - val_loss: 0.6579 - val_accuracy: 0.6343\n",
            "Epoch 3/50\n",
            "12/12 [==============================] - 0s 14ms/step - loss: 0.6805 - accuracy: 0.5872 - val_loss: 0.6572 - val_accuracy: 0.6343\n",
            "Epoch 4/50\n",
            "12/12 [==============================] - 0s 14ms/step - loss: 0.6759 - accuracy: 0.5993 - val_loss: 0.6570 - val_accuracy: 0.6343\n",
            "Epoch 5/50\n",
            "12/12 [==============================] - 0s 13ms/step - loss: 0.6684 - accuracy: 0.6074 - val_loss: 0.6567 - val_accuracy: 0.6343\n",
            "Epoch 6/50\n",
            "12/12 [==============================] - 0s 14ms/step - loss: 0.6682 - accuracy: 0.6176 - val_loss: 0.6575 - val_accuracy: 0.6343\n",
            "Epoch 7/50\n",
            "12/12 [==============================] - 0s 16ms/step - loss: 0.6700 - accuracy: 0.6074 - val_loss: 0.6568 - val_accuracy: 0.6343\n",
            "Epoch 8/50\n",
            "12/12 [==============================] - 0s 14ms/step - loss: 0.6670 - accuracy: 0.6176 - val_loss: 0.6567 - val_accuracy: 0.6343\n",
            "Epoch 9/50\n",
            "12/12 [==============================] - 0s 14ms/step - loss: 0.6676 - accuracy: 0.6203 - val_loss: 0.6567 - val_accuracy: 0.6343\n",
            "Epoch 10/50\n",
            "12/12 [==============================] - 0s 14ms/step - loss: 0.6671 - accuracy: 0.6218 - val_loss: 0.6569 - val_accuracy: 0.6343\n",
            "Epoch 11/50\n",
            "12/12 [==============================] - 0s 15ms/step - loss: 0.6649 - accuracy: 0.6239 - val_loss: 0.6569 - val_accuracy: 0.6343\n",
            "Epoch 12/50\n",
            "12/12 [==============================] - 0s 15ms/step - loss: 0.6649 - accuracy: 0.6257 - val_loss: 0.6568 - val_accuracy: 0.6343\n",
            "Epoch 13/50\n",
            "12/12 [==============================] - 0s 15ms/step - loss: 0.6652 - accuracy: 0.6229 - val_loss: 0.6570 - val_accuracy: 0.6343\n",
            "Epoch 14/50\n",
            "12/12 [==============================] - 0s 14ms/step - loss: 0.6636 - accuracy: 0.6254 - val_loss: 0.6569 - val_accuracy: 0.6343\n",
            "Epoch 15/50\n",
            "12/12 [==============================] - 0s 14ms/step - loss: 0.6630 - accuracy: 0.6272 - val_loss: 0.6566 - val_accuracy: 0.6343\n",
            "Epoch 16/50\n",
            "12/12 [==============================] - 0s 14ms/step - loss: 0.6621 - accuracy: 0.6274 - val_loss: 0.6566 - val_accuracy: 0.6343\n",
            "Epoch 17/50\n",
            "12/12 [==============================] - 0s 13ms/step - loss: 0.6646 - accuracy: 0.6274 - val_loss: 0.6568 - val_accuracy: 0.6343\n",
            "Epoch 18/50\n",
            "12/12 [==============================] - 0s 14ms/step - loss: 0.6625 - accuracy: 0.6274 - val_loss: 0.6566 - val_accuracy: 0.6343\n",
            "Epoch 19/50\n",
            "12/12 [==============================] - 0s 16ms/step - loss: 0.6636 - accuracy: 0.6274 - val_loss: 0.6566 - val_accuracy: 0.6343\n",
            "Epoch 20/50\n",
            "12/12 [==============================] - 0s 12ms/step - loss: 0.6614 - accuracy: 0.6274 - val_loss: 0.6565 - val_accuracy: 0.6343\n",
            "Epoch 21/50\n",
            "12/12 [==============================] - 0s 13ms/step - loss: 0.6626 - accuracy: 0.6274 - val_loss: 0.6566 - val_accuracy: 0.6343\n",
            "Epoch 22/50\n",
            "12/12 [==============================] - 0s 13ms/step - loss: 0.6620 - accuracy: 0.6274 - val_loss: 0.6568 - val_accuracy: 0.6343\n",
            "Epoch 23/50\n",
            "12/12 [==============================] - 0s 13ms/step - loss: 0.6621 - accuracy: 0.6274 - val_loss: 0.6567 - val_accuracy: 0.6343\n",
            "Epoch 24/50\n",
            "12/12 [==============================] - 0s 12ms/step - loss: 0.6634 - accuracy: 0.6274 - val_loss: 0.6566 - val_accuracy: 0.6343\n",
            "Epoch 25/50\n",
            "12/12 [==============================] - 0s 17ms/step - loss: 0.6633 - accuracy: 0.6274 - val_loss: 0.6568 - val_accuracy: 0.6343\n",
            "Epoch 26/50\n",
            "12/12 [==============================] - 0s 13ms/step - loss: 0.6612 - accuracy: 0.6274 - val_loss: 0.6567 - val_accuracy: 0.6343\n",
            "Epoch 27/50\n",
            "12/12 [==============================] - 0s 13ms/step - loss: 0.6612 - accuracy: 0.6274 - val_loss: 0.6567 - val_accuracy: 0.6343\n",
            "Epoch 28/50\n",
            "12/12 [==============================] - 0s 12ms/step - loss: 0.6623 - accuracy: 0.6274 - val_loss: 0.6567 - val_accuracy: 0.6343\n",
            "Epoch 29/50\n",
            "12/12 [==============================] - 0s 13ms/step - loss: 0.6613 - accuracy: 0.6274 - val_loss: 0.6566 - val_accuracy: 0.6343\n",
            "Epoch 30/50\n",
            "12/12 [==============================] - 0s 14ms/step - loss: 0.6619 - accuracy: 0.6274 - val_loss: 0.6566 - val_accuracy: 0.6343\n",
            "Epoch 31/50\n",
            "12/12 [==============================] - 0s 14ms/step - loss: 0.6613 - accuracy: 0.6274 - val_loss: 0.6565 - val_accuracy: 0.6343\n",
            "Epoch 32/50\n",
            "12/12 [==============================] - 0s 13ms/step - loss: 0.6600 - accuracy: 0.6274 - val_loss: 0.6563 - val_accuracy: 0.6343\n",
            "Epoch 33/50\n",
            "12/12 [==============================] - 0s 13ms/step - loss: 0.6602 - accuracy: 0.6274 - val_loss: 0.6563 - val_accuracy: 0.6343\n",
            "Epoch 34/50\n",
            "12/12 [==============================] - 0s 14ms/step - loss: 0.6603 - accuracy: 0.6274 - val_loss: 0.6564 - val_accuracy: 0.6343\n",
            "Epoch 35/50\n",
            "12/12 [==============================] - 0s 13ms/step - loss: 0.6616 - accuracy: 0.6274 - val_loss: 0.6564 - val_accuracy: 0.6343\n",
            "Epoch 36/50\n",
            "12/12 [==============================] - 0s 14ms/step - loss: 0.6614 - accuracy: 0.6274 - val_loss: 0.6565 - val_accuracy: 0.6343\n",
            "Epoch 37/50\n",
            "12/12 [==============================] - 0s 15ms/step - loss: 0.6606 - accuracy: 0.6274 - val_loss: 0.6564 - val_accuracy: 0.6343\n",
            "Epoch 38/50\n",
            "12/12 [==============================] - 0s 14ms/step - loss: 0.6602 - accuracy: 0.6274 - val_loss: 0.6562 - val_accuracy: 0.6343\n",
            "Epoch 39/50\n",
            "12/12 [==============================] - 0s 13ms/step - loss: 0.6600 - accuracy: 0.6274 - val_loss: 0.6562 - val_accuracy: 0.6343\n",
            "Epoch 40/50\n",
            "12/12 [==============================] - 0s 12ms/step - loss: 0.6609 - accuracy: 0.6274 - val_loss: 0.6561 - val_accuracy: 0.6343\n",
            "Epoch 41/50\n",
            "12/12 [==============================] - 0s 14ms/step - loss: 0.6604 - accuracy: 0.6274 - val_loss: 0.6561 - val_accuracy: 0.6343\n",
            "Epoch 42/50\n",
            "12/12 [==============================] - 0s 12ms/step - loss: 0.6609 - accuracy: 0.6274 - val_loss: 0.6560 - val_accuracy: 0.6343\n",
            "Epoch 43/50\n",
            "12/12 [==============================] - 0s 14ms/step - loss: 0.6602 - accuracy: 0.6274 - val_loss: 0.6559 - val_accuracy: 0.6343\n",
            "Epoch 44/50\n",
            "12/12 [==============================] - 0s 12ms/step - loss: 0.6610 - accuracy: 0.6274 - val_loss: 0.6560 - val_accuracy: 0.6343\n",
            "Epoch 45/50\n",
            "12/12 [==============================] - 0s 13ms/step - loss: 0.6609 - accuracy: 0.6274 - val_loss: 0.6561 - val_accuracy: 0.6343\n",
            "Epoch 46/50\n",
            "12/12 [==============================] - 0s 12ms/step - loss: 0.6600 - accuracy: 0.6274 - val_loss: 0.6557 - val_accuracy: 0.6343\n",
            "Epoch 47/50\n",
            "12/12 [==============================] - 0s 12ms/step - loss: 0.6607 - accuracy: 0.6274 - val_loss: 0.6557 - val_accuracy: 0.6343\n",
            "Epoch 48/50\n",
            "12/12 [==============================] - 0s 13ms/step - loss: 0.6602 - accuracy: 0.6274 - val_loss: 0.6557 - val_accuracy: 0.6343\n",
            "Epoch 49/50\n",
            "12/12 [==============================] - 0s 13ms/step - loss: 0.6600 - accuracy: 0.6274 - val_loss: 0.6555 - val_accuracy: 0.6343\n",
            "Epoch 50/50\n",
            "12/12 [==============================] - 0s 13ms/step - loss: 0.6596 - accuracy: 0.6274 - val_loss: 0.6554 - val_accuracy: 0.6343\n"
          ]
        }
      ]
    },
    {
      "cell_type": "code",
      "source": [
        "history_dict = history.history\n",
        "print(history_dict.keys())"
      ],
      "metadata": {
        "colab": {
          "base_uri": "https://localhost:8080/"
        },
        "id": "iTpETjV4PxVR",
        "outputId": "dc1ca464-704f-45e4-90e7-2c5a9cf27895"
      },
      "execution_count": 23,
      "outputs": [
        {
          "output_type": "stream",
          "name": "stdout",
          "text": [
            "dict_keys(['loss', 'accuracy', 'val_loss', 'val_accuracy'])\n"
          ]
        }
      ]
    },
    {
      "cell_type": "code",
      "source": [
        "val_acc = history.history['val_accuracy']\n",
        "acc=history.history['accuracy']\n",
        "print(val_acc)\n",
        "print(acc)"
      ],
      "metadata": {
        "colab": {
          "base_uri": "https://localhost:8080/"
        },
        "id": "X1vufJK4P0EY",
        "outputId": "9c3ba05e-5398-4ad1-e802-8a5202bf21aa"
      },
      "execution_count": 24,
      "outputs": [
        {
          "output_type": "stream",
          "name": "stdout",
          "text": [
            "[0.6342692375183105, 0.6342692375183105, 0.6342692375183105, 0.6342692375183105, 0.6342692375183105, 0.6342692375183105, 0.6342692375183105, 0.6342692375183105, 0.6342692375183105, 0.6342692375183105, 0.6342692375183105, 0.6342692375183105, 0.6342692375183105, 0.6342692375183105, 0.6342692375183105, 0.6342692375183105, 0.6342692375183105, 0.6342692375183105, 0.6342692375183105, 0.6342692375183105, 0.6342692375183105, 0.6342692375183105, 0.6342692375183105, 0.6342692375183105, 0.6342692375183105, 0.6342692375183105, 0.6342692375183105, 0.6342692375183105, 0.6342692375183105, 0.6342692375183105, 0.6342692375183105, 0.6342692375183105, 0.6342692375183105, 0.6342692375183105, 0.6342692375183105, 0.6342692375183105, 0.6342692375183105, 0.6342692375183105, 0.6342692375183105, 0.6342692375183105, 0.6342692375183105, 0.6342692375183105, 0.6342692375183105, 0.6342692375183105, 0.6342692375183105, 0.6342692375183105, 0.6342692375183105, 0.6342692375183105, 0.6342692375183105, 0.6342692375183105]\n",
            "[0.557695746421814, 0.568496823310852, 0.587218701839447, 0.5992799401283264, 0.607380747795105, 0.6176417469978333, 0.607380747795105, 0.6176417469978333, 0.6203420162200928, 0.6217821836471558, 0.6239423751831055, 0.6257425546646118, 0.6228622794151306, 0.6253825426101685, 0.6271827220916748, 0.6273627281188965, 0.6273627281188965, 0.6273627281188965, 0.6273627281188965, 0.6273627281188965, 0.6273627281188965, 0.6273627281188965, 0.6273627281188965, 0.6273627281188965, 0.6273627281188965, 0.6273627281188965, 0.6273627281188965, 0.6273627281188965, 0.6273627281188965, 0.6273627281188965, 0.6273627281188965, 0.6273627281188965, 0.6273627281188965, 0.6273627281188965, 0.6273627281188965, 0.6273627281188965, 0.6273627281188965, 0.6273627281188965, 0.6273627281188965, 0.6273627281188965, 0.6273627281188965, 0.6273627281188965, 0.6273627281188965, 0.6273627281188965, 0.6273627281188965, 0.6273627281188965, 0.6273627281188965, 0.6273627281188965, 0.6273627281188965, 0.6273627281188965]\n"
          ]
        }
      ]
    },
    {
      "cell_type": "code",
      "source": [
        "predictions = model.predict(x_test) \n",
        "predictions"
      ],
      "metadata": {
        "colab": {
          "base_uri": "https://localhost:8080/"
        },
        "id": "tBcJTKdBP591",
        "outputId": "b76532fb-773f-4905-cd43-55d5da3447bf"
      },
      "execution_count": 25,
      "outputs": [
        {
          "output_type": "execute_result",
          "data": {
            "text/plain": [
              "array([[0.6276188 , 0.3723813 ],\n",
              "       [0.62740755, 0.37259248],\n",
              "       [0.62226504, 0.37773493],\n",
              "       ...,\n",
              "       [0.62650716, 0.37349275],\n",
              "       [0.62343067, 0.37656936],\n",
              "       [0.6230379 , 0.3769621 ]], dtype=float32)"
            ]
          },
          "metadata": {},
          "execution_count": 25
        }
      ]
    },
    {
      "cell_type": "code",
      "source": [
        "score = model.evaluate(x_test,y_test) \n",
        "score"
      ],
      "metadata": {
        "colab": {
          "base_uri": "https://localhost:8080/"
        },
        "id": "WzBleDMnP9xB",
        "outputId": "c716c974-a3f7-40d4-9e34-2f4b9800bb5d"
      },
      "execution_count": 26,
      "outputs": [
        {
          "output_type": "stream",
          "name": "stdout",
          "text": [
            "32/32 [==============================] - 0s 6ms/step - loss: 0.6550 - accuracy: 0.6350\n"
          ]
        },
        {
          "output_type": "execute_result",
          "data": {
            "text/plain": [
              "[0.6550462245941162, 0.6349999904632568]"
            ]
          },
          "metadata": {},
          "execution_count": 26
        }
      ]
    },
    {
      "cell_type": "code",
      "source": [
        "#  Save the model\n",
        "model.save('maleorfemale.h5')"
      ],
      "metadata": {
        "id": "G8XPtIS2QHVK"
      },
      "execution_count": 65,
      "outputs": []
    },
    {
      "cell_type": "code",
      "source": [
        "#Plot accuracies\n",
        "plt.plot(history.history['accuracy'], label='train')\n",
        "plt.plot(history.history['val_accuracy'], label='val')\n",
        "plt.xlabel('Epochs')\n",
        "plt.ylabel('Accuracy')\n",
        "plt.legend()"
      ],
      "metadata": {
        "colab": {
          "base_uri": "https://localhost:8080/",
          "height": 296
        },
        "id": "Vxe8A3uQQVS8",
        "outputId": "f67a2593-1e15-47ec-842a-a4481c16ca79"
      },
      "execution_count": 28,
      "outputs": [
        {
          "output_type": "execute_result",
          "data": {
            "text/plain": [
              "<matplotlib.legend.Legend at 0x7f62703e9650>"
            ]
          },
          "metadata": {},
          "execution_count": 28
        },
        {
          "output_type": "display_data",
          "data": {
            "text/plain": [
              "<Figure size 432x288 with 1 Axes>"
            ],
            "image/png": "[encoded data removed]"
          },
          "metadata": {
            "needs_background": "light"
          }
        }
      ]
    },
    {
      "cell_type": "code",
      "source": [
        "from tensorflow.keras.models import load_model\n",
        "import pandas as pd\n",
        "import numpy as np\n",
        "\n",
        "pred_model = load_model('maleorfemale.h5')\n",
        "\n",
        "# Input names\n",
        "names = ['Chris', 'Edna', 'Guenevere', 'Fonsie']\n",
        "\n",
        "# Convert to dataframe\n",
        "pred_df = pd.DataFrame({'name': names})\n",
        "\n",
        "# Preprocess\n",
        "pred_df = preprocess(pred_df, train=False)\n",
        "\n",
        "# Predictions\n",
        "result = pred_model.predict(np.asarray(\n",
        "    pred_df['name'].values.tolist())).squeeze(axis=1)\n",
        "\n",
        "pred_df['Male or Female?'] = [\n",
        "    'Male' if logit > 0.5 else 'Female' for logit in result\n",
        "]\n",
        "\n",
        "pred_df['Probability'] = [\n",
        "    logit if logit > 0.5 else 1.0 - logit for logit in result\n",
        "]\n",
        "\n",
        "# Format the output\n",
        "pred_df['name'] = names\n",
        "pred_df.rename(columns={'name': 'Name'}, inplace=True)\n",
        "pred_df['Probability'] = pred_df['Probability'].round(2)\n",
        "pred_df.drop_duplicates(inplace=True)\n",
        "\n",
        "pred_df.head()"
      ],
      "metadata": {
        "colab": {
          "base_uri": "https://localhost:8080/",
          "height": 212
        },
        "id": "XaxndE3Fd_E0",
        "outputId": "aed08116-3fec-4d0a-87f8-45e03517d2d8"
      },
      "execution_count": 66,
      "outputs": [
        {
          "output_type": "stream",
          "name": "stdout",
          "text": [
            "WARNING:tensorflow:6 out of the last 37 calls to <function Model.make_predict_function.<locals>.predict_function at 0x7f627214ccb0> triggered tf.function retracing. Tracing is expensive and the excessive number of tracings could be due to (1) creating @tf.function repeatedly in a loop, (2) passing tensors with different shapes, (3) passing Python objects instead of tensors. For (1), please define your @tf.function outside of the loop. For (2), @tf.function has experimental_relax_shapes=True option that relaxes argument shapes that can avoid unnecessary retracing. For (3), please refer to https://www.tensorflow.org/guide/function#controlling_retracing and https://www.tensorflow.org/api_docs/python/tf/function for  more details.\n"
          ]
        },
        {
          "output_type": "execute_result",
          "data": {
            "text/plain": [
              "        Name Male or Female?  Probability\n",
              "0      Chris            Male          1.0\n",
              "1       Edna            Male          1.0\n",
              "2  Guenevere            Male          1.0\n",
              "3     Fonsie            Male          1.0"
            ],
            "text/html": [
              "\n",
              "  <div id=\"df-e1d4b3f4-c538-4bb5-91c3-d66c7df26e87\">\n",
              "    <div class=\"colab-df-container\">\n",
              "      <div>\n",
              "<style scoped>\n",
              "    .dataframe tbody tr th:only-of-type {\n",
              "        vertical-align: middle;\n",
              "    }\n",
              "\n",
              "    .dataframe tbody tr th {\n",
              "        vertical-align: top;\n",
              "    }\n",
              "\n",
              "    .dataframe thead th {\n",
              "        text-align: right;\n",
              "    }\n",
              "</style>\n",
              "<table border=\"1\" class=\"dataframe\">\n",
              "  <thead>\n",
              "    <tr style=\"text-align: right;\">\n",
              "      <th></th>\n",
              "      <th>Name</th>\n",
              "      <th>Male or Female?</th>\n",
              "      <th>Probability</th>\n",
              "    </tr>\n",
              "  </thead>\n",
              "  <tbody>\n",
              "    <tr>\n",
              "      <th>0</th>\n",
              "      <td>Chris</td>\n",
              "      <td>Male</td>\n",
              "      <td>1.0</td>\n",
              "    </tr>\n",
              "    <tr>\n",
              "      <th>1</th>\n",
              "      <td>Edna</td>\n",
              "      <td>Male</td>\n",
              "      <td>1.0</td>\n",
              "    </tr>\n",
              "    <tr>\n",
              "      <th>2</th>\n",
              "      <td>Guenevere</td>\n",
              "      <td>Male</td>\n",
              "      <td>1.0</td>\n",
              "    </tr>\n",
              "    <tr>\n",
              "      <th>3</th>\n",
              "      <td>Fonsie</td>\n",
              "      <td>Male</td>\n",
              "      <td>1.0</td>\n",
              "    </tr>\n",
              "  </tbody>\n",
              "</table>\n",
              "</div>\n",
              "      <button class=\"colab-df-convert\" onclick=\"convertToInteractive('df-e1d4b3f4-c538-4bb5-91c3-d66c7df26e87')\"\n",
              "              title=\"Convert this dataframe to an interactive table.\"\n",
              "              style=\"display:none;\">\n",
              "        \n",
              "  <svg xmlns=\"http://www.w3.org/2000/svg\" height=\"24px\"viewBox=\"0 0 24 24\"\n",
              "       width=\"24px\">\n",
              "    <path d=\"M0 0h24v24H0V0z\" fill=\"none\"/>\n",
              "    <path d=\"M18.56 5.44l.94 2.06.94-2.06 2.06-.94-2.06-.94-.94-2.06-.94 2.06-2.06.94zm-11 1L8.5 8.5l.94-2.06 2.06-.94-2.06-.94L8.5 2.5l-.94 2.06-2.06.94zm10 10l.94 2.06.94-2.06 2.06-.94-2.06-.94-.94-2.06-.94 2.06-2.06.94z\"/><path d=\"M17.41 7.96l-1.37-1.37c-.4-.4-.92-.59-1.43-.59-.52 0-1.04.2-1.43.59L10.3 9.45l-7.72 7.72c-.78.78-.78 2.05 0 2.83L4 21.41c.39.39.9.59 1.41.59.51 0 1.02-.2 1.41-.59l7.78-7.78 2.81-2.81c.8-.78.8-2.07 0-2.86zM5.41 20L4 18.59l7.72-7.72 1.47 1.35L5.41 20z\"/>\n",
              "  </svg>\n",
              "      </button>\n",
              "      \n",
              "  <style>\n",
              "    .colab-df-container {\n",
              "      display:flex;\n",
              "      flex-wrap:wrap;\n",
              "      gap: 12px;\n",
              "    }\n",
              "\n",
              "    .colab-df-convert {\n",
              "      background-color: #E8F0FE;\n",
              "      border: none;\n",
              "      border-radius: 50%;\n",
              "      cursor: pointer;\n",
              "      display: none;\n",
              "      fill: #1967D2;\n",
              "      height: 32px;\n",
              "      padding: 0 0 0 0;\n",
              "      width: 32px;\n",
              "    }\n",
              "\n",
              "    .colab-df-convert:hover {\n",
              "      background-color: #E2EBFA;\n",
              "      box-shadow: 0px 1px 2px rgba(60, 64, 67, 0.3), 0px 1px 3px 1px rgba(60, 64, 67, 0.15);\n",
              "      fill: #174EA6;\n",
              "    }\n",
              "\n",
              "    [theme=dark] .colab-df-convert {\n",
              "      background-color: #3B4455;\n",
              "      fill: #D2E3FC;\n",
              "    }\n",
              "\n",
              "    [theme=dark] .colab-df-convert:hover {\n",
              "      background-color: #434B5C;\n",
              "      box-shadow: 0px 1px 3px 1px rgba(0, 0, 0, 0.15);\n",
              "      filter: drop-shadow(0px 1px 2px rgba(0, 0, 0, 0.3));\n",
              "      fill: #FFFFFF;\n",
              "    }\n",
              "  </style>\n",
              "\n",
              "      <script>\n",
              "        const buttonEl =\n",
              "          document.querySelector('#df-e1d4b3f4-c538-4bb5-91c3-d66c7df26e87 button.colab-df-convert');\n",
              "        buttonEl.style.display =\n",
              "          google.colab.kernel.accessAllowed ? 'block' : 'none';\n",
              "\n",
              "        async function convertToInteractive(key) {\n",
              "          const element = document.querySelector('#df-e1d4b3f4-c538-4bb5-91c3-d66c7df26e87');\n",
              "          const dataTable =\n",
              "            await google.colab.kernel.invokeFunction('convertToInteractive',\n",
              "                                                     [key], {});\n",
              "          if (!dataTable) return;\n",
              "\n",
              "          const docLinkHtml = 'Like what you see? Visit the ' +\n",
              "            '<a target=\"_blank\" href=https://colab.research.google.com/notebooks/data_table.ipynb>data table notebook</a>'\n",
              "            + ' to learn more about interactive tables.';\n",
              "          element.innerHTML = '';\n",
              "          dataTable['output_type'] = 'display_data';\n",
              "          await google.colab.output.renderOutput(dataTable, element);\n",
              "          const docLink = document.createElement('div');\n",
              "          docLink.innerHTML = docLinkHtml;\n",
              "          element.appendChild(docLink);\n",
              "        }\n",
              "      </script>\n",
              "    </div>\n",
              "  </div>\n",
              "  "
            ]
          },
          "metadata": {},
          "execution_count": 66
        }
      ]
    },
    {
      "cell_type": "code",
      "source": [
        "names = ['Chris', 'Edna']\n",
        "for name in names:\n",
        "  for i in range(0,1):\n",
        "    if predictions[i, 1] >= 0.5:\n",
        "     print(name,'male') \n",
        "    else:\n",
        "      print(name,'female')"
      ],
      "metadata": {
        "colab": {
          "base_uri": "https://localhost:8080/"
        },
        "id": "wddEiiR8QmpN",
        "outputId": "de91b64e-5eee-4b5b-e2e5-5e3b0b19962e"
      },
      "execution_count": 29,
      "outputs": [
        {
          "output_type": "stream",
          "name": "stdout",
          "text": [
            "Chris female\n",
            "Edna female\n"
          ]
        }
      ]
    },
    {
      "cell_type": "markdown",
      "source": [
        "# **TASK 2**"
      ],
      "metadata": {
        "id": "45ZfI3NI-0Qt"
      }
    },
    {
      "cell_type": "markdown",
      "source": [
        "# **Model Architecture**"
      ],
      "metadata": {
        "id": "WGc9TsIT--hw"
      }
    },
    {
      "cell_type": "code",
      "source": [
        ""
      ],
      "metadata": {
        "id": "Uw33HCS2Vkjf"
      },
      "execution_count": null,
      "outputs": []
    },
    {
      "cell_type": "code",
      "source": [
        "from tensorflow.keras import Sequential\n",
        "from tensorflow.keras.layers import Embedding, Bidirectional, LSTM, Dense\n",
        "from tensorflow.keras.optimizers import Adam\n",
        "\n",
        "def lstm_model(num_alphabets=27, name_length=50, embedding_dim=256):\n",
        "    model = Sequential([\n",
        "        Embedding(num_alphabets, embedding_dim, input_length=name_length),\n",
        "        Bidirectional(LSTM(units=32, recurrent_dropout=0.2, dropout=0.2)),# by default units=128\n",
        "        Dense(1, activation=\"sigmoid\")\n",
        "    ])\n",
        "\n",
        "    model.compile(loss='binary_crossentropy',\n",
        "                  optimizer=Adam(learning_rate=0.001),\n",
        "                  metrics=['accuracy'])\n",
        "\n",
        "    return model"
      ],
      "metadata": {
        "id": "NyZhjyL1-y1V"
      },
      "execution_count": 30,
      "outputs": []
    },
    {
      "cell_type": "markdown",
      "source": [
        "# **Training the Model**"
      ],
      "metadata": {
        "id": "wjtH9Zap_MDl"
      }
    },
    {
      "cell_type": "code",
      "source": [
        "import numpy as np\n",
        "from matplotlib import pyplot as plt\n",
        "from sklearn.model_selection import train_test_split\n",
        "from tensorflow.keras.callbacks import EarlyStopping\n",
        "\n",
        "# Step 1: Instantiate the model\n",
        "model = lstm_model(num_alphabets=27, name_length=50, embedding_dim=256)\n",
        "\n",
        "# Step 2: Split Training and Test Data\n",
        "X = np.asarray(names_df['name'].values.tolist())\n",
        "y = np.asarray(names_df['gender'].values.tolist())\n",
        "\n",
        "X_train, X_test, y_train, y_test = train_test_split(X,\n",
        "                                                    y,\n",
        "                                                    test_size=0.2,\n",
        "                                                    random_state=0)\n",
        "\n",
        "# Step 3: Train the model\n",
        "callbacks = [\n",
        "    EarlyStopping(monitor='val_accuracy',\n",
        "                  min_delta=1e-3,\n",
        "                  patience=5,\n",
        "                  mode='max',\n",
        "                  restore_best_weights=True,\n",
        "                  verbose=1),\n",
        "]\n",
        "\n",
        "history = model.fit(x=X_train,\n",
        "                    y=y_train,\n",
        "                    batch_size=64,\n",
        "                    epochs=50,\n",
        "                    validation_data=(X_test, y_test),\n",
        "                    callbacks=callbacks)\n",
        "\n",
        "# Step 4: Save the model\n",
        "model.save('maleorfemale.h5')\n",
        "\n",
        "# Step 5: Plot accuracies\n",
        "plt.plot(history.history['accuracy'], label='train')\n",
        "plt.plot(history.history['val_accuracy'], label='val')\n",
        "plt.xlabel('Epochs')\n",
        "plt.ylabel('Accuracy')\n",
        "plt.legend()"
      ],
      "metadata": {
        "colab": {
          "base_uri": "https://localhost:8080/",
          "height": 851
        },
        "id": "LNDRYoeq-8BT",
        "outputId": "d8ac77eb-b358-47e0-d55c-affa596cd48c"
      },
      "execution_count": 16,
      "outputs": [
        {
          "output_type": "stream",
          "name": "stdout",
          "text": [
            "Epoch 1/50\n",
            "100/100 [==============================] - 32s 259ms/step - loss: 0.6213 - accuracy: 0.6573 - val_loss: 0.5382 - val_accuracy: 0.7256\n",
            "Epoch 2/50\n",
            "100/100 [==============================] - 26s 257ms/step - loss: 0.5156 - accuracy: 0.7482 - val_loss: 0.4659 - val_accuracy: 0.7904\n",
            "Epoch 3/50\n",
            "100/100 [==============================] - 25s 251ms/step - loss: 0.4812 - accuracy: 0.7734 - val_loss: 0.4577 - val_accuracy: 0.7974\n",
            "Epoch 4/50\n",
            "100/100 [==============================] - 25s 252ms/step - loss: 0.4717 - accuracy: 0.7791 - val_loss: 0.4612 - val_accuracy: 0.7829\n",
            "Epoch 5/50\n",
            "100/100 [==============================] - 25s 250ms/step - loss: 0.4592 - accuracy: 0.7854 - val_loss: 0.4323 - val_accuracy: 0.8049\n",
            "Epoch 6/50\n",
            "100/100 [==============================] - 25s 254ms/step - loss: 0.4462 - accuracy: 0.7893 - val_loss: 0.4145 - val_accuracy: 0.8200\n",
            "Epoch 7/50\n",
            "100/100 [==============================] - 25s 253ms/step - loss: 0.4369 - accuracy: 0.7948 - val_loss: 0.4276 - val_accuracy: 0.8030\n",
            "Epoch 8/50\n",
            "100/100 [==============================] - 25s 250ms/step - loss: 0.4278 - accuracy: 0.7964 - val_loss: 0.4099 - val_accuracy: 0.8150\n",
            "Epoch 9/50\n",
            "100/100 [==============================] - 26s 261ms/step - loss: 0.4209 - accuracy: 0.8017 - val_loss: 0.4075 - val_accuracy: 0.8194\n",
            "Epoch 10/50\n",
            "100/100 [==============================] - 39s 386ms/step - loss: 0.4179 - accuracy: 0.8044 - val_loss: 0.4061 - val_accuracy: 0.8219\n",
            "Epoch 11/50\n",
            "100/100 [==============================] - 25s 255ms/step - loss: 0.4156 - accuracy: 0.8042 - val_loss: 0.4033 - val_accuracy: 0.8156\n",
            "Epoch 12/50\n",
            "100/100 [==============================] - 26s 260ms/step - loss: 0.4138 - accuracy: 0.8005 - val_loss: 0.3972 - val_accuracy: 0.8131\n",
            "Epoch 13/50\n",
            "100/100 [==============================] - 27s 267ms/step - loss: 0.4075 - accuracy: 0.8077 - val_loss: 0.4018 - val_accuracy: 0.8156\n",
            "Epoch 14/50\n",
            "100/100 [==============================] - 27s 273ms/step - loss: 0.4046 - accuracy: 0.8065 - val_loss: 0.3950 - val_accuracy: 0.8150\n",
            "Epoch 15/50\n",
            "100/100 [==============================] - ETA: 0s - loss: 0.3998 - accuracy: 0.8142Restoring model weights from the end of the best epoch: 10.\n",
            "100/100 [==============================] - 25s 254ms/step - loss: 0.3998 - accuracy: 0.8142 - val_loss: 0.3917 - val_accuracy: 0.8188\n",
            "Epoch 15: early stopping\n"
          ]
        },
        {
          "output_type": "execute_result",
          "data": {
            "text/plain": [
              "<matplotlib.legend.Legend at 0x7fd9c6835690>"
            ]
          },
          "metadata": {},
          "execution_count": 16
        },
        {
          "output_type": "display_data",
          "data": {
            "text/plain": [
              "<Figure size 432x288 with 1 Axes>"
            ],
            "image/png": "[encoded data removed]"
          },
          "metadata": {
            "needs_background": "light"
          }
        }
      ]
    },
    {
      "cell_type": "code",
      "source": [
        "\n",
        "from tensorflow.keras.models import load_model\n",
        "import pandas as pd\n",
        "import numpy as np\n",
        "\n",
        "pred_model = load_model('maleorfemale.h5')\n",
        "\n",
        "# Input names\n",
        "names = ['Chris', 'Edna', 'Guenevere', 'Fonsie']\n",
        "\n",
        "# Convert to dataframe\n",
        "pred_df = pd.DataFrame({'name': names})\n",
        "\n",
        "# Preprocess\n",
        "pred_df = preprocess(pred_df, train=False)\n",
        "\n",
        "# Predictions\n",
        "result = pred_model.predict(np.asarray(\n",
        "    pred_df['name'].values.tolist())).squeeze(axis=1)\n",
        "\n",
        "pred_df['Male or Female?'] = [\n",
        "    'Male' if logit > 0.5 else 'Female' for logit in result\n",
        "]\n",
        "\n",
        "pred_df['Probability'] = [\n",
        "    logit if logit > 0.5 else 1.0 - logit for logit in result\n",
        "]\n",
        "\n",
        "# Format the output\n",
        "pred_df['name'] = names\n",
        "pred_df.rename(columns={'name': 'Name'}, inplace=True)\n",
        "pred_df['Probability'] = pred_df['Probability'].round(2)\n",
        "pred_df.drop_duplicates(inplace=True)\n",
        "\n",
        "pred_df.head()"
      ],
      "metadata": {
        "colab": {
          "base_uri": "https://localhost:8080/",
          "height": 212
        },
        "id": "M8en2e-MABSQ",
        "outputId": "cfc6fd2f-c911-4b9b-8c6a-07bfe0bcb495"
      },
      "execution_count": 63,
      "outputs": [
        {
          "output_type": "stream",
          "name": "stdout",
          "text": [
            "WARNING:tensorflow:5 out of the last 36 calls to <function Model.make_predict_function.<locals>.predict_function at 0x7f6270cdd7a0> triggered tf.function retracing. Tracing is expensive and the excessive number of tracings could be due to (1) creating @tf.function repeatedly in a loop, (2) passing tensors with different shapes, (3) passing Python objects instead of tensors. For (1), please define your @tf.function outside of the loop. For (2), @tf.function has experimental_relax_shapes=True option that relaxes argument shapes that can avoid unnecessary retracing. For (3), please refer to https://www.tensorflow.org/guide/function#controlling_retracing and https://www.tensorflow.org/api_docs/python/tf/function for  more details.\n"
          ]
        },
        {
          "output_type": "execute_result",
          "data": {
            "text/plain": [
              "        Name Male or Female?  Probability\n",
              "0      Chris            Male          1.0\n",
              "1       Edna            Male          1.0\n",
              "2  Guenevere            Male          1.0\n",
              "3     Fonsie            Male          1.0"
            ],
            "text/html": [
              "\n",
              "  <div id=\"df-d5847eb4-0161-4edd-97be-85ad89245b72\">\n",
              "    <div class=\"colab-df-container\">\n",
              "      <div>\n",
              "<style scoped>\n",
              "    .dataframe tbody tr th:only-of-type {\n",
              "        vertical-align: middle;\n",
              "    }\n",
              "\n",
              "    .dataframe tbody tr th {\n",
              "        vertical-align: top;\n",
              "    }\n",
              "\n",
              "    .dataframe thead th {\n",
              "        text-align: right;\n",
              "    }\n",
              "</style>\n",
              "<table border=\"1\" class=\"dataframe\">\n",
              "  <thead>\n",
              "    <tr style=\"text-align: right;\">\n",
              "      <th></th>\n",
              "      <th>Name</th>\n",
              "      <th>Male or Female?</th>\n",
              "      <th>Probability</th>\n",
              "    </tr>\n",
              "  </thead>\n",
              "  <tbody>\n",
              "    <tr>\n",
              "      <th>0</th>\n",
              "      <td>Chris</td>\n",
              "      <td>Male</td>\n",
              "      <td>1.0</td>\n",
              "    </tr>\n",
              "    <tr>\n",
              "      <th>1</th>\n",
              "      <td>Edna</td>\n",
              "      <td>Male</td>\n",
              "      <td>1.0</td>\n",
              "    </tr>\n",
              "    <tr>\n",
              "      <th>2</th>\n",
              "      <td>Guenevere</td>\n",
              "      <td>Male</td>\n",
              "      <td>1.0</td>\n",
              "    </tr>\n",
              "    <tr>\n",
              "      <th>3</th>\n",
              "      <td>Fonsie</td>\n",
              "      <td>Male</td>\n",
              "      <td>1.0</td>\n",
              "    </tr>\n",
              "  </tbody>\n",
              "</table>\n",
              "</div>\n",
              "      <button class=\"colab-df-convert\" onclick=\"convertToInteractive('df-d5847eb4-0161-4edd-97be-85ad89245b72')\"\n",
              "              title=\"Convert this dataframe to an interactive table.\"\n",
              "              style=\"display:none;\">\n",
              "        \n",
              "  <svg xmlns=\"http://www.w3.org/2000/svg\" height=\"24px\"viewBox=\"0 0 24 24\"\n",
              "       width=\"24px\">\n",
              "    <path d=\"M0 0h24v24H0V0z\" fill=\"none\"/>\n",
              "    <path d=\"M18.56 5.44l.94 2.06.94-2.06 2.06-.94-2.06-.94-.94-2.06-.94 2.06-2.06.94zm-11 1L8.5 8.5l.94-2.06 2.06-.94-2.06-.94L8.5 2.5l-.94 2.06-2.06.94zm10 10l.94 2.06.94-2.06 2.06-.94-2.06-.94-.94-2.06-.94 2.06-2.06.94z\"/><path d=\"M17.41 7.96l-1.37-1.37c-.4-.4-.92-.59-1.43-.59-.52 0-1.04.2-1.43.59L10.3 9.45l-7.72 7.72c-.78.78-.78 2.05 0 2.83L4 21.41c.39.39.9.59 1.41.59.51 0 1.02-.2 1.41-.59l7.78-7.78 2.81-2.81c.8-.78.8-2.07 0-2.86zM5.41 20L4 18.59l7.72-7.72 1.47 1.35L5.41 20z\"/>\n",
              "  </svg>\n",
              "      </button>\n",
              "      \n",
              "  <style>\n",
              "    .colab-df-container {\n",
              "      display:flex;\n",
              "      flex-wrap:wrap;\n",
              "      gap: 12px;\n",
              "    }\n",
              "\n",
              "    .colab-df-convert {\n",
              "      background-color: #E8F0FE;\n",
              "      border: none;\n",
              "      border-radius: 50%;\n",
              "      cursor: pointer;\n",
              "      display: none;\n",
              "      fill: #1967D2;\n",
              "      height: 32px;\n",
              "      padding: 0 0 0 0;\n",
              "      width: 32px;\n",
              "    }\n",
              "\n",
              "    .colab-df-convert:hover {\n",
              "      background-color: #E2EBFA;\n",
              "      box-shadow: 0px 1px 2px rgba(60, 64, 67, 0.3), 0px 1px 3px 1px rgba(60, 64, 67, 0.15);\n",
              "      fill: #174EA6;\n",
              "    }\n",
              "\n",
              "    [theme=dark] .colab-df-convert {\n",
              "      background-color: #3B4455;\n",
              "      fill: #D2E3FC;\n",
              "    }\n",
              "\n",
              "    [theme=dark] .colab-df-convert:hover {\n",
              "      background-color: #434B5C;\n",
              "      box-shadow: 0px 1px 3px 1px rgba(0, 0, 0, 0.15);\n",
              "      filter: drop-shadow(0px 1px 2px rgba(0, 0, 0, 0.3));\n",
              "      fill: #FFFFFF;\n",
              "    }\n",
              "  </style>\n",
              "\n",
              "      <script>\n",
              "        const buttonEl =\n",
              "          document.querySelector('#df-d5847eb4-0161-4edd-97be-85ad89245b72 button.colab-df-convert');\n",
              "        buttonEl.style.display =\n",
              "          google.colab.kernel.accessAllowed ? 'block' : 'none';\n",
              "\n",
              "        async function convertToInteractive(key) {\n",
              "          const element = document.querySelector('#df-d5847eb4-0161-4edd-97be-85ad89245b72');\n",
              "          const dataTable =\n",
              "            await google.colab.kernel.invokeFunction('convertToInteractive',\n",
              "                                                     [key], {});\n",
              "          if (!dataTable) return;\n",
              "\n",
              "          const docLinkHtml = 'Like what you see? Visit the ' +\n",
              "            '<a target=\"_blank\" href=https://colab.research.google.com/notebooks/data_table.ipynb>data table notebook</a>'\n",
              "            + ' to learn more about interactive tables.';\n",
              "          element.innerHTML = '';\n",
              "          dataTable['output_type'] = 'display_data';\n",
              "          await google.colab.output.renderOutput(dataTable, element);\n",
              "          const docLink = document.createElement('div');\n",
              "          docLink.innerHTML = docLinkHtml;\n",
              "          element.appendChild(docLink);\n",
              "        }\n",
              "      </script>\n",
              "    </div>\n",
              "  </div>\n",
              "  "
            ]
          },
          "metadata": {},
          "execution_count": 63
        }
      ]
    },
    {
      "cell_type": "markdown",
      "source": [
        "# **TASK-3**"
      ],
      "metadata": {
        "id": "cEWiUxQ5Vtl_"
      }
    },
    {
      "cell_type": "code",
      "source": [
        "conv = Conv1D(filters=nb_filter, kernel_size=kernel_sizes[0],\n",
        "                     padding='same', activation='sigmoid',\n",
        "                     input_shape=(20, 29))(inputs)\n",
        "conv1 = MaxPooling1D(pool_size=5)(conv)\n",
        "\n",
        "conv2 = Conv1D(filters=nb_filter, kernel_size=kernel_sizes[2],\n",
        "                      padding='same', activation='sigmoid')(conv1)\n",
        "\n",
        "#conv5 = Flatten()(conv2)\n",
        "\n",
        "z = Dropout(0.3)(Dense(dense_outputs, activation='sigmoid')(conv2))\n",
        "\n",
        "y = LSTM(units=32, recurrent_dropout=0.2, dropout=0.2)(z)# by default units=128\n",
        "\n",
        "\n",
        "x = Dropout(0.2)(Dense(dense_outputs, activation='sigmoid')(y))\n",
        "\n",
        "pred = Dense(n_out, activation='softmax', name='output')(x)\n",
        "\n",
        "model = Model(inputs=inputs, outputs=pred)\n",
        "\n",
        "model.compile(loss='categorical_crossentropy', optimizer='rmsprop',\n",
        "              metrics=['accuracy'])"
      ],
      "metadata": {
        "id": "3tFCC2LiCnqh"
      },
      "execution_count": 55,
      "outputs": []
    },
    {
      "cell_type": "code",
      "source": [
        "x_train.shape"
      ],
      "metadata": {
        "colab": {
          "base_uri": "https://localhost:8080/"
        },
        "id": "IbiYc4IjBrsZ",
        "outputId": "cf52f240-1261-4023-de11-e6c6b24779af"
      },
      "execution_count": 43,
      "outputs": [
        {
          "output_type": "execute_result",
          "data": {
            "text/plain": [
              "(6944, 20, 29)"
            ]
          },
          "metadata": {},
          "execution_count": 43
        }
      ]
    },
    {
      "cell_type": "code",
      "source": [
        "y_train.shape"
      ],
      "metadata": {
        "colab": {
          "base_uri": "https://localhost:8080/"
        },
        "id": "0WWys1bwBwl3",
        "outputId": "49e0d239-b522-46e7-cb26-2065bef7fcd8"
      },
      "execution_count": 44,
      "outputs": [
        {
          "output_type": "execute_result",
          "data": {
            "text/plain": [
              "(6355,)"
            ]
          },
          "metadata": {},
          "execution_count": 44
        }
      ]
    },
    {
      "cell_type": "code",
      "source": [
        "y_train = to_categorical(labels)  \n",
        "print('y_.shape: ',y_.shape )  \n",
        "#print(y_[5:26])"
      ],
      "metadata": {
        "colab": {
          "base_uri": "https://localhost:8080/"
        },
        "id": "rrInnm68B5Wl",
        "outputId": "32a96329-38ff-45e3-c517-7887f3e74da3"
      },
      "execution_count": 46,
      "outputs": [
        {
          "output_type": "stream",
          "name": "stdout",
          "text": [
            "y_.shape:  (7944, 2)\n"
          ]
        }
      ]
    },
    {
      "cell_type": "code",
      "source": [
        "history=model.fit(x_train, y_train, batch_size=464,\n",
        "           epochs=nb_epochs, validation_split=0.2, verbose=True)"
      ],
      "metadata": {
        "colab": {
          "base_uri": "https://localhost:8080/"
        },
        "id": "EasHSjnofoUa",
        "outputId": "9e422d45-be7a-4ca8-90b6-9d1390d07bdb"
      },
      "execution_count": 56,
      "outputs": [
        {
          "output_type": "stream",
          "name": "stdout",
          "text": [
            "Epoch 1/50\n",
            "12/12 [==============================] - 5s 75ms/step - loss: 0.6811 - accuracy: 0.5951 - val_loss: 0.6602 - val_accuracy: 0.6278\n",
            "Epoch 2/50\n",
            "12/12 [==============================] - 0s 29ms/step - loss: 0.6742 - accuracy: 0.6079 - val_loss: 0.6601 - val_accuracy: 0.6278\n",
            "Epoch 3/50\n",
            "12/12 [==============================] - 0s 25ms/step - loss: 0.6727 - accuracy: 0.6063 - val_loss: 0.6601 - val_accuracy: 0.6278\n",
            "Epoch 4/50\n",
            "12/12 [==============================] - 0s 26ms/step - loss: 0.6709 - accuracy: 0.6144 - val_loss: 0.6602 - val_accuracy: 0.6278\n",
            "Epoch 5/50\n",
            "12/12 [==============================] - 0s 25ms/step - loss: 0.6688 - accuracy: 0.6162 - val_loss: 0.6601 - val_accuracy: 0.6278\n",
            "Epoch 6/50\n",
            "12/12 [==============================] - 0s 28ms/step - loss: 0.6684 - accuracy: 0.6189 - val_loss: 0.6601 - val_accuracy: 0.6278\n",
            "Epoch 7/50\n",
            "12/12 [==============================] - 0s 30ms/step - loss: 0.6647 - accuracy: 0.6229 - val_loss: 0.6601 - val_accuracy: 0.6278\n",
            "Epoch 8/50\n",
            "12/12 [==============================] - 0s 28ms/step - loss: 0.6647 - accuracy: 0.6239 - val_loss: 0.6601 - val_accuracy: 0.6278\n",
            "Epoch 9/50\n",
            "12/12 [==============================] - 0s 30ms/step - loss: 0.6637 - accuracy: 0.6256 - val_loss: 0.6601 - val_accuracy: 0.6278\n",
            "Epoch 10/50\n",
            "12/12 [==============================] - 0s 28ms/step - loss: 0.6619 - accuracy: 0.6279 - val_loss: 0.6601 - val_accuracy: 0.6278\n",
            "Epoch 11/50\n",
            "12/12 [==============================] - 0s 24ms/step - loss: 0.6613 - accuracy: 0.6274 - val_loss: 0.6602 - val_accuracy: 0.6278\n",
            "Epoch 12/50\n",
            "12/12 [==============================] - 0s 25ms/step - loss: 0.6630 - accuracy: 0.6263 - val_loss: 0.6604 - val_accuracy: 0.6278\n",
            "Epoch 13/50\n",
            "12/12 [==============================] - 0s 28ms/step - loss: 0.6630 - accuracy: 0.6270 - val_loss: 0.6603 - val_accuracy: 0.6278\n",
            "Epoch 14/50\n",
            "12/12 [==============================] - 0s 26ms/step - loss: 0.6635 - accuracy: 0.6266 - val_loss: 0.6603 - val_accuracy: 0.6278\n",
            "Epoch 15/50\n",
            "12/12 [==============================] - 0s 29ms/step - loss: 0.6624 - accuracy: 0.6274 - val_loss: 0.6601 - val_accuracy: 0.6278\n",
            "Epoch 16/50\n",
            "12/12 [==============================] - 0s 28ms/step - loss: 0.6616 - accuracy: 0.6274 - val_loss: 0.6602 - val_accuracy: 0.6278\n",
            "Epoch 17/50\n",
            "12/12 [==============================] - 0s 27ms/step - loss: 0.6623 - accuracy: 0.6274 - val_loss: 0.6602 - val_accuracy: 0.6278\n",
            "Epoch 18/50\n",
            "12/12 [==============================] - 0s 27ms/step - loss: 0.6629 - accuracy: 0.6274 - val_loss: 0.6601 - val_accuracy: 0.6278\n",
            "Epoch 19/50\n",
            "12/12 [==============================] - 0s 28ms/step - loss: 0.6617 - accuracy: 0.6274 - val_loss: 0.6602 - val_accuracy: 0.6278\n",
            "Epoch 20/50\n",
            "12/12 [==============================] - 0s 25ms/step - loss: 0.6609 - accuracy: 0.6274 - val_loss: 0.6602 - val_accuracy: 0.6278\n",
            "Epoch 21/50\n",
            "12/12 [==============================] - 0s 25ms/step - loss: 0.6624 - accuracy: 0.6274 - val_loss: 0.6601 - val_accuracy: 0.6278\n",
            "Epoch 22/50\n",
            "12/12 [==============================] - 0s 27ms/step - loss: 0.6628 - accuracy: 0.6274 - val_loss: 0.6603 - val_accuracy: 0.6278\n",
            "Epoch 23/50\n",
            "12/12 [==============================] - 0s 26ms/step - loss: 0.6622 - accuracy: 0.6274 - val_loss: 0.6601 - val_accuracy: 0.6278\n",
            "Epoch 24/50\n",
            "12/12 [==============================] - 0s 26ms/step - loss: 0.6616 - accuracy: 0.6274 - val_loss: 0.6603 - val_accuracy: 0.6278\n",
            "Epoch 25/50\n",
            "12/12 [==============================] - 0s 30ms/step - loss: 0.6622 - accuracy: 0.6274 - val_loss: 0.6604 - val_accuracy: 0.6278\n",
            "Epoch 26/50\n",
            "12/12 [==============================] - 0s 26ms/step - loss: 0.6621 - accuracy: 0.6274 - val_loss: 0.6603 - val_accuracy: 0.6278\n",
            "Epoch 27/50\n",
            "12/12 [==============================] - 0s 26ms/step - loss: 0.6607 - accuracy: 0.6274 - val_loss: 0.6602 - val_accuracy: 0.6278\n",
            "Epoch 28/50\n",
            "12/12 [==============================] - 0s 27ms/step - loss: 0.6611 - accuracy: 0.6274 - val_loss: 0.6601 - val_accuracy: 0.6278\n",
            "Epoch 29/50\n",
            "12/12 [==============================] - 0s 30ms/step - loss: 0.6614 - accuracy: 0.6274 - val_loss: 0.6601 - val_accuracy: 0.6278\n",
            "Epoch 30/50\n",
            "12/12 [==============================] - 0s 27ms/step - loss: 0.6619 - accuracy: 0.6274 - val_loss: 0.6601 - val_accuracy: 0.6278\n",
            "Epoch 31/50\n",
            "12/12 [==============================] - 0s 25ms/step - loss: 0.6612 - accuracy: 0.6274 - val_loss: 0.6601 - val_accuracy: 0.6278\n",
            "Epoch 32/50\n",
            "12/12 [==============================] - 0s 26ms/step - loss: 0.6605 - accuracy: 0.6274 - val_loss: 0.6601 - val_accuracy: 0.6278\n",
            "Epoch 33/50\n",
            "12/12 [==============================] - 0s 27ms/step - loss: 0.6615 - accuracy: 0.6274 - val_loss: 0.6601 - val_accuracy: 0.6278\n",
            "Epoch 34/50\n",
            "12/12 [==============================] - 0s 26ms/step - loss: 0.6615 - accuracy: 0.6274 - val_loss: 0.6603 - val_accuracy: 0.6278\n",
            "Epoch 35/50\n",
            "12/12 [==============================] - 0s 27ms/step - loss: 0.6605 - accuracy: 0.6274 - val_loss: 0.6601 - val_accuracy: 0.6278\n",
            "Epoch 36/50\n",
            "12/12 [==============================] - 0s 26ms/step - loss: 0.6613 - accuracy: 0.6274 - val_loss: 0.6601 - val_accuracy: 0.6278\n",
            "Epoch 37/50\n",
            "12/12 [==============================] - 0s 27ms/step - loss: 0.6611 - accuracy: 0.6274 - val_loss: 0.6602 - val_accuracy: 0.6278\n",
            "Epoch 38/50\n",
            "12/12 [==============================] - 0s 27ms/step - loss: 0.6605 - accuracy: 0.6274 - val_loss: 0.6601 - val_accuracy: 0.6278\n",
            "Epoch 39/50\n",
            "12/12 [==============================] - 0s 25ms/step - loss: 0.6616 - accuracy: 0.6274 - val_loss: 0.6602 - val_accuracy: 0.6278\n",
            "Epoch 40/50\n",
            "12/12 [==============================] - 0s 27ms/step - loss: 0.6613 - accuracy: 0.6274 - val_loss: 0.6601 - val_accuracy: 0.6278\n",
            "Epoch 41/50\n",
            "12/12 [==============================] - 0s 27ms/step - loss: 0.6610 - accuracy: 0.6274 - val_loss: 0.6603 - val_accuracy: 0.6278\n",
            "Epoch 42/50\n",
            "12/12 [==============================] - 0s 25ms/step - loss: 0.6614 - accuracy: 0.6274 - val_loss: 0.6601 - val_accuracy: 0.6278\n",
            "Epoch 43/50\n",
            "12/12 [==============================] - 0s 25ms/step - loss: 0.6605 - accuracy: 0.6274 - val_loss: 0.6601 - val_accuracy: 0.6278\n",
            "Epoch 44/50\n",
            "12/12 [==============================] - 0s 27ms/step - loss: 0.6621 - accuracy: 0.6274 - val_loss: 0.6601 - val_accuracy: 0.6278\n",
            "Epoch 45/50\n",
            "12/12 [==============================] - 0s 25ms/step - loss: 0.6607 - accuracy: 0.6274 - val_loss: 0.6602 - val_accuracy: 0.6278\n",
            "Epoch 46/50\n",
            "12/12 [==============================] - 0s 25ms/step - loss: 0.6606 - accuracy: 0.6274 - val_loss: 0.6601 - val_accuracy: 0.6278\n",
            "Epoch 47/50\n",
            "12/12 [==============================] - 0s 26ms/step - loss: 0.6612 - accuracy: 0.6274 - val_loss: 0.6601 - val_accuracy: 0.6278\n",
            "Epoch 48/50\n",
            "12/12 [==============================] - 0s 27ms/step - loss: 0.6617 - accuracy: 0.6274 - val_loss: 0.6602 - val_accuracy: 0.6278\n",
            "Epoch 49/50\n",
            "12/12 [==============================] - 0s 26ms/step - loss: 0.6607 - accuracy: 0.6274 - val_loss: 0.6601 - val_accuracy: 0.6278\n",
            "Epoch 50/50\n",
            "12/12 [==============================] - 0s 25ms/step - loss: 0.6605 - accuracy: 0.6274 - val_loss: 0.6601 - val_accuracy: 0.6278\n"
          ]
        }
      ]
    },
    {
      "cell_type": "code",
      "source": [
        "import numpy as np\n",
        "from matplotlib import pyplot as plt\n",
        "from sklearn.model_selection import train_test_split\n",
        "from tensorflow.keras.callbacks import EarlyStopping\n",
        "\n",
        "# Step 1: Instantiate the model\n",
        "model = lstm_model(num_alphabets=27, name_length=50, embedding_dim=256)\n",
        "\n",
        "# Step 2: Split Training and Test Data\n",
        "X = np.asarray(names_df['name'].values.tolist())\n",
        "y = np.asarray(names_df['gender'].values.tolist())\n",
        "\n",
        "X_train, X_test, y_train, y_test = train_test_split(X,\n",
        "                                                    y,\n",
        "                                                    test_size=0.2,\n",
        "                                                    random_state=0)\n",
        "\n",
        "# Step 3: Train the model\n",
        "callbacks = [\n",
        "    EarlyStopping(monitor='val_accuracy',\n",
        "                  min_delta=1e-3,\n",
        "                  patience=5,\n",
        "                  mode='max',\n",
        "                  restore_best_weights=True,\n",
        "                  verbose=1),\n",
        "]\n",
        "\n",
        "history = model.fit(x=X_train,\n",
        "                    y=y_train,\n",
        "                    batch_size=64,\n",
        "                    epochs=50,\n",
        "                    validation_data=(X_test, y_test),\n",
        "                    callbacks=callbacks)\n",
        "\n",
        "# Step 4: Save the model\n",
        "model.save('maleorfemale.h5')\n",
        "\n",
        "# Step 5: Plot accuracies\n",
        "plt.plot(history.history['accuracy'], label='train')\n",
        "plt.plot(history.history['val_accuracy'], label='val')\n",
        "plt.xlabel('Epochs')\n",
        "plt.ylabel('Accuracy')\n",
        "plt.legend()"
      ],
      "metadata": {
        "colab": {
          "base_uri": "https://localhost:8080/",
          "height": 539
        },
        "id": "s2bX1j-MXc8q",
        "outputId": "056101dd-e6b3-40e1-be14-049c0a1fa884"
      },
      "execution_count": 57,
      "outputs": [
        {
          "output_type": "stream",
          "name": "stdout",
          "text": [
            "Epoch 1/50\n",
            "100/100 [==============================] - 38s 316ms/step - loss: 0.0569 - accuracy: 0.9991 - val_loss: 2.9675e-04 - val_accuracy: 1.0000\n",
            "Epoch 2/50\n",
            "100/100 [==============================] - 27s 273ms/step - loss: 2.0994e-04 - accuracy: 1.0000 - val_loss: 1.3555e-04 - val_accuracy: 1.0000\n",
            "Epoch 3/50\n",
            "100/100 [==============================] - 27s 272ms/step - loss: 1.1386e-04 - accuracy: 1.0000 - val_loss: 8.5442e-05 - val_accuracy: 1.0000\n",
            "Epoch 4/50\n",
            "100/100 [==============================] - 27s 270ms/step - loss: 7.6514e-05 - accuracy: 1.0000 - val_loss: 6.1301e-05 - val_accuracy: 1.0000\n",
            "Epoch 5/50\n",
            "100/100 [==============================] - 27s 268ms/step - loss: 5.6986e-05 - accuracy: 1.0000 - val_loss: 4.7059e-05 - val_accuracy: 1.0000\n",
            "Epoch 6/50\n",
            "100/100 [==============================] - ETA: 0s - loss: 4.4833e-05 - accuracy: 1.0000Restoring model weights from the end of the best epoch: 1.\n",
            "100/100 [==============================] - 27s 273ms/step - loss: 4.4833e-05 - accuracy: 1.0000 - val_loss: 3.7679e-05 - val_accuracy: 1.0000\n",
            "Epoch 6: early stopping\n"
          ]
        },
        {
          "output_type": "execute_result",
          "data": {
            "text/plain": [
              "<matplotlib.legend.Legend at 0x7f6270f5ccd0>"
            ]
          },
          "metadata": {},
          "execution_count": 57
        },
        {
          "output_type": "display_data",
          "data": {
            "text/plain": [
              "<Figure size 432x288 with 1 Axes>"
            ],
            "image/png": "[encoded data removed]"
          },
          "metadata": {
            "needs_background": "light"
          }
        }
      ]
    },
    {
      "cell_type": "code",
      "source": [
        "from tensorflow.keras.models import load_model\n",
        "import pandas as pd\n",
        "import numpy as np\n",
        "\n",
        "pred_model = load_model('maleorfemale.h5')\n",
        "\n",
        "# Input names\n",
        "names = ['Chris', 'Edna', 'Guenevere', 'Fonsie']\n",
        "\n",
        "# Convert to dataframe\n",
        "pred_df = pd.DataFrame({'name': names})\n",
        "\n",
        "# Preprocess\n",
        "pred_df = preprocess(pred_df, train=False)\n",
        "\n",
        "# Predictions\n",
        "result = pred_model.predict(np.asarray(\n",
        "    pred_df['name'].values.tolist())).squeeze(axis=1)\n",
        "\n",
        "pred_df['Male or Female?'] = [\n",
        "    'Male' if logit > 0.5 else 'Female' for logit in result\n",
        "]\n",
        "\n",
        "pred_df['Probability'] = [\n",
        "    logit if logit > 0.5 else 1.0 - logit for logit in result\n",
        "]\n",
        "\n",
        "# Format the output\n",
        "pred_df['name'] = names\n",
        "pred_df.rename(columns={'name': 'Name'}, inplace=True)\n",
        "pred_df['Probability'] = pred_df['Probability'].round(2)\n",
        "pred_df.drop_duplicates(inplace=True)\n",
        "\n",
        "pred_df.head()"
      ],
      "metadata": {
        "colab": {
          "base_uri": "https://localhost:8080/",
          "height": 175
        },
        "id": "u0SKBo3CG8O3",
        "outputId": "c0437ac1-f0a3-476c-e293-5c2585c09d4e"
      },
      "execution_count": 58,
      "outputs": [
        {
          "output_type": "execute_result",
          "data": {
            "text/plain": [
              "        Name Male or Female?  Probability\n",
              "0      Chris            Male          1.0\n",
              "1       Edna            Male          1.0\n",
              "2  Guenevere            Male          1.0\n",
              "3     Fonsie            Male          1.0"
            ],
            "text/html": [
              "\n",
              "  <div id=\"df-65707c9a-ff78-4ba6-87fa-caa2c3c9bf6f\">\n",
              "    <div class=\"colab-df-container\">\n",
              "      <div>\n",
              "<style scoped>\n",
              "    .dataframe tbody tr th:only-of-type {\n",
              "        vertical-align: middle;\n",
              "    }\n",
              "\n",
              "    .dataframe tbody tr th {\n",
              "        vertical-align: top;\n",
              "    }\n",
              "\n",
              "    .dataframe thead th {\n",
              "        text-align: right;\n",
              "    }\n",
              "</style>\n",
              "<table border=\"1\" class=\"dataframe\">\n",
              "  <thead>\n",
              "    <tr style=\"text-align: right;\">\n",
              "      <th></th>\n",
              "      <th>Name</th>\n",
              "      <th>Male or Female?</th>\n",
              "      <th>Probability</th>\n",
              "    </tr>\n",
              "  </thead>\n",
              "  <tbody>\n",
              "    <tr>\n",
              "      <th>0</th>\n",
              "      <td>Chris</td>\n",
              "      <td>Male</td>\n",
              "      <td>1.0</td>\n",
              "    </tr>\n",
              "    <tr>\n",
              "      <th>1</th>\n",
              "      <td>Edna</td>\n",
              "      <td>Male</td>\n",
              "      <td>1.0</td>\n",
              "    </tr>\n",
              "    <tr>\n",
              "      <th>2</th>\n",
              "      <td>Guenevere</td>\n",
              "      <td>Male</td>\n",
              "      <td>1.0</td>\n",
              "    </tr>\n",
              "    <tr>\n",
              "      <th>3</th>\n",
              "      <td>Fonsie</td>\n",
              "      <td>Male</td>\n",
              "      <td>1.0</td>\n",
              "    </tr>\n",
              "  </tbody>\n",
              "</table>\n",
              "</div>\n",
              "      <button class=\"colab-df-convert\" onclick=\"convertToInteractive('df-65707c9a-ff78-4ba6-87fa-caa2c3c9bf6f')\"\n",
              "              title=\"Convert this dataframe to an interactive table.\"\n",
              "              style=\"display:none;\">\n",
              "        \n",
              "  <svg xmlns=\"http://www.w3.org/2000/svg\" height=\"24px\"viewBox=\"0 0 24 24\"\n",
              "       width=\"24px\">\n",
              "    <path d=\"M0 0h24v24H0V0z\" fill=\"none\"/>\n",
              "    <path d=\"M18.56 5.44l.94 2.06.94-2.06 2.06-.94-2.06-.94-.94-2.06-.94 2.06-2.06.94zm-11 1L8.5 8.5l.94-2.06 2.06-.94-2.06-.94L8.5 2.5l-.94 2.06-2.06.94zm10 10l.94 2.06.94-2.06 2.06-.94-2.06-.94-.94-2.06-.94 2.06-2.06.94z\"/><path d=\"M17.41 7.96l-1.37-1.37c-.4-.4-.92-.59-1.43-.59-.52 0-1.04.2-1.43.59L10.3 9.45l-7.72 7.72c-.78.78-.78 2.05 0 2.83L4 21.41c.39.39.9.59 1.41.59.51 0 1.02-.2 1.41-.59l7.78-7.78 2.81-2.81c.8-.78.8-2.07 0-2.86zM5.41 20L4 18.59l7.72-7.72 1.47 1.35L5.41 20z\"/>\n",
              "  </svg>\n",
              "      </button>\n",
              "      \n",
              "  <style>\n",
              "    .colab-df-container {\n",
              "      display:flex;\n",
              "      flex-wrap:wrap;\n",
              "      gap: 12px;\n",
              "    }\n",
              "\n",
              "    .colab-df-convert {\n",
              "      background-color: #E8F0FE;\n",
              "      border: none;\n",
              "      border-radius: 50%;\n",
              "      cursor: pointer;\n",
              "      display: none;\n",
              "      fill: #1967D2;\n",
              "      height: 32px;\n",
              "      padding: 0 0 0 0;\n",
              "      width: 32px;\n",
              "    }\n",
              "\n",
              "    .colab-df-convert:hover {\n",
              "      background-color: #E2EBFA;\n",
              "      box-shadow: 0px 1px 2px rgba(60, 64, 67, 0.3), 0px 1px 3px 1px rgba(60, 64, 67, 0.15);\n",
              "      fill: #174EA6;\n",
              "    }\n",
              "\n",
              "    [theme=dark] .colab-df-convert {\n",
              "      background-color: #3B4455;\n",
              "      fill: #D2E3FC;\n",
              "    }\n",
              "\n",
              "    [theme=dark] .colab-df-convert:hover {\n",
              "      background-color: #434B5C;\n",
              "      box-shadow: 0px 1px 3px 1px rgba(0, 0, 0, 0.15);\n",
              "      filter: drop-shadow(0px 1px 2px rgba(0, 0, 0, 0.3));\n",
              "      fill: #FFFFFF;\n",
              "    }\n",
              "  </style>\n",
              "\n",
              "      <script>\n",
              "        const buttonEl =\n",
              "          document.querySelector('#df-65707c9a-ff78-4ba6-87fa-caa2c3c9bf6f button.colab-df-convert');\n",
              "        buttonEl.style.display =\n",
              "          google.colab.kernel.accessAllowed ? 'block' : 'none';\n",
              "\n",
              "        async function convertToInteractive(key) {\n",
              "          const element = document.querySelector('#df-65707c9a-ff78-4ba6-87fa-caa2c3c9bf6f');\n",
              "          const dataTable =\n",
              "            await google.colab.kernel.invokeFunction('convertToInteractive',\n",
              "                                                     [key], {});\n",
              "          if (!dataTable) return;\n",
              "\n",
              "          const docLinkHtml = 'Like what you see? Visit the ' +\n",
              "            '<a target=\"_blank\" href=https://colab.research.google.com/notebooks/data_table.ipynb>data table notebook</a>'\n",
              "            + ' to learn more about interactive tables.';\n",
              "          element.innerHTML = '';\n",
              "          dataTable['output_type'] = 'display_data';\n",
              "          await google.colab.output.renderOutput(dataTable, element);\n",
              "          const docLink = document.createElement('div');\n",
              "          docLink.innerHTML = docLinkHtml;\n",
              "          element.appendChild(docLink);\n",
              "        }\n",
              "      </script>\n",
              "    </div>\n",
              "  </div>\n",
              "  "
            ]
          },
          "metadata": {},
          "execution_count": 58
        }
      ]
    }
  ]
}